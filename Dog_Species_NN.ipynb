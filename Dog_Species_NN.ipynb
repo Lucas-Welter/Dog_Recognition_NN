{
  "cells": [
    {
      "cell_type": "markdown",
      "metadata": {
        "id": "view-in-github",
        "colab_type": "text"
      },
      "source": [
        "<a href=\"https://colab.research.google.com/github/Lucas-Welter/Dog_Recognition_NN/blob/main/Dog_Species_NN.ipynb\" target=\"_parent\"><img src=\"https://colab.research.google.com/assets/colab-badge.svg\" alt=\"Open In Colab\"/></a>"
      ]
    },
    {
      "cell_type": "code",
      "execution_count": null,
      "metadata": {
        "id": "nI2bTqyjIpTF"
      },
      "outputs": [],
      "source": [
        "import urllib.request\n",
        "import os\n",
        "from PIL import Image,ImageStat\n",
        "import numpy as np\n",
        "import matplotlib.pyplot as plt\n",
        "\n",
        "import torchvision\n",
        "import torch\n",
        "import torch.nn as nn\n",
        "from torch.utils.data import  DataLoader\n",
        "import torchvision.transforms as transforms\n",
        "\n",
        "from torch import optim \n",
        "import sklearn.metrics as metrics"
      ]
    },
    {
      "cell_type": "code",
      "execution_count": null,
      "metadata": {
        "id": "i4O2hKZEMVH3"
      },
      "outputs": [],
      "source": [
        "import torch.nn.functional as F"
      ]
    },
    {
      "cell_type": "markdown",
      "metadata": {
        "id": "u1rFreOlZ3QA"
      },
      "source": [
        "# Dog Species Recognition Neural Network"
      ]
    },
    {
      "cell_type": "code",
      "execution_count": null,
      "metadata": {
        "colab": {
          "base_uri": "https://localhost:8080/"
        },
        "id": "m9nc3ZDwaz2F",
        "outputId": "0240ed48-0f77-4799-ed7f-ad730d863ed4"
      },
      "outputs": [
        {
          "output_type": "stream",
          "name": "stdout",
          "text": [
            "Drive already mounted at /content/drive; to attempt to forcibly remount, call drive.mount(\"/content/drive\", force_remount=True).\n"
          ]
        }
      ],
      "source": [
        "from google.colab import drive\n",
        "drive.mount('/content/drive')"
      ]
    },
    {
      "cell_type": "code",
      "execution_count": null,
      "metadata": {
        "id": "m1G7R7bpbPWV"
      },
      "outputs": [],
      "source": [
        "main_dir = \"/content/drive/MyDrive/cachorros\""
      ]
    },
    {
      "cell_type": "code",
      "execution_count": null,
      "metadata": {
        "id": "scWqXuEvbK9n"
      },
      "outputs": [],
      "source": [
        "os.chdir(main_dir)"
      ]
    },
    {
      "cell_type": "code",
      "execution_count": null,
      "metadata": {
        "colab": {
          "base_uri": "https://localhost:8080/"
        },
        "id": "DSDCDx5GbhHL",
        "outputId": "fb3b8bbc-b137-4790-b756-d534c7edc16f"
      },
      "outputs": [
        {
          "output_type": "stream",
          "name": "stdout",
          "text": [
            " \u001b[0m\u001b[01;34makita\u001b[0m/            \u001b[01;34m'cachorro rottweiler'\u001b[0m/      pastorAlemao.csv\n",
            " akita.csv         'cachorro rottweiler.csv'   \u001b[01;34mpinscher\u001b[0m/\n",
            " \u001b[01;34mbeagle\u001b[0m/            \u001b[01;34mchowChow\u001b[0m/                  pinscher.csv\n",
            " beagle.csv         chowChow.csv               \u001b[01;34mpitbull\u001b[0m/\n",
            " best_model2.pth    \u001b[01;34mdalmata\u001b[0m/                   pitbull.csv\n",
            " best_model3.pth    dalmata.csv                \u001b[01;34mpoodle\u001b[0m/\n",
            " best_model.pth     \u001b[01;34mgalgo\u001b[0m/                     poodle.csv\n",
            " \u001b[01;34mbloodhound\u001b[0m/        galgo.csv                  \u001b[01;34mpug\u001b[0m/\n",
            " bloodhound.csv     \u001b[01;34mgoldenRetriever\u001b[0m/           pug.csv\n",
            " \u001b[01;34mbordercollie\u001b[0m/      goldenRetriever.csv        README.txt\n",
            " bordercollie.csv   \u001b[01;34mhuskySiberiano\u001b[0m/            \u001b[01;34msharpei\u001b[0m/\n",
            " \u001b[01;34mbulldog\u001b[0m/           huskySiberiano.csv         sharpei.csv\n",
            " bulldog.csv        \u001b[01;34mlabrador\u001b[0m/                  \u001b[01;34myorkshire\u001b[0m/\n",
            " \u001b[01;34mbullTerrier\u001b[0m/       labrador.csv               yorkshire.csv\n",
            " bullTerrier.csv    \u001b[01;34mpastorAlemao\u001b[0m/\n"
          ]
        }
      ],
      "source": [
        "ls"
      ]
    },
    {
      "cell_type": "markdown",
      "metadata": {
        "id": "KXVPbRF-cDHy"
      },
      "source": [
        "# Building the Loader"
      ]
    },
    {
      "cell_type": "code",
      "execution_count": null,
      "metadata": {
        "id": "7ijqTxeVlEAi"
      },
      "outputs": [],
      "source": [
        "def image_loader(img):\n",
        "    return Image.open(img).convert(\"RGB\")"
      ]
    },
    {
      "cell_type": "code",
      "execution_count": null,
      "metadata": {
        "id": "G655t4I_cPp-"
      },
      "outputs": [],
      "source": [
        "img = image_loader('./beagle/3212400111_52c4e1905a_n.jpg')"
      ]
    },
    {
      "cell_type": "code",
      "execution_count": null,
      "metadata": {
        "colab": {
          "base_uri": "https://localhost:8080/"
        },
        "id": "FNd6Jcm9cgNm",
        "outputId": "91a597c3-8276-4bf5-cd2d-34bb8b20b40b"
      },
      "outputs": [
        {
          "output_type": "execute_result",
          "data": {
            "text/plain": [
              "<PIL.Image.Image image mode=RGB size=320x240 at 0x7F27B63FA490>"
            ],
            "image/png": "[encoded data removed]"
          },
          "metadata": {},
          "execution_count": 300
        }
      ],
      "source": [
        "img"
      ]
    },
    {
      "cell_type": "code",
      "execution_count": null,
      "metadata": {
        "id": "OqZQC88RcklW"
      },
      "outputs": [],
      "source": [
        "tconvert = transforms.Resize((224,224))"
      ]
    },
    {
      "cell_type": "code",
      "execution_count": null,
      "metadata": {
        "id": "jkC0qCjxc3Ve"
      },
      "outputs": [],
      "source": [
        "transform = transforms.Compose([transforms.Resize((224,224)),\n",
        "                                transforms.ToTensor(),\n",
        "                                transforms.Normalize((0.485, 0.456, 0.406), (0.229, 0.224, 0.225))\n",
        "                            ])"
      ]
    },
    {
      "cell_type": "code",
      "execution_count": null,
      "metadata": {
        "id": "43G7iBswc_L3"
      },
      "outputs": [],
      "source": [
        "img_tensor = transform(img)"
      ]
    },
    {
      "cell_type": "code",
      "execution_count": null,
      "metadata": {
        "colab": {
          "base_uri": "https://localhost:8080/"
        },
        "id": "Tbo622MDdBt3",
        "outputId": "198934a7-4c06-449c-d113-d850ea30ac28"
      },
      "outputs": [
        {
          "output_type": "execute_result",
          "data": {
            "text/plain": [
              "torch.Size([3, 224, 224])"
            ]
          },
          "metadata": {},
          "execution_count": 304
        }
      ],
      "source": [
        "img_tensor.shape"
      ]
    },
    {
      "cell_type": "markdown",
      "source": [
        "# Dataset Class"
      ],
      "metadata": {
        "id": "8MBSLQbhuzqM"
      }
    },
    {
      "cell_type": "code",
      "execution_count": null,
      "metadata": {
        "colab": {
          "base_uri": "https://localhost:8080/"
        },
        "id": "Kve6tSqCdDOH",
        "outputId": "19fc9c44-4096-4f7e-d4b1-3946c6779c9e"
      },
      "outputs": [
        {
          "output_type": "stream",
          "name": "stdout",
          "text": [
            " akita\t\t   'cachorro rottweiler'       pastorAlemao.csv\n",
            " akita.csv\t   'cachorro rottweiler.csv'   pinscher\n",
            " beagle\t\t    chowChow\t\t       pinscher.csv\n",
            " beagle.csv\t    chowChow.csv\t       pitbull\n",
            " best_model2.pth    dalmata\t\t       pitbull.csv\n",
            " best_model3.pth    dalmata.csv\t\t       poodle\n",
            " best_model.pth     galgo\t\t       poodle.csv\n",
            " bloodhound\t    galgo.csv\t\t       pug\n",
            " bloodhound.csv     goldenRetriever\t       pug.csv\n",
            " bordercollie\t    goldenRetriever.csv        README.txt\n",
            " bordercollie.csv   huskySiberiano\t       sharpei\n",
            " bulldog\t    huskySiberiano.csv\t       sharpei.csv\n",
            " bulldog.csv\t    labrador\t\t       yorkshire\n",
            " bullTerrier\t    labrador.csv\t       yorkshire.csv\n",
            " bullTerrier.csv    pastorAlemao\n"
          ]
        }
      ],
      "source": [
        "!ls"
      ]
    },
    {
      "cell_type": "code",
      "execution_count": null,
      "metadata": {
        "id": "giXIARXxegUe"
      },
      "outputs": [],
      "source": [
        "dir = './'"
      ]
    },
    {
      "cell_type": "code",
      "execution_count": null,
      "metadata": {
        "colab": {
          "base_uri": "https://localhost:8080/"
        },
        "id": "7SOmNS-HdC4V",
        "outputId": "985ef0b8-13f5-45cb-9fff-401083dafbea"
      },
      "outputs": [
        {
          "output_type": "stream",
          "name": "stdout",
          "text": [
            "<DirEntry 'poodle.csv'>\n",
            "<DirEntry 'pinscher.csv'>\n",
            "<DirEntry 'bulldog.csv'>\n",
            "<DirEntry 'pastorAlemao.csv'>\n",
            "<DirEntry 'labrador.csv'>\n",
            "<DirEntry 'beagle.csv'>\n",
            "<DirEntry 'pitbull.csv'>\n",
            "<DirEntry 'yorkshire.csv'>\n",
            "<DirEntry 'huskySiberiano.csv'>\n",
            "<DirEntry 'goldenRetriever.csv'>\n",
            "<DirEntry 'bloodhound.csv'>\n",
            "<DirEntry 'bordercollie.csv'>\n",
            "<DirEntry 'chowChow.csv'>\n",
            "<DirEntry 'dalmata.csv'>\n",
            "<DirEntry 'galgo.csv'>\n",
            "<DirEntry 'sharpei.csv'>\n",
            "<DirEntry 'cachorro rottweiler.csv'>\n",
            "<DirEntry 'bullTerrier.csv'>\n",
            "<DirEntry 'pug.csv'>\n",
            "<DirEntry 'beagle'>\n",
            "<DirEntry 'bloodhound'>\n",
            "<DirEntry 'bordercollie'>\n",
            "<DirEntry 'bulldog'>\n",
            "<DirEntry 'bullTerrier'>\n",
            "<DirEntry 'chowChow'>\n",
            "<DirEntry 'dalmata'>\n",
            "<DirEntry 'galgo'>\n",
            "<DirEntry 'goldenRetriever'>\n",
            "<DirEntry 'huskySiberiano'>\n",
            "<DirEntry 'labrador'>\n",
            "<DirEntry 'pastorAlemao'>\n",
            "<DirEntry 'pinscher'>\n",
            "<DirEntry 'pitbull'>\n",
            "<DirEntry 'poodle'>\n",
            "<DirEntry 'pug'>\n",
            "<DirEntry 'sharpei'>\n",
            "<DirEntry 'yorkshire'>\n",
            "<DirEntry 'cachorro rottweiler'>\n",
            "<DirEntry 'akita'>\n",
            "<DirEntry 'akita.csv'>\n",
            "<DirEntry 'README.txt'>\n",
            "<DirEntry 'best_model.pth'>\n",
            "<DirEntry 'best_model3.pth'>\n",
            "<DirEntry 'best_model2.pth'>\n"
          ]
        }
      ],
      "source": [
        "for file_names in os.scandir('./'):\n",
        "    print(file_names)"
      ]
    },
    {
      "cell_type": "code",
      "execution_count": null,
      "metadata": {
        "id": "1JPLlVjXewEo"
      },
      "outputs": [],
      "source": [
        "classes = [d.name for d in os.scandir(dir) if d.is_dir()]"
      ]
    },
    {
      "cell_type": "code",
      "execution_count": null,
      "metadata": {
        "colab": {
          "base_uri": "https://localhost:8080/"
        },
        "id": "QTIk8aO-ev-S",
        "outputId": "1f228f47-4b43-40c4-bab1-cfa9eefe04ef"
      },
      "outputs": [
        {
          "output_type": "execute_result",
          "data": {
            "text/plain": [
              "['beagle',\n",
              " 'bloodhound',\n",
              " 'bordercollie',\n",
              " 'bulldog',\n",
              " 'bullTerrier',\n",
              " 'chowChow',\n",
              " 'dalmata',\n",
              " 'galgo',\n",
              " 'goldenRetriever',\n",
              " 'huskySiberiano',\n",
              " 'labrador',\n",
              " 'pastorAlemao',\n",
              " 'pinscher',\n",
              " 'pitbull',\n",
              " 'poodle',\n",
              " 'pug',\n",
              " 'sharpei',\n",
              " 'yorkshire',\n",
              " 'cachorro rottweiler',\n",
              " 'akita']"
            ]
          },
          "metadata": {},
          "execution_count": 309
        }
      ],
      "source": [
        "classes"
      ]
    },
    {
      "cell_type": "code",
      "execution_count": null,
      "metadata": {
        "id": "7qx6uf3EexTu"
      },
      "outputs": [],
      "source": [
        "class_to_idx = {cls_name: i for i, cls_name in enumerate(classes)}"
      ]
    },
    {
      "cell_type": "code",
      "execution_count": null,
      "metadata": {
        "colab": {
          "base_uri": "https://localhost:8080/"
        },
        "id": "IAYTphlbe5oW",
        "outputId": "1e16a0f8-4cf3-4f43-8f31-05a65d6db075"
      },
      "outputs": [
        {
          "output_type": "execute_result",
          "data": {
            "text/plain": [
              "{'beagle': 0,\n",
              " 'bloodhound': 1,\n",
              " 'bordercollie': 2,\n",
              " 'bulldog': 3,\n",
              " 'bullTerrier': 4,\n",
              " 'chowChow': 5,\n",
              " 'dalmata': 6,\n",
              " 'galgo': 7,\n",
              " 'goldenRetriever': 8,\n",
              " 'huskySiberiano': 9,\n",
              " 'labrador': 10,\n",
              " 'pastorAlemao': 11,\n",
              " 'pinscher': 12,\n",
              " 'pitbull': 13,\n",
              " 'poodle': 14,\n",
              " 'pug': 15,\n",
              " 'sharpei': 16,\n",
              " 'yorkshire': 17,\n",
              " 'cachorro rottweiler': 18,\n",
              " 'akita': 19}"
            ]
          },
          "metadata": {},
          "execution_count": 311
        }
      ],
      "source": [
        "class_to_idx"
      ]
    },
    {
      "cell_type": "code",
      "execution_count": null,
      "metadata": {
        "id": "Jh-EfjO2e5cX"
      },
      "outputs": [],
      "source": [
        "instances = []\n",
        "for target_class in sorted(class_to_idx.keys()):\n",
        "        class_index = class_to_idx[target_class]\n",
        "        target_dir = os.path.join(dir, target_class)\n",
        "        for root, _, fnames in sorted(os.walk(target_dir, followlinks=True)):\n",
        "            for fname in sorted(fnames):\n",
        "                path = os.path.join(root, fname)\n",
        "                item = path, class_index\n",
        "                instances.append(item)"
      ]
    },
    {
      "cell_type": "code",
      "execution_count": null,
      "metadata": {
        "colab": {
          "base_uri": "https://localhost:8080/"
        },
        "id": "sovF-VNkfAAO",
        "outputId": "87185b20-23eb-4f06-993a-e301de7bfded"
      },
      "outputs": [
        {
          "output_type": "execute_result",
          "data": {
            "text/plain": [
              "[('./akita/10387923145_d7862c8769_m.jpg', 19),\n",
              " ('./akita/106596984_fff2c7d32e_m.jpg', 19),\n",
              " ('./akita/10898137784_77d73b5122_n.jpg', 19),\n",
              " ('./akita/11242870974_3ebe96dc9e_n.jpg', 19),\n",
              " ('./akita/11523589896_37e6eda5d2_n.jpg', 19),\n",
              " ('./akita/11528077396_495021e750_n.jpg', 19),\n",
              " ('./akita/11593544646_d539189b5b_w.jpg', 19),\n",
              " ('./akita/11675400965_fe62a1ceda_n.jpg', 19),\n",
              " ('./akita/11676179776_39dc2edf1f_n.jpg', 19),\n",
              " ('./akita/12170156226_6909c595a0_m.jpg', 19),\n",
              " ('./akita/12292651606_2c8055c8bf_w.jpg', 19),\n",
              " ('./akita/1255928226_e6fad2115b_m.jpg', 19),\n",
              " ('./akita/12839903553_124e99f8ae_n.jpg', 19),\n",
              " ('./akita/14555781696_e1e76b1cb4_n.jpg', 19),\n",
              " ('./akita/14631970615_566192dbfd_n.jpg', 19),\n",
              " ('./akita/14695370660_4d25e9d4cf_n.jpg', 19),\n",
              " ('./akita/14708212355_87cf11d656_n.jpg', 19),\n",
              " ('./akita/14738128580_e9986b1be4_n.jpg', 19),\n",
              " ('./akita/14781387168_3295e048e1_n.jpg', 19),\n",
              " ('./akita/15063824714_7f460b67e9_n.jpg', 19),\n",
              " ('./akita/15160009830_7be732e286_w.jpg', 19),\n",
              " ('./akita/15163504928_16201a236e_n.jpg', 19),\n",
              " ('./akita/15163565797_f85ce7b155_n.jpg', 19),\n",
              " ('./akita/15209746987_88953b08d2_n.jpg', 19),\n",
              " ('./akita/15240831491_b212d1327c_n.jpg', 19),\n",
              " ('./akita/15284302628_2938ecf5bd_w.jpg', 19),\n",
              " ('./akita/15671345802_85ab49e8d1_n.jpg', 19),\n",
              " ('./akita/15763808953_12f72fd19c_n.jpg', 19),\n",
              " ('./akita/15884536585_28c8692ebb_n.jpg', 19),\n",
              " ('./akita/15925602841_3db470d082_n.jpg', 19),\n",
              " ('./akita/15933724740_dbf2f7ef84_n.jpg', 19),\n",
              " ('./akita/16381868530_a0da4b35b5_n.jpg', 19),\n",
              " ('./akita/16418562567_0d1e12b2fd_n.jpg', 19),\n",
              " ('./akita/16625156292_8b57225e2a_n.jpg', 19),\n",
              " ('./akita/16625889515_9e64ff0791_m.jpg', 19),\n",
              " ('./akita/16795594955_80b79d247e_n.jpg', 19),\n",
              " ('./akita/16925630924_a0b3ce2c4f_n.jpg', 19),\n",
              " ('./akita/17014690747_0c2c26ec99_n.jpg', 19),\n",
              " ('./akita/17072196373_915ae93d01_m.jpg', 19),\n",
              " ('./akita/17120007386_7af199d34d_n.jpg', 19),\n",
              " ('./akita/17197855611_7f19699c9f_m.jpg', 19),\n",
              " ('./akita/17360556740_f78d20c8e3_n.jpg', 19),\n",
              " ('./akita/17498910205_e8bb178065_m.jpg', 19),\n",
              " ('./akita/19970901595_6600d96837_m.jpg', 19),\n",
              " ('./akita/20211833706_f8e1e08fa6_w.jpg', 19),\n",
              " ('./akita/2068443585_4117277580_n.jpg', 19),\n",
              " ('./akita/20787111964_ffaf7dcf57_n.jpg', 19),\n",
              " ('./akita/20787121514_4434301f6f_n.jpg', 19),\n",
              " ('./akita/20788629723_32e3d16e9a_m.jpg', 19),\n",
              " ('./akita/20960497408_04beecd2ae_n.jpg', 19),\n",
              " ('./akita/20961586569_3696a1f8c3_m.jpg', 19),\n",
              " ('./akita/21221555988_a32f5b062f_n.jpg', 19),\n",
              " ('./akita/21222495649_bc323f6db1_w.jpg', 19),\n",
              " ('./akita/21409366365_d86763d503_m.jpg', 19),\n",
              " ('./akita/2166537353_dbb60a9bbe_n.jpg', 19),\n",
              " ('./akita/22278545648_b17594310e_n.jpg', 19),\n",
              " ('./akita/2324466875_5cf7f3c213_m.jpg', 19),\n",
              " ('./akita/23626266758_73ebaeb23f_m.jpg', 19),\n",
              " ('./akita/23903427938_d004eb663f_n.jpg', 19),\n",
              " ('./akita/23974079187_86bb807094_m.jpg', 19),\n",
              " ('./akita/23993628777_2f0484877a_n.jpg', 19),\n",
              " ('./akita/2400548305_fd26b9d0fb_n.jpg', 19),\n",
              " ('./akita/24179186919_86457fde60_n.jpg', 19),\n",
              " ('./akita/2438642147_40a16ee65c_n.jpg', 19),\n",
              " ('./akita/2438642153_78b9f9cfde_n.jpg', 19),\n",
              " ('./akita/24502008717_de086bd048_n.jpg', 19),\n",
              " ('./akita/2526490562_5dddb12033_n.jpg', 19),\n",
              " ('./akita/2545773694_02aaec570c_m.jpg', 19),\n",
              " ('./akita/26320872229_0a3d5da50c_m.jpg', 19),\n",
              " ('./akita/26320872539_4db893984a_n.jpg', 19),\n",
              " ('./akita/26320872849_3be9befc2a_m.jpg', 19),\n",
              " ('./akita/26501774696_5ff847d84e_n.jpg', 19),\n",
              " ('./akita/27187720339_1ed9791f43_m.jpg', 19),\n",
              " ('./akita/27515872334_e2e95fcb1c_m.jpg', 19),\n",
              " ('./akita/27692876743_4a501084ff_n.jpg', 19),\n",
              " ('./akita/27701027271_9d5bc0f5b3_n.jpg', 19),\n",
              " ('./akita/27721998442_e5d50a7b6b_n.jpg', 19),\n",
              " ('./akita/27741651386_dfa313cc55_n.jpg', 19),\n",
              " ('./akita/27819911567_3e7ea0900a_n.jpg', 19),\n",
              " ('./akita/27881925371_365baa4051_m.jpg', 19),\n",
              " ('./akita/27959094445_e48daf4c47_n.jpg', 19),\n",
              " ('./akita/28027132820_b8d342b3bf_n.jpg', 19),\n",
              " ('./akita/28103285607_0cb0c7613c_n.jpg', 19),\n",
              " ('./akita/28117526221_7c7d77b5f0_m.jpg', 19),\n",
              " ('./akita/28117548831_18833a065f_n.jpg', 19),\n",
              " ('./akita/28212244329_709b195a7c_n.jpg', 19),\n",
              " ('./akita/28214146308_8f6f753a90_n.jpg', 19),\n",
              " ('./akita/28322619705_f325637fcd_n.jpg', 19),\n",
              " ('./akita/28694304554_f7354f20bd_m.jpg', 19),\n",
              " ('./akita/28969293121_3b52a95415_m.jpg', 19),\n",
              " ('./akita/29029304650_d8598a921f_n.jpg', 19),\n",
              " ('./akita/29029354560_662754b71b_m.jpg', 19),\n",
              " ('./akita/29029357300_d53d5d7729_n.jpg', 19),\n",
              " ('./akita/29272040694_569e794d31_n.jpg', 19),\n",
              " ('./akita/29611376525_a2642ec170_n.jpg', 19),\n",
              " ('./akita/2990931453_782c5a465b_n.jpg', 19),\n",
              " ('./akita/29941488520_8c543c09da_m.jpg', 19),\n",
              " ('./akita/30205224887_f7d425842f_n.jpg', 19),\n",
              " ('./akita/30279051904_657bfc16aa_n.jpg', 19),\n",
              " ('./akita/30805399827_e411695625_m.jpg', 19),\n",
              " ('./akita/3118012179_64d77d8a76_m.jpg', 19),\n",
              " ('./akita/31245975971_d4f1d45352_w.jpg', 19),\n",
              " ('./akita/31350756614_050e1da7b6_w.jpg', 19),\n",
              " ('./akita/32462276274_c571df74e4_n.jpg', 19),\n",
              " ('./akita/32467744835_a6b6bd9dc7_n.jpg', 19),\n",
              " ('./akita/32643801331_a54cc20ca4_m.jpg', 19),\n",
              " ('./akita/32834205407_34ce31787b_n.jpg', 19),\n",
              " ('./akita/32835465587_7cea25ba7b_n.jpg', 19),\n",
              " ('./akita/32884672065_beb199829e_n.jpg', 19),\n",
              " ('./akita/32922497970_459c38573f_n.jpg', 19),\n",
              " ('./akita/32926771756_028d8d40ed_m.jpg', 19),\n",
              " ('./akita/33224561370_7e7434a910_n.jpg', 19),\n",
              " ('./akita/33267705102_4ccab1875a_m.jpg', 19),\n",
              " ('./akita/33340106130_ba5eafc4a0_n.jpg', 19),\n",
              " ('./akita/33363340855_a9c84248ea_w.jpg', 19),\n",
              " ('./akita/33380839606_ea7cc62198_n.jpg', 19),\n",
              " ('./akita/33380843616_267fe95683_n.jpg', 19),\n",
              " ('./akita/33640874508_89cf659169_n.jpg', 19),\n",
              " ('./akita/3369665344_bfcf94c227_m.jpg', 19),\n",
              " ('./akita/33713079884_1b6e94d60b_m.jpg', 19),\n",
              " ('./akita/33722561678_8e5b62c203_n.jpg', 19),\n",
              " ('./akita/33888723278_c8eff38aed_n.jpg', 19),\n",
              " ('./akita/33941708380_8717b637f8_n.jpg', 19),\n",
              " ('./akita/34290734930_4eab4a035a_m.jpg', 19),\n",
              " ('./akita/3452371818_4a74619e20_n.jpg', 19),\n",
              " ('./akita/34634882086_148687f1a6_m.jpg', 19),\n",
              " ('./akita/34685355082_05b6a4cd6a_m.jpg', 19),\n",
              " ('./akita/35069349223_9af4055eb5_w.jpg', 19),\n",
              " ('./akita/3520615706_7911f71152_n.jpg', 19),\n",
              " ('./akita/35372787160_205f586544_n.jpg', 19),\n",
              " ('./akita/35454704825_33329a6367_n.jpg', 19),\n",
              " ('./akita/35823204143_9b613edc03_m.jpg', 19),\n",
              " ('./akita/36353320715_61792eaac6_m.jpg', 19),\n",
              " ('./akita/36495691735_6da60695cc_m.jpg', 19),\n",
              " ('./akita/36722537563_84b9db05a4_n.jpg', 19),\n",
              " ('./akita/36722538073_789fdfb299_m.jpg', 19),\n",
              " ('./akita/37259120232_0de22173b9_m.jpg', 19),\n",
              " ('./akita/37294778264_903f1d9f8f_n.jpg', 19),\n",
              " ('./akita/37392892741_cd846cf899_n.jpg', 19),\n",
              " ('./akita/37430518696_a96359cc9f_n.jpg', 19),\n",
              " ('./akita/37806395995_24569ef5e3_n.jpg', 19),\n",
              " ('./akita/37976421294_8952b53fdb_m.jpg', 19),\n",
              " ('./akita/38044540856_5b9f5c1c9d_n.jpg', 19),\n",
              " ('./akita/38044541396_bea2a42429_m.jpg', 19),\n",
              " ('./akita/38097313201_489bcbb151_w.jpg', 19),\n",
              " ('./akita/38452855230_5c0447fbfd_n.jpg', 19),\n",
              " ('./akita/38668922000_9ed2f5f312_n.jpg', 19),\n",
              " ('./akita/38730717440_326159b484_n.jpg', 19),\n",
              " ('./akita/38895265950_12881cf372_n.jpg', 19),\n",
              " ('./akita/3895280857_0f52fcc53a_n.jpg', 19),\n",
              " ('./akita/39119540580_628c81e518_n.jpg', 19),\n",
              " ('./akita/39135416942_f063ea5e7d_n.jpg', 19),\n",
              " ('./akita/39838836971_fc0b330e0f_n.jpg', 19),\n",
              " ('./akita/39842296442_45c0b7a875_m.jpg', 19),\n",
              " ('./akita/40074773803_8b5e078391_n.jpg', 19),\n",
              " ('./akita/40191094731_756a5a70dd_n.jpg', 19),\n",
              " ('./akita/40223081143_5144aeb31f_n.jpg', 19),\n",
              " ('./akita/4023217403_da73538d91_n.jpg', 19),\n",
              " ('./akita/4052852696_e448fa9b23_m.jpg', 19),\n",
              " ('./akita/4055364277_c62eb04938_m.jpg', 19),\n",
              " ('./akita/40694081213_58fd316430_m.jpg', 19),\n",
              " ('./akita/40888779423_c256f5a777_m.jpg', 19),\n",
              " ('./akita/40989050270_a6c8a31ea8_w.jpg', 19),\n",
              " ('./akita/41144422722_4ecbb9c59c_n.jpg', 19),\n",
              " ('./akita/4114947410_758e8bc222_m.jpg', 19),\n",
              " ('./akita/41767935605_fc64f4c8fc_w.jpg', 19),\n",
              " ('./akita/42022806541_4a3b1a56b3_n.jpg', 19),\n",
              " ('./akita/42211115281_145ab7a198_n.jpg', 19),\n",
              " ('./akita/42646679292_468e9343ca_n.jpg', 19),\n",
              " ('./akita/42749881632_f84d677b4f_n.jpg', 19),\n",
              " ('./akita/42820009574_29a1476bfa_n.jpg', 19),\n",
              " ('./akita/42827869684_acd47b72aa_n.jpg', 19),\n",
              " ('./akita/42976638311_506e1511a6_n.jpg', 19),\n",
              " ('./akita/43179304702_b354a95d5a_m.jpg', 19),\n",
              " ('./akita/43879368610_503e29b0f0_w.jpg', 19),\n",
              " ('./akita/43883512322_cb4412340b_w.jpg', 19),\n",
              " ('./akita/43921056744_81eb4909cf_n.jpg', 19),\n",
              " ('./akita/44503439731_fc3b9c0d4b_m.jpg', 19),\n",
              " ('./akita/44753298205_e8ba72484a_n.jpg', 19),\n",
              " ('./akita/45264995222_25895c36ef_n.jpg', 19),\n",
              " ('./akita/45539505881_a8dfcdfb52_n.jpg', 19),\n",
              " ('./akita/4563750112_6aaae95f05_w.jpg', 19),\n",
              " ('./akita/46222491484_8571d213da_w.jpg', 19),\n",
              " ('./akita/46230027264_f5705b5a12_n.jpg', 19),\n",
              " ('./akita/4679078727_d7e804a82e_m.jpg', 19),\n",
              " ('./akita/4679710334_f6f4dbf5ed_m.jpg', 19),\n",
              " ('./akita/46799317561_ec34e6b050_n.jpg', 19),\n",
              " ('./akita/46889507704_9169afbe25_m.jpg', 19),\n",
              " ('./akita/4709599221_d1b4bba298_n.jpg', 19),\n",
              " ('./akita/4715808076_d1851716e5_n.jpg', 19),\n",
              " ('./akita/4725796700_693b7090a9_m.jpg', 19),\n",
              " ('./akita/47517687551_442285b79f_n.jpg', 19),\n",
              " ('./akita/47517688201_ea21b5e417_n.jpg', 19),\n",
              " ('./akita/4756343082_6be5a010b7_n.jpg', 19),\n",
              " ('./akita/4787484169_1c6a5a5c26_m.jpg', 19),\n",
              " ('./akita/4890561058_007b5c0161_m.jpg', 19),\n",
              " ('./akita/504270621_9d3ee2dd6f_n.jpg', 19),\n",
              " ('./akita/5075202719_0e5e9a58d2_n.jpg', 19),\n",
              " ('./akita/5075203551_0393b25ab4_n.jpg', 19),\n",
              " ('./akita/5075206019_ee79a0d396_n.jpg', 19),\n",
              " ('./akita/5075801942_e64f0bb25a_w.jpg', 19),\n",
              " ('./akita/5090908124_d91a97a8b5_m.jpg', 19),\n",
              " ('./akita/5092450268_f4627d9894_n.jpg', 19),\n",
              " ('./akita/5143935637_7dc03ebb7a_m.jpg', 19),\n",
              " ('./akita/5361886411_d0806aa023_n.jpg', 19),\n",
              " ('./akita/5362468692_9396bde40b_w.jpg', 19),\n",
              " ('./akita/5460593275_7fa98bb5ec_n.jpg', 19),\n",
              " ('./akita/5517802770_c7f98887e4_w.jpg', 19),\n",
              " ('./akita/5526876461_206776722c_n.jpg', 19),\n",
              " ('./akita/5559483028_3fd17a2148_m.jpg', 19),\n",
              " ('./akita/5576567274_a4aac1812d_m.jpg', 19),\n",
              " ('./akita/5991119182_b18bc8f69e_m.jpg', 19),\n",
              " ('./akita/6320054658_a2ab24c592_m.jpg', 19),\n",
              " ('./akita/6328816368_7fedbb8edb_n.jpg', 19),\n",
              " ('./akita/6528408437_54bf346b58_w.jpg', 19),\n",
              " ('./akita/6528408973_8848d31950_n.jpg', 19),\n",
              " ('./akita/6648273767_7c41d232c1_n.jpg', 19),\n",
              " ('./akita/6672036315_3a5d9abd34_n.jpg', 19),\n",
              " ('./akita/6907337089_26a342bf7f_n.jpg', 19),\n",
              " ('./akita/6947195748_84f0636bc6_n.jpg', 19),\n",
              " ('./akita/7127612655_a41ee778d5_m.jpg', 19),\n",
              " ('./akita/7391522332_da457dc679_n.jpg', 19),\n",
              " ('./akita/7786152446_5f7e84cd0c_w.jpg', 19),\n",
              " ('./akita/7814399904_eaa65f9bf3_m.jpg', 19),\n",
              " ('./akita/7983652302_5aa00a077e_n.jpg', 19),\n",
              " ('./akita/7999474405_819a80447c_w.jpg', 19),\n",
              " ('./akita/8168664371_bc56170dde_m.jpg', 19),\n",
              " ('./akita/8168680247_9d7919d8d6_m.jpg', 19),\n",
              " ('./akita/8185944413_b00fba617e_n.jpg', 19),\n",
              " ('./akita/8312765556_cabb3cd49b_n.jpg', 19),\n",
              " ('./akita/8356756021_c9ea432de8_n.jpg', 19),\n",
              " ('./akita/8367395325_31fec6e49c_m.jpg', 19),\n",
              " ('./akita/8371343077_8580495d1a_n.jpg', 19),\n",
              " ('./akita/8392381466_2c2409726f_m.jpg', 19),\n",
              " ('./akita/8405517273_45b5b22938_n.jpg', 19),\n",
              " ('./akita/8463848103_49a76bdc2e_n.jpg', 19),\n",
              " ('./akita/8591669497_d86c556f6a_m.jpg', 19),\n",
              " ('./akita/8706116870_c1512d1eca_m.jpg', 19),\n",
              " ('./akita/8931327205_00baf1ce11_m.jpg', 19),\n",
              " ('./akita/8931337161_fed2800ed3_n.jpg', 19),\n",
              " ('./akita/9705516546_c2f04dd069_m.jpg', 19),\n",
              " ('./akita/9865295096_db0f996f02_m.jpg', 19),\n",
              " ('./akita/9927431023_cbbdfe6c68_m.jpg', 19),\n",
              " ('./akita/akita-2534986_640.jpg', 19),\n",
              " ('./akita/akita-2534992_640.jpg', 19),\n",
              " ('./akita/akita-5763408_640.jpg', 19),\n",
              " ('./akita/akita-5763416_640.jpg', 19),\n",
              " ('./akita/dog-3388069_640.jpg', 19),\n",
              " ('./akita/dog-7154060_640.jpg', 19),\n",
              " ('./akita/fsgjdg.jpg', 19),\n",
              " ('./beagle/10163399306_9a899ee41a_m.jpg', 0),\n",
              " ('./beagle/10297599506_118ffdb1ec_m.jpg', 0),\n",
              " ('./beagle/10812269645_2bfeabe650_n.jpg', 0),\n",
              " ('./beagle/11045962763_1a1c104400_w.jpg', 0),\n",
              " ('./beagle/11492039553_7d5f240bc8_m.jpg', 0),\n",
              " ('./beagle/11492064493_2be8d35d22_n.jpg', 0),\n",
              " ('./beagle/12522673665_df8961e363_n.jpg', 0),\n",
              " ('./beagle/12522789503_2e7874191f_n.jpg', 0),\n",
              " ('./beagle/12829117624_5d0546a68a_m.jpg', 0),\n",
              " ('./beagle/12860787685_819b3ce2b8_n.jpg', 0),\n",
              " ('./beagle/13061523365_6cd2dd71fa_n.jpg', 0),\n",
              " ('./beagle/13494907564_f1474961a4_m.jpg', 0),\n",
              " ('./beagle/13498157813_3342cb4053_m.jpg', 0),\n",
              " ('./beagle/13899700905_9c4e2baf28_n.jpg', 0),\n",
              " ('./beagle/13899733555_b16606621d_n.jpg', 0),\n",
              " ('./beagle/14059287444_2d03de8169_n.jpg', 0),\n",
              " ('./beagle/14064852280_5e8ed81552_n.jpg', 0),\n",
              " ('./beagle/14078976397_f9612374ee_m.jpg', 0),\n",
              " ('./beagle/14097386748_c771432f24_m.jpg', 0),\n",
              " ('./beagle/14279377567_d45e3f11b5_m.jpg', 0),\n",
              " ('./beagle/14305588672_c52f18106d_n.jpg', 0),\n",
              " ('./beagle/14364333353_8dd9935667_n.jpg', 0),\n",
              " ('./beagle/14461499528_987dcaa3b3_n.jpg', 0),\n",
              " ('./beagle/14467316913_38f82a22c1_n.jpg', 0),\n",
              " ('./beagle/14547021221_cd223bbd10_m.jpg', 0),\n",
              " ('./beagle/14707379429_2199206576_n.jpg', 0),\n",
              " ('./beagle/14812283767_bee15f1fa5_n.jpg', 0),\n",
              " ('./beagle/14883357683_bcb2722fc0_n.jpg', 0),\n",
              " ('./beagle/14968516092_d73879d5f1_n.jpg', 0),\n",
              " ('./beagle/14974083261_c157a77341_n.jpg', 0),\n",
              " ('./beagle/14975826466_30a8aa82a9_m.jpg', 0),\n",
              " ('./beagle/14998444282_4a45001b9b_n.jpg', 0),\n",
              " ('./beagle/15101404806_775cac0802_m.jpg', 0),\n",
              " ('./beagle/15137395004_ecf04702fe_n.jpg', 0),\n",
              " ('./beagle/15498418856_77263bf613_n.jpg', 0),\n",
              " ('./beagle/15569405391_c12c2a23dc_m.jpg', 0),\n",
              " ('./beagle/2566029416_17a622bd55_m.jpg', 0),\n",
              " ('./beagle/2594019467_429c334ed2_n.jpg', 0),\n",
              " ('./beagle/2617344565_fe185584fa_w.jpg', 0),\n",
              " ('./beagle/2627241018_a00169c9fe_m.jpg', 0),\n",
              " ('./beagle/2654190917_984893642c_n.jpg', 0),\n",
              " ('./beagle/2715158243_0c9e0432b1_n.jpg', 0),\n",
              " ('./beagle/2726104198_bc63809013_n.jpg', 0),\n",
              " ('./beagle/2755030128_9174c55cde_n.jpg', 0),\n",
              " ('./beagle/2765635327_20f62a1e96_n.jpg', 0),\n",
              " ('./beagle/2786138448_92ef9d6904_n.jpg', 0),\n",
              " ('./beagle/2930395691_13d730b83c_n.jpg', 0),\n",
              " ('./beagle/2933544509_f23b6bb31b_n.jpg', 0),\n",
              " ('./beagle/2953965604_131d5c0920_m.jpg', 0),\n",
              " ('./beagle/2962394374_281aa4ff4e_n.jpg', 0),\n",
              " ('./beagle/2964303880_389f40a0ab_n.jpg', 0),\n",
              " ('./beagle/2974825119_f88f051dcf_n.jpg', 0),\n",
              " ('./beagle/2983996988_4397b6d0db_n.jpg', 0),\n",
              " ('./beagle/3079135101_fec0dcdf9b_m.jpg', 0),\n",
              " ('./beagle/3085325204_a201d1d107_n.jpg', 0),\n",
              " ('./beagle/3087469869_f72ff6c12e_w.jpg', 0),\n",
              " ('./beagle/3087470201_750510fcb5_n.jpg', 0),\n",
              " ('./beagle/3087470253_c530396fc4_n.jpg', 0),\n",
              " ('./beagle/3091169784_2e19df5514_m.jpg', 0),\n",
              " ('./beagle/3096962446_de3971ea14_q.jpg', 0),\n",
              " ('./beagle/3135525612_e5921bb61c_m.jpg', 0),\n",
              " ('./beagle/3177848607_dc6a766e44_m.jpg', 0),\n",
              " ('./beagle/3212399573_87f76dd5a3_n.jpg', 0),\n",
              " ('./beagle/3212400111_52c4e1905a_n.jpg', 0),\n",
              " ('./beagle/3213244400_fdaa7ecffe_n.jpg', 0),\n",
              " ('./beagle/3213247696_29685579a0_n.jpg', 0),\n",
              " ('./beagle/3213248180_d3510c0de0_n.jpg', 0),\n",
              " ('./beagle/3229470894_097d202e98_m.jpg', 0),\n",
              " ('./beagle/3261360347_1f62408c9c_m.jpg', 0),\n",
              " ('./beagle/3262183828_b3d662cf2f_m.jpg', 0),\n",
              " ('./beagle/3275252938_caf8e8115c_m.jpg', 0),\n",
              " ('./beagle/3279234357_e6f2cb7751_n.jpg', 0),\n",
              " ('./beagle/3284895368_27cfb108fa_n.jpg', 0),\n",
              " ('./beagle/3346768660_ce985dcebc_n.jpg', 0),\n",
              " ('./beagle/3348467015_b35abe18a8_m.jpg', 0),\n",
              " ('./beagle/3349738209_6573021279_n.jpg', 0),\n",
              " ('./beagle/3388194629_c522b68358_m.jpg', 0),\n",
              " ('./beagle/3389003696_a3896b6429_m.jpg', 0),\n",
              " ('./beagle/3403451316_7b5390c818_m.jpg', 0),\n",
              " ('./beagle/3422073437_fa2cd6c869_n.jpg', 0),\n",
              " ('./beagle/3429289449_9a79e707a5_n.jpg', 0),\n",
              " ('./beagle/3453889484_7daa3bbbee_n.jpg', 0),\n",
              " ('./beagle/3474034600_dfda720c9c_m.jpg', 0),\n",
              " ('./beagle/3551753108_ce23f913af_m.jpg', 0),\n",
              " ('./beagle/3572364674_e903b5b937_w.jpg', 0),\n",
              " ('./beagle/3614839794_8b06910c7d_n.jpg', 0),\n",
              " ('./beagle/3710552260_ca2cf7f6d6_n.jpg', 0),\n",
              " ('./beagle/3726631199_a8f380e613_n.jpg', 0),\n",
              " ('./beagle/3841456217_95ef7c3c48_w.jpg', 0),\n",
              " ('./beagle/3914320403_83a1c72598_n.jpg', 0),\n",
              " ('./beagle/3914321673_4353be71b1_n.jpg', 0),\n",
              " ('./beagle/3951643354_37c974e7aa_m.jpg', 0),\n",
              " ('./beagle/3957839705_ae1285c1f8_m.jpg', 0),\n",
              " ('./beagle/3957839709_1ee429564a_n.jpg', 0),\n",
              " ('./beagle/3957839711_4243bc3cbf_n.jpg', 0),\n",
              " ('./beagle/3957839719_5e51ef2e09_m.jpg', 0),\n",
              " ('./beagle/3960354621_e07b31bf8c_n.jpg', 0),\n",
              " ('./beagle/3961129572_b8c65e210b_n.jpg', 0),\n",
              " ('./beagle/3961131888_4080117926_n.jpg', 0),\n",
              " ('./beagle/3994363879_6b1a1a840d_m.jpg', 0),\n",
              " ('./beagle/3994363989_7c9e9abee4_m.jpg', 0),\n",
              " ('./beagle/3994364033_9ce27bc551_n.jpg', 0),\n",
              " ('./beagle/3994364189_0f8351bacf_n.jpg', 0),\n",
              " ('./beagle/3995124264_237fcb2488_n.jpg', 0),\n",
              " ('./beagle/3995124384_35f7ae7c6e_n.jpg', 0),\n",
              " ('./beagle/3995124560_338e7a00a3_m.jpg', 0),\n",
              " ('./beagle/3995124584_5cb302ab68_n.jpg', 0),\n",
              " ('./beagle/4058439886_500dee7fb2_n.jpg', 0),\n",
              " ('./beagle/4076437326_a54b4c35e3_m.jpg', 0),\n",
              " ('./beagle/4081307803_bb72c55911_n.jpg', 0),\n",
              " ('./beagle/4137139992_63452ab1f2_n.jpg', 0),\n",
              " ('./beagle/4156536771_4cda1f4962_m.jpg', 0),\n",
              " ('./beagle/4166621259_c8a51b55bb_n.jpg', 0),\n",
              " ('./beagle/4259740036_7fce7939ef_n.jpg', 0),\n",
              " ('./beagle/4264959396_df5a640ff3_n.jpg', 0),\n",
              " ('./beagle/4279991761_7a5a0119d1_n.jpg', 0),\n",
              " ('./beagle/4282200018_0afc61ba61_n.jpg', 0),\n",
              " ('./beagle/4309134983_6e5aa06a4d_n.jpg', 0),\n",
              " ('./beagle/4309420591_867e78d56b_n.jpg', 0),\n",
              " ('./beagle/4373831369_81bec74958_m.jpg', 0),\n",
              " ('./beagle/4391078406_8e5e82bc16_m.jpg', 0),\n",
              " ('./beagle/4415199418_873a511d7c_m.jpg', 0),\n",
              " ('./beagle/4466211315_b4aea4d18c_w.jpg', 0),\n",
              " ('./beagle/4470004951_69d15f0a8f_n.jpg', 0),\n",
              " ('./beagle/4497693241_3726e2ef63_m.jpg', 0),\n",
              " ('./beagle/4511838575_ac506bbd94_n.jpg', 0),\n",
              " ('./beagle/4570048934_e65f8825ca_n.jpg', 0),\n",
              " ('./beagle/4614695077_8c01e2225a_n.jpg', 0),\n",
              " ('./beagle/4656932612_97737b5e0a_n.jpg', 0),\n",
              " ('./beagle/4715027933_233a9dc9b6_n.jpg', 0),\n",
              " ('./beagle/4874877040_f805efa878_m.jpg', 0),\n",
              " ('./beagle/4903131972_1aa8a348dc_w.jpg', 0),\n",
              " ('./beagle/4941652504_4896dd4f3f_m.jpg', 0),\n",
              " ('./beagle/4955931742_67a8109f98_m.jpg', 0),\n",
              " ('./beagle/4957741022_e39d3a0525_m.jpg', 0),\n",
              " ('./beagle/5021558719_6d71118203_m.jpg', 0),\n",
              " ('./beagle/5044021057_006234c0ea_w.jpg', 0),\n",
              " ('./beagle/5052906398_39a7d7f4b2_m.jpg', 0),\n",
              " ('./beagle/5064957054_83d42c3805_m.jpg', 0),\n",
              " ('./beagle/5113419379_c40eac2984_m.jpg', 0),\n",
              " ('./beagle/5113437301_79d14dbf84_m.jpg', 0),\n",
              " ('./beagle/5113439581_ba578d23ce_m.jpg', 0),\n",
              " ('./beagle/5113477171_de0b0d6e36_n.jpg', 0),\n",
              " ('./beagle/5113477817_c997e945d4_n.jpg', 0),\n",
              " ('./beagle/5114021778_3aa728ddc5_n.jpg', 0),\n",
              " ('./beagle/5114026290_fb4b279673_m.jpg', 0),\n",
              " ('./beagle/5114041360_ce14749bc6_n.jpg', 0),\n",
              " ('./beagle/5114044724_9400265010_m.jpg', 0),\n",
              " ('./beagle/5114114486_3ab1e3f7a1_m.jpg', 0),\n",
              " ('./beagle/5126883524_b81ee85f34_n.jpg', 0),\n",
              " ('./beagle/5162833712_3e3a2f0d47_m.jpg', 0),\n",
              " ('./beagle/5212733197_7cdb785624_n.jpg', 0),\n",
              " ('./beagle/5278409045_b14b550e9e_n.jpg', 0),\n",
              " ('./beagle/5311110351_096985d479_w.jpg', 0),\n",
              " ('./beagle/5311120223_769a9bbd7d_m.jpg', 0),\n",
              " ('./beagle/5339342579_2f1092e11e_n.jpg', 0),\n",
              " ('./beagle/5341517543_be5c4be866_n.jpg', 0),\n",
              " ('./beagle/5355385505_2ddf731d25_m.jpg', 0),\n",
              " ('./beagle/5361296357_1734d38218_n.jpg', 0),\n",
              " ('./beagle/5365026377_9e2c78b21d_n.jpg', 0),\n",
              " ('./beagle/5373223050_316056ec92_w.jpg', 0),\n",
              " ('./beagle/5381442075_4e40edf4b2_n.jpg', 0),\n",
              " ('./beagle/5394709450_ee98c9f802_n.jpg', 0),\n",
              " ('./beagle/5399878144_1ba1221772_n.jpg', 0),\n",
              " ('./beagle/5419576325_6c42b578a9_n.jpg', 0),\n",
              " ('./beagle/5504217878_728ed830a5_m.jpg', 0),\n",
              " ('./beagle/5504218792_1bc8c91aca_m.jpg', 0),\n",
              " ('./beagle/5523360453_f23cc86c1b_m.jpg', 0),\n",
              " ('./beagle/5529095085_59ea670079_m.jpg', 0),\n",
              " ('./beagle/5606141424_bfb08c73d7_m.jpg', 0),\n",
              " ('./beagle/5653790858_b7fdbf80c2_m.jpg', 0),\n",
              " ('./beagle/5669443708_d6f86803ff_n.jpg', 0),\n",
              " ('./beagle/5695235609_65e0b3f4ba_z.jpg', 0),\n",
              " ('./beagle/5702672281_557d0f04ff_w.jpg', 0),\n",
              " ('./beagle/5710900641_f934b86279_n.jpg', 0),\n",
              " ('./beagle/5711459724_33efc4991c_n.jpg', 0),\n",
              " ('./beagle/5802237520_17c02fc034_n.jpg', 0),\n",
              " ('./beagle/6078317699_4043b91c7f_n.jpg', 0),\n",
              " ('./beagle/6078858456_696913ff89_n.jpg', 0),\n",
              " ('./beagle/6078858876_6050897646_n.jpg', 0),\n",
              " ('./beagle/6144841887_67e09d777c_n.jpg', 0),\n",
              " ('./beagle/6246959028_ce229219dd_n.jpg', 0),\n",
              " ('./beagle/6249678755_7880118937_m.jpg', 0),\n",
              " ('./beagle/6485129041_0f2932d980_n.jpg', 0),\n",
              " ('./beagle/6588488157_135a45d3dc_m.jpg', 0),\n",
              " ('./beagle/6588547175_4f857bf930_n.jpg', 0),\n",
              " ('./beagle/6630587023_e8627e77e9_n.jpg', 0),\n",
              " ('./beagle/6642482245_8dab7de527_n.jpg', 0),\n",
              " ('./beagle/6665369203_954e4a8efa_m.jpg', 0),\n",
              " ('./beagle/6691934099_708945bedb_n.jpg', 0),\n",
              " ('./beagle/6714002607_46ec387b43_w.jpg', 0),\n",
              " ('./beagle/6883011511_15ff9cfcda_n.jpg', 0),\n",
              " ('./beagle/6929988143_2b3200ee32_n.jpg', 0),\n",
              " ('./beagle/6975271185_a02b202170_n.jpg', 0),\n",
              " ('./beagle/7006171084_24e909dd91_w.jpg', 0),\n",
              " ('./beagle/7118859307_38fab7373e_n.jpg', 0),\n",
              " ('./beagle/7309238344_289ea3a858_m.jpg', 0),\n",
              " ('./beagle/7359885452_e189b6b330_n.jpg', 0),\n",
              " ('./beagle/7363126018_428436df8d_m.jpg', 0),\n",
              " ('./beagle/7388547154_d71fd48514_n.jpg', 0),\n",
              " ('./beagle/7483166150_254c63ac65_n.jpg', 0),\n",
              " ('./beagle/7651814370_aea0b17830_n.jpg', 0),\n",
              " ('./beagle/7678397656_360d91517b_m.jpg', 0),\n",
              " ('./beagle/7689720652_8cee26bae7_n.jpg', 0),\n",
              " ('./beagle/7701622586_fca49c4589_n.jpg', 0),\n",
              " ('./beagle/7706506424_590fcf0bb5_n.jpg', 0),\n",
              " ('./beagle/7857804652_5908f5165d_m.jpg', 0),\n",
              " ('./beagle/8316483707_8471d80119_m.jpg', 0),\n",
              " ('./beagle/8327202223_7aa257e5fb_n.jpg', 0),\n",
              " ('./beagle/8348282087_44a007b695_n.jpg', 0),\n",
              " ('./beagle/8349342952_4f58fe732f_n.jpg', 0),\n",
              " ('./beagle/8465503308_5cb1a546c1_n.jpg', 0),\n",
              " ('./beagle/8465710466_1e727ce8a2_m.jpg', 0),\n",
              " ('./beagle/8512861540_9f55d5e9c7_n.jpg', 0),\n",
              " ('./beagle/8544547348_ccc354ed98_n.jpg', 0),\n",
              " ('./beagle/8617339317_6f834823df_n.jpg', 0),\n",
              " ('./beagle/8618447646_7c6522e0ac_n.jpg', 0),\n",
              " ('./beagle/8646300996_ae1097972f_w.jpg', 0),\n",
              " ('./beagle/8646847118_68a460b108_m.jpg', 0),\n",
              " ('./beagle/8723327958_7819361a69_n.jpg', 0),\n",
              " ('./beagle/8724139460_2a89a404ae_m.jpg', 0),\n",
              " ('./beagle/8784367663_bb107ef266_n.jpg', 0),\n",
              " ('./beagle/9171780750_c1720a95f4_m.jpg', 0),\n",
              " ('./beagle/9171798168_2572172204_m.jpg', 0),\n",
              " ('./beagle/9321339768_35c367dec2_n.jpg', 0),\n",
              " ('./beagle/9380091699_5956e1c071_n.jpg', 0),\n",
              " ('./beagle/9415579099_b3973ed5a1_m.jpg', 0),\n",
              " ('./beagle/9424666347_a60f5bea80_n.jpg', 0),\n",
              " ('./beagle/9486094881_7320c2c55a_m.jpg', 0),\n",
              " ('./beagle/9486113913_a7cbb057fa_m.jpg', 0),\n",
              " ('./beagle/9486114753_c55b1eabab_m.jpg', 0),\n",
              " ('./beagle/9486131981_f465802abe_m.jpg', 0),\n",
              " ('./beagle/9488890718_847aa9a2d4_n.jpg', 0),\n",
              " ('./beagle/9488904778_42307ee2ac_w.jpg', 0),\n",
              " ('./beagle/9488907000_43dc8b07e4_w.jpg', 0),\n",
              " ('./beagle/9488909104_c36d3f687c_m.jpg', 0),\n",
              " ('./beagle/9488913116_04013185f3_n.jpg', 0),\n",
              " ('./beagle/9488913938_b76a2f4a67_m.jpg', 0),\n",
              " ('./beagle/9488928088_924d7a0023_n.jpg', 0),\n",
              " ('./beagle/9552076404_2423dfd35b_w.jpg', 0),\n",
              " ('./beagle/9552083524_d228f76605_m.jpg', 0),\n",
              " ('./beagle/9565548807_8538894e63_m.jpg', 0),\n",
              " ('./beagle/9568323280_7b88f16b9b_n.jpg', 0),\n",
              " ('./beagle/9568342294_4e0ea14d12_n.jpg', 0),\n",
              " ('./beagle/9673911177_bc68598c35_n.jpg', 0),\n",
              " ('./beagle/9821358086_a6d81a1098_n.jpg', 0),\n",
              " ('./beagle/9821604645_b607c6dc54_n.jpg', 0),\n",
              " ('./beagle/9821662286_11ab2e1584_m.jpg', 0),\n",
              " ('./beagle/9821725683_cf93ee0531_m.jpg', 0),\n",
              " ('./beagle/9948145845_eea8f74caf_n.jpg', 0),\n",
              " ('./bloodhound/10052529534_6e0377e441_n.jpg', 1),\n",
              " ('./bloodhound/10052565545_3642074282_n.jpg', 1),\n",
              " ('./bloodhound/10052565985_c04d15ba3c_n.jpg', 1),\n",
              " ('./bloodhound/10052679163_d336553ac7_n.jpg', 1),\n",
              " ('./bloodhound/1036491428_f9e67c11ac_w.jpg', 1),\n",
              " ('./bloodhound/10463532923_dc37641128_m.jpg', 1),\n",
              " ('./bloodhound/10583514064_c9ae873224_m.jpg', 1),\n",
              " ('./bloodhound/11361155543_e2cbda4da2_w.jpg', 1),\n",
              " ('./bloodhound/11739834454_3eaef983f0_m.jpg', 1),\n",
              " ('./bloodhound/11816090075_31981e3fa7_w.jpg', 1),\n",
              " ('./bloodhound/11991974066_2ae1ff4d2e_w.jpg', 1),\n",
              " ('./bloodhound/12177694784_492ba93c7a_m.jpg', 1),\n",
              " ('./bloodhound/12269910036_60c3b1f7ee_n.jpg', 1),\n",
              " ('./bloodhound/12707266524_e0a382c104_w.jpg', 1),\n",
              " ('./bloodhound/12892374224_1d343e1196_m.jpg', 1),\n",
              " ('./bloodhound/12892388234_58bb889574_m.jpg', 1),\n",
              " ('./bloodhound/1292030680_509c622f3c_n.jpg', 1),\n",
              " ('./bloodhound/12944358824_744ac959b0_w.jpg', 1),\n",
              " ('./bloodhound/1332983215_7029d3b80d_m.jpg', 1),\n",
              " ('./bloodhound/1332983361_46bbff184c_m.jpg', 1),\n",
              " ('./bloodhound/1333029427_f3a9227c8a_m.jpg', 1),\n",
              " ('./bloodhound/1348190000_33672393bf_n.jpg', 1),\n",
              " ('./bloodhound/1348839763_38c037edbb_n.jpg', 1),\n",
              " ('./bloodhound/136679181_1b306716b5_m.jpg', 1),\n",
              " ('./bloodhound/13913035892_d9a46b2df3_m.jpg', 1),\n",
              " ('./bloodhound/13924065947_bd827d8bb2_n.jpg', 1),\n",
              " ('./bloodhound/13924117648_e391a365b0_n.jpg', 1),\n",
              " ('./bloodhound/14025550147_3c87a9233f_n.jpg', 1),\n",
              " ('./bloodhound/141686535_53c079ccb4_m.jpg', 1),\n",
              " ('./bloodhound/14200825029_40c1e124f2_m.jpg', 1),\n",
              " ('./bloodhound/1439698715_0124425a72_m.jpg', 1),\n",
              " ('./bloodhound/14734346352_870aaecd2f_m.jpg', 1),\n",
              " ('./bloodhound/15226894489_27de862131_w.jpg', 1),\n",
              " ('./bloodhound/15241883649_69bb0c162f_w.jpg', 1),\n",
              " ('./bloodhound/15414150624_6f04ba101f_n.jpg', 1),\n",
              " ('./bloodhound/15443325862_ef8d4fecc0_n.jpg', 1),\n",
              " ('./bloodhound/15965063074_6c60d68df4_n.jpg', 1),\n",
              " ('./bloodhound/15967603733_7483570520_m.jpg', 1),\n",
              " ('./bloodhound/15973032204_7e4e203a36_n.jpg', 1),\n",
              " ('./bloodhound/16103788243_87cc7b09ef_n.jpg', 1),\n",
              " ('./bloodhound/16103995317_58608bdf30_n.jpg', 1),\n",
              " ('./bloodhound/162950902_25912375f9_m.jpg', 1),\n",
              " ('./bloodhound/16399543948_c16c45ea01_m.jpg', 1),\n",
              " ('./bloodhound/16399545768_35e4a4273d_m.jpg', 1),\n",
              " ('./bloodhound/16400188588_b7b5af0ffd_m.jpg', 1),\n",
              " ('./bloodhound/16400189018_22341e4858_m.jpg', 1),\n",
              " ('./bloodhound/16400391190_0d2bd62410_m.jpg', 1),\n",
              " ('./bloodhound/16400728899_e64889b45e_m.jpg', 1),\n",
              " ('./bloodhound/16401631039_f6789d0893_n.jpg', 1),\n",
              " ('./bloodhound/16401636829_07e405ed80_m.jpg', 1),\n",
              " ('./bloodhound/16407979808_b37f290af9_n.jpg', 1),\n",
              " ('./bloodhound/16408170820_331fb95888_m.jpg', 1),\n",
              " ('./bloodhound/16536176928_0807c6ebe8_m.jpg', 1),\n",
              " ('./bloodhound/16536318110_12dd347a6d_m.jpg', 1),\n",
              " ('./bloodhound/16561499406_015bc65693_n.jpg', 1),\n",
              " ('./bloodhound/16569206106_e670a34eb3_n.jpg', 1),\n",
              " ('./bloodhound/16579359334_038bf5c5ce_n.jpg', 1),\n",
              " ('./bloodhound/16585382921_c65e0319e6_m.jpg', 1),\n",
              " ('./bloodhound/16586707392_9e897b92c0_m.jpg', 1),\n",
              " ('./bloodhound/16587502255_af6da0640d_n.jpg', 1),\n",
              " ('./bloodhound/16594007221_615b185e98_n.jpg', 1),\n",
              " ('./bloodhound/16597921220_baf023f67b_m.jpg', 1),\n",
              " ('./bloodhound/16611244869_2f3303a0dd_m.jpg', 1),\n",
              " ('./bloodhound/16611244909_e0d2326307_m.jpg', 1),\n",
              " ('./bloodhound/16747357115_631e85a791_m.jpg', 1),\n",
              " ('./bloodhound/16811801477_983d71b8a3_m.jpg', 1),\n",
              " ('./bloodhound/16882150101_23e20f122d_m.jpg', 1),\n",
              " ('./bloodhound/16990618960_a7a0108c00_n.jpg', 1),\n",
              " ('./bloodhound/1773982162_a5d240ce5c_n.jpg', 1),\n",
              " ('./bloodhound/1906514143_5eb7761574_n.jpg', 1),\n",
              " ('./bloodhound/19745034990_346c107f49_n.jpg', 1),\n",
              " ('./bloodhound/20430507965_cc5c11cf49_m.jpg', 1),\n",
              " ('./bloodhound/20513177_9adc692bc9_n.jpg', 1),\n",
              " ('./bloodhound/2074354207_00807f712c_m.jpg', 1),\n",
              " ('./bloodhound/2126404369_55db5a94f9_n.jpg', 1),\n",
              " ('./bloodhound/2142788744_4664b0dffc_m.jpg', 1),\n",
              " ('./bloodhound/21663813382_07aa285795_m.jpg', 1),\n",
              " ('./bloodhound/22109974882_7189fca8fb_m.jpg', 1),\n",
              " ('./bloodhound/2285704997_13c8d649af_m.jpg', 1),\n",
              " ('./bloodhound/2286487432_93d343c858_n.jpg', 1),\n",
              " ('./bloodhound/2286489850_f5867dfe29_m.jpg', 1),\n",
              " ('./bloodhound/2289286884_b8a274510b_n.jpg', 1),\n",
              " ('./bloodhound/23039547304_72662d8292_m.jpg', 1),\n",
              " ('./bloodhound/2338217663_a79de4edb1_n.jpg', 1),\n",
              " ('./bloodhound/23450278415_8b549f1499_m.jpg', 1),\n",
              " ('./bloodhound/2429951604_f673e86d0a_n.jpg', 1),\n",
              " ('./bloodhound/2457274817_b919b22f22_n.jpg', 1),\n",
              " ('./bloodhound/24698502873_03ef1a54dc_m.jpg', 1),\n",
              " ('./bloodhound/24709106596_28bacd5ac7_n.jpg', 1),\n",
              " ('./bloodhound/26430629100_6ec1e5e26a_m.jpg', 1),\n",
              " ('./bloodhound/27010951485_077f9bbdae_n.jpg', 1),\n",
              " ('./bloodhound/2770516808_e1ecc42631_m.jpg', 1),\n",
              " ('./bloodhound/279921815_7392bc8ca1_m.jpg', 1),\n",
              " ('./bloodhound/28267254028_9a34c60236_n.jpg', 1),\n",
              " ('./bloodhound/2831734178_92f4183166_n.jpg', 1),\n",
              " ('./bloodhound/2845701233_45306d3222_m.jpg', 1),\n",
              " ('./bloodhound/28709642843_9564d2c309_m.jpg', 1),\n",
              " ('./bloodhound/2878576894_9b1c69fb8e_m.jpg', 1),\n",
              " ('./bloodhound/2970748487_e11d93641b_n.jpg', 1),\n",
              " ('./bloodhound/29801724662_01f65d980a_n.jpg', 1),\n",
              " ('./bloodhound/29883050860_5415a64d52_m.jpg', 1),\n",
              " ('./bloodhound/29932489743_fb00d0b934_m.jpg', 1),\n",
              " ('./bloodhound/3026359316_febebfdfe0_m.jpg', 1),\n",
              " ('./bloodhound/30410020248_47bc7b54a3_m.jpg', 1),\n",
              " ('./bloodhound/31144906771_19656db072_m.jpg', 1),\n",
              " ('./bloodhound/31144932711_399467fd18_m.jpg', 1),\n",
              " ('./bloodhound/31223412186_fedfe8993f_m.jpg', 1),\n",
              " ('./bloodhound/312513989_2e58cbaf2e_m.jpg', 1),\n",
              " ('./bloodhound/31259410765_083c6ba4c0_m.jpg', 1),\n",
              " ('./bloodhound/31731243625_495c6eb7d8_n.jpg', 1),\n",
              " ('./bloodhound/3186581744_11daa226c1_n.jpg', 1),\n",
              " ('./bloodhound/320204953_dbf6f61368_n.jpg', 1),\n",
              " ('./bloodhound/32070092311_2e00b83174_m.jpg', 1),\n",
              " ('./bloodhound/3210369664_a10c0da510_n.jpg', 1),\n",
              " ('./bloodhound/32360612261_1e03307d31_m.jpg', 1),\n",
              " ('./bloodhound/3280771553_8aaea4f46f_n.jpg', 1),\n",
              " ('./bloodhound/3307325938_1c391e47df_m.jpg', 1),\n",
              " ('./bloodhound/3317850857_3b9a19a618_n.jpg', 1),\n",
              " ('./bloodhound/3317854087_72e2da95b3_n.jpg', 1),\n",
              " ('./bloodhound/3327283468_745b3b27fa_m.jpg', 1),\n",
              " ('./bloodhound/33455399208_0b438cc283_n.jpg', 1),\n",
              " ('./bloodhound/3378525194_efbe0f70e5_m.jpg', 1),\n",
              " ('./bloodhound/3380142257_f7d57bac7a_n.jpg', 1),\n",
              " ('./bloodhound/34116316904_de5ba07bb3_m.jpg', 1),\n",
              " ('./bloodhound/3432507623_62d9d8da5b_n.jpg', 1),\n",
              " ('./bloodhound/3448596055_0516c6bdb2_n.jpg', 1),\n",
              " ('./bloodhound/3448614453_697fc14d68_n.jpg', 1),\n",
              " ('./bloodhound/3461175777_4819d3d6ec_n.jpg', 1),\n",
              " ('./bloodhound/3498544382_b93d062856_m.jpg', 1),\n",
              " ('./bloodhound/3562228569_149be1d8c6_m.jpg', 1),\n",
              " ('./bloodhound/3562229347_a04fc04613_m.jpg', 1),\n",
              " ('./bloodhound/3649550573_a6f8f04dbc_m.jpg', 1),\n",
              " ('./bloodhound/3661840113_1ca5733630_m.jpg', 1),\n",
              " ('./bloodhound/36638011751_2be8bc1f80_n.jpg', 1),\n",
              " ('./bloodhound/36716167046_4b7784d79f_n.jpg', 1),\n",
              " ('./bloodhound/3732034414_ae8f2504a7_m.jpg', 1),\n",
              " ('./bloodhound/37457647_cec218c27c_n.jpg', 1),\n",
              " ('./bloodhound/3746079068_ed10d45efe_m.jpg', 1),\n",
              " ('./bloodhound/3758316891_ae27fbd362_m.jpg', 1),\n",
              " ('./bloodhound/3786803885_9a122542dc_m.jpg', 1),\n",
              " ('./bloodhound/38229539734_7000aae318_m.jpg', 1),\n",
              " ('./bloodhound/3846675465_aea2107964_n.jpg', 1),\n",
              " ('./bloodhound/3847486350_fd1afb7d03_n.jpg', 1),\n",
              " ('./bloodhound/3896868835_b8f36f25e2_n.jpg', 1),\n",
              " ('./bloodhound/394400667_5f221a9d5a_m.jpg', 1),\n",
              " ('./bloodhound/3965819201_93fe6593a6_m.jpg', 1),\n",
              " ('./bloodhound/3967663057_7203f1f927_m.jpg', 1),\n",
              " ('./bloodhound/397785423_634d99fa0c_m.jpg', 1),\n",
              " ('./bloodhound/3981792973_32726a5820_m.jpg', 1),\n",
              " ('./bloodhound/404957202_ef8e1edef9_n.jpg', 1),\n",
              " ('./bloodhound/4054153525_fcbca5a4ae_m.jpg', 1),\n",
              " ('./bloodhound/4054182347_d605d8731e_m.jpg', 1),\n",
              " ('./bloodhound/4054676359_c000b47711_n.jpg', 1),\n",
              " ('./bloodhound/4054676717_44960439b0_m.jpg', 1),\n",
              " ('./bloodhound/4054676873_efbe5d98ed_n.jpg', 1),\n",
              " ('./bloodhound/4055417730_828c1a9b53_n.jpg', 1),\n",
              " ('./bloodhound/4055417748_eefe76f7ff_n.jpg', 1),\n",
              " ('./bloodhound/4055417904_0b3215aa2e_m.jpg', 1),\n",
              " ('./bloodhound/4072950677_44c7d3eb5e_m.jpg', 1),\n",
              " ('./bloodhound/4093887504_ba7e7acc9e_m.jpg', 1),\n",
              " ('./bloodhound/4093887794_b6f14dacc2_m.jpg', 1),\n",
              " ('./bloodhound/4145790871_69be289e6a_n.jpg', 1),\n",
              " ('./bloodhound/4145791565_ecb2104c08_n.jpg', 1),\n",
              " ('./bloodhound/4272144733_3362205e25_m.jpg', 1),\n",
              " ('./bloodhound/4286386943_62a00f2849_m.jpg', 1),\n",
              " ('./bloodhound/4290654801_ae7274704a_m.jpg', 1),\n",
              " ('./bloodhound/4383836003_4c01de6b88_w.jpg', 1),\n",
              " ('./bloodhound/4427054245_a31051f27d_m.jpg', 1),\n",
              " ('./bloodhound/4427054749_d76503e765_m.jpg', 1),\n",
              " ('./bloodhound/4432924236_a939440cd8_n.jpg', 1),\n",
              " ('./bloodhound/4462210693_7e57371bfd_n.jpg', 1),\n",
              " ('./bloodhound/4462210843_251b6ca153_n.jpg', 1),\n",
              " ('./bloodhound/4462213311_ca1b578024_n.jpg', 1),\n",
              " ('./bloodhound/4462987876_fdcb38a6c8_n.jpg', 1),\n",
              " ('./bloodhound/4462988448_8bc4d92d44_n.jpg', 1),\n",
              " ('./bloodhound/4462988672_ee86f1f86e_m.jpg', 1),\n",
              " ('./bloodhound/4462988928_f5f8580885_m.jpg', 1),\n",
              " ('./bloodhound/4462989726_8065a1704b_m.jpg', 1),\n",
              " ('./bloodhound/4462990752_ab9e2768f1_m.jpg', 1),\n",
              " ('./bloodhound/4477707766_052dfd2448_m.jpg', 1),\n",
              " ('./bloodhound/4488191890_4a6334f9bf_m.jpg', 1),\n",
              " ('./bloodhound/4548120575_68ed5b02f7_m.jpg', 1),\n",
              " ('./bloodhound/4628757052_431c67aedb_n.jpg', 1),\n",
              " ('./bloodhound/4689255287_e9a4f788f9_m.jpg', 1),\n",
              " ('./bloodhound/4703615845_186a6bb729_m.jpg', 1),\n",
              " ('./bloodhound/484842520_0291f4edc8_n.jpg', 1),\n",
              " ('./bloodhound/4883117_b42a6f262e_m.jpg', 1),\n",
              " ('./bloodhound/4939434377_a39de9fbd8_m.jpg', 1),\n",
              " ('./bloodhound/5137527773_979ef9102f_m.jpg', 1),\n",
              " ('./bloodhound/5156306276_58793866d9_m.jpg', 1),\n",
              " ('./bloodhound/5283276376_93977f6e85_m.jpg', 1),\n",
              " ('./bloodhound/529645263_97c0289979_m.jpg', 1),\n",
              " ('./bloodhound/5400131863_f8f0485bfd_n.jpg', 1),\n",
              " ('./bloodhound/5400135929_31ce157e01_w.jpg', 1),\n",
              " ('./bloodhound/5400136019_752c079155_n.jpg', 1),\n",
              " ('./bloodhound/5426902711_3d9a31f9ee_m.jpg', 1),\n",
              " ('./bloodhound/5451568534_d09961cee0_m.jpg', 1),\n",
              " ('./bloodhound/5526446068_2d9b4acca9_m.jpg', 1),\n",
              " ('./bloodhound/553259889_68362897f7_n.jpg', 1),\n",
              " ('./bloodhound/5872630488_9cff7fea09_n.jpg', 1),\n",
              " ('./bloodhound/5886085529_acf2881aed_m.jpg', 1),\n",
              " ('./bloodhound/5886651922_d332ea6bc7_m.jpg', 1),\n",
              " ('./bloodhound/6062583186_43c7f9d2d5_m.jpg', 1),\n",
              " ('./bloodhound/6125122845_328a0d975b_m.jpg', 1),\n",
              " ('./bloodhound/6135561759_b33b02ae69_m.jpg', 1),\n",
              " ('./bloodhound/6136105628_27c3bbef53_n.jpg', 1),\n",
              " ('./bloodhound/6140828750_2e15b64c58_m.jpg', 1),\n",
              " ('./bloodhound/6148466606_fb523569ff_n.jpg', 1),\n",
              " ('./bloodhound/6172216328_e38f856206_n.jpg', 1),\n",
              " ('./bloodhound/6408692385_dcd435c151_n.jpg', 1),\n",
              " ('./bloodhound/6478659489_91f7dd8b42_n.jpg', 1),\n",
              " ('./bloodhound/6584129963_1549c0242e_m.jpg', 1),\n",
              " ('./bloodhound/6802408923_51ae02ac59_n.jpg', 1),\n",
              " ('./bloodhound/6835189227_33a3c01708_m.jpg', 1),\n",
              " ('./bloodhound/6916816870_c5e78b06aa_m.jpg', 1),\n",
              " ('./bloodhound/6936061972_bfb76af33a_n.jpg', 1),\n",
              " ('./bloodhound/6936073130_5ce46093ca_n.jpg', 1),\n",
              " ('./bloodhound/7082157825_f5362dfe10_n.jpg', 1),\n",
              " ('./bloodhound/7082169409_ffff227e55_m.jpg', 1),\n",
              " ('./bloodhound/7133040111_aa6c719336_n.jpg', 1),\n",
              " ('./bloodhound/7162412074_09e9432f26_n.jpg', 1),\n",
              " ('./bloodhound/7171895288_f667d0959d_m.jpg', 1),\n",
              " ('./bloodhound/7512001670_d4194dbf48_n.jpg', 1),\n",
              " ('./bloodhound/7572253638_b503d75bda_n.jpg', 1),\n",
              " ('./bloodhound/7572253794_7604e3e588_n.jpg', 1),\n",
              " ('./bloodhound/7708049508_f29aef16c2_n.jpg', 1),\n",
              " ('./bloodhound/7890333418_0b024ea6d7_m.jpg', 1),\n",
              " ('./bloodhound/8155855153_e69b54f4cb_m.jpg', 1),\n",
              " ('./bloodhound/8158573574_1f10f51cb0_m.jpg', 1),\n",
              " ('./bloodhound/8255969853_5771456bae_n.jpg', 1),\n",
              " ('./bloodhound/8279816338_9f0960cbcc_n.jpg', 1),\n",
              " ('./bloodhound/8335930192_0bba5beb5a_m.jpg', 1),\n",
              " ('./bloodhound/8341074209_33c9e4a754_m.jpg', 1),\n",
              " ('./bloodhound/8342131662_fcb4c7d939_n.jpg', 1),\n",
              " ('./bloodhound/8342132520_3a12166132_m.jpg', 1),\n",
              " ('./bloodhound/8342132828_a8a58edaaf_n.jpg', 1),\n",
              " ('./bloodhound/8349386379_cf06feece4_m.jpg', 1),\n",
              " ('./bloodhound/8349386549_03c8b46f5e_n.jpg', 1),\n",
              " ('./bloodhound/8354111189_30619f9f1a_m.jpg', 1),\n",
              " ('./bloodhound/8419192868_0a0e74d75c_n.jpg', 1),\n",
              " ('./bloodhound/8423069524_3acff6ba4b_m.jpg', 1),\n",
              " ('./bloodhound/8448971845_48b6fea919_m.jpg', 1),\n",
              " ('./bloodhound/8484788020_7f04654817_n.jpg', 1),\n",
              " ('./bloodhound/8670287299_df4e4daa97_m.jpg', 1),\n",
              " ('./bloodhound/8778704664_f8856623db_m.jpg', 1),\n",
              " ('./bloodhound/8778708834_67cee6768f_m.jpg', 1),\n",
              " ('./bloodhound/8858106328_2f3bc4a569_n.jpg', 1),\n",
              " ('./bloodhound/9064628572_9a2def94c2_w.jpg', 1),\n",
              " ('./bloodhound/9303463253_791e4044dd_m.jpg', 1),\n",
              " ('./bloodhound/9316827473_732e7146a3_n.jpg', 1),\n",
              " ('./bordercollie/03809040f1f899b10561400c6928d650.jpg', 2),\n",
              " ('./bordercollie/044e3b157ac85503e92c52da868f35fb.jpg', 2),\n",
              " ('./bordercollie/0d366f236645653da00674cae8f1579e.jpg', 2),\n",
              " ('./bordercollie/10018954785_cc0c907fc9_n.jpg', 2),\n",
              " ('./bordercollie/10874810183_f14856d7fe_n.jpg', 2),\n",
              " ('./bordercollie/11f502054a3d9e6dc648c7adccb1f3d2.jpg', 2),\n",
              " ('./bordercollie/1360a4c0b77096b5adec8a98a1f00b72.jpg', 2),\n",
              " ('./bordercollie/13732379825_359b898125_m.jpg', 2),\n",
              " ('./bordercollie/14834284569_42c1f82b6f_m.jpg', 2),\n",
              " ('./bordercollie/15722144467_5133ede91a_n.jpg', 2),\n",
              " ('./bordercollie/15810700988_89b1fb42c5_n.jpg', 2),\n",
              " ('./bordercollie/15955095939_a69d5c7565_z.jpg', 2),\n",
              " ('./bordercollie/15b7e37e66fc47b95e141d1a451209c7.jpg', 2),\n",
              " ('./bordercollie/16182644046_ec4d844c10_n.jpg', 2),\n",
              " ('./bordercollie/16363762300_b5db2531f2_n.jpg', 2),\n",
              " ('./bordercollie/16366814135_de8c7fd36f_n.jpg', 2),\n",
              " ('./bordercollie/1665e0517831b296fe8f7d5ebdcb7c45.jpg', 2),\n",
              " ('./bordercollie/18192278183_e0c0cbe0f5_w.jpg', 2),\n",
              " ('./bordercollie/18292080306_0028541e55_n.jpg', 2),\n",
              " ('./bordercollie/19810096836_2d460477c0_m.jpg', 2),\n",
              " ('./bordercollie/1f633b8d0be3c4c9f5340318d37c6c04.jpg', 2),\n",
              " ('./bordercollie/20377485113_0e95cc3270_n.jpg', 2),\n",
              " ('./bordercollie/20788733681_464d160811_w.jpg', 2),\n",
              " ('./bordercollie/20871976564_23149203ac.jpg', 2),\n",
              " ('./bordercollie/21042184245_3d65de1095_w.jpg', 2),\n",
              " ('./bordercollie/21296076374_576ed708ac_n.jpg', 2),\n",
              " ('./bordercollie/21348605883_3e6715c8b8_n.jpg', 2),\n",
              " ('./bordercollie/21475685353_c2734de362_w.jpg', 2),\n",
              " ('./bordercollie/21842832044_e8990a6acc_n.jpg', 2),\n",
              " ('./bordercollie/21998568986_cd0e3ae254_z.jpg', 2),\n",
              " ('./bordercollie/22416747973_94db76fe17_n.jpg', 2),\n",
              " ('./bordercollie/22829562057_2ff4e2e9e0_m.jpg', 2),\n",
              " ('./bordercollie/22886166055_a51e1b5f88_m.jpg', 2),\n",
              " ('./bordercollie/23557508120_0ea965569e_w.jpg', 2),\n",
              " ('./bordercollie/23714650674_9d307d7f62_w.jpg', 2),\n",
              " ('./bordercollie/23806227600_09667f707d_n.jpg', 2),\n",
              " ('./bordercollie/24821568014_1cfb5c78ce_w.jpg', 2),\n",
              " ('./bordercollie/24911221382_1591801fec_n.jpg', 2),\n",
              " ('./bordercollie/25213060447_717a2e77a9_w.jpg', 2),\n",
              " ('./bordercollie/25446624662_9d53b4f1f8_n.jpg', 2),\n",
              " ('./bordercollie/25635583492_f773d81e39_n.jpg', 2),\n",
              " ('./bordercollie/25904412537_cb3a89beca_n.jpg', 2),\n",
              " ('./bordercollie/26122742830_057c8e88ed_n.jpg', 2),\n",
              " ('./bordercollie/26609505285_9e1ae59a21_w.jpg', 2),\n",
              " ('./bordercollie/27014262955_b41986f8dd_n.jpg', 2),\n",
              " ('./bordercollie/27861514434_4ec6a35b2b_n.jpg', 2),\n",
              " ('./bordercollie/28302268257_6a47454233_n.jpg', 2),\n",
              " ('./bordercollie/28812307723_1438b24b92_m.jpg', 2),\n",
              " ('./bordercollie/30640155950_6a1f383233_n.jpg', 2),\n",
              " ('./bordercollie/30643771252_7c3dd66356_w.jpg', 2),\n",
              " ('./bordercollie/30825847950_5d0216ea94_n.jpg', 2),\n",
              " ('./bordercollie/30974035132_434b0396c9_w.jpg', 2),\n",
              " ('./bordercollie/31219757630_f5fce27508.jpg', 2),\n",
              " ('./bordercollie/31282951747_11632f86c5_n.jpg', 2),\n",
              " ('./bordercollie/31305095231_c585c9ccbb_c.jpg', 2),\n",
              " ('./bordercollie/31863339767_d67cb33591_w.jpg', 2),\n",
              " ('./bordercollie/32223480943_f02c8c268e_n.jpg', 2),\n",
              " ('./bordercollie/32338835195_a2a47d25f9_n.jpg', 2),\n",
              " ('./bordercollie/32559949797_82df73c700_n.jpg', 2),\n",
              " ('./bordercollie/32658431277_60367b863c_n.jpg', 2),\n",
              " ('./bordercollie/32687142245_3b19355c2b_n.jpg', 2),\n",
              " ('./bordercollie/32828024347_8cf8415d94.jpg', 2),\n",
              " ('./bordercollie/32845352945_0be96b2ceb_n.jpg', 2),\n",
              " ('./bordercollie/32901834063_cb405f7e5e_n.jpg', 2),\n",
              " ('./bordercollie/33604891388_03e9bee7b3_n.jpg', 2),\n",
              " ('./bordercollie/3559ece3b812728f2fa201b02225b30e.jpg', 2),\n",
              " ('./bordercollie/36078127340_dcb0f4bf70_m.jpg', 2),\n",
              " ('./bordercollie/36680406294_2021bec2a6_m.jpg', 2),\n",
              " ('./bordercollie/37155096870_acfe4b6477_n.jpg', 2),\n",
              " ('./bordercollie/3773d96693191bee5b45b3500898e394.jpg', 2),\n",
              " ('./bordercollie/37791240694_3225c42e4e_n.jpg', 2),\n",
              " ('./bordercollie/38170162536_b6dd5ca886_n.jpg', 2),\n",
              " ('./bordercollie/39310832410_a0d44c1260_n.jpg', 2),\n",
              " ('./bordercollie/39728533741_0d0ac1bc53_n.jpg', 2),\n",
              " ('./bordercollie/40568896173_7d7bfdf1f8_n.jpg', 2),\n",
              " ('./bordercollie/4126623654_8c877a206c_m.jpg', 2),\n",
              " ('./bordercollie/41557521695_74d684118c_n.jpg', 2),\n",
              " ('./bordercollie/41676101661_fea6f48b49_w.jpg', 2),\n",
              " ('./bordercollie/43548115094_2e70cd1d9a_n.jpg', 2),\n",
              " ('./bordercollie/43879329535_d543db04a6_n.jpg', 2),\n",
              " ('./bordercollie/446164888_3121e47633_n.jpg', 2),\n",
              " ('./bordercollie/44693499432_4b114f1213_n.jpg', 2),\n",
              " ('./bordercollie/45943826014_7cb0a6c382_m.jpg', 2),\n",
              " ('./bordercollie/46060710895_af97fc24d8_m.jpg', 2),\n",
              " ('./bordercollie/46522130785_609ed7e2fa_w.jpg', 2),\n",
              " ('./bordercollie/46639366105_1c6be1e349_m.jpg', 2),\n",
              " ('./bordercollie/46639890405_f21b162531_n.jpg', 2),\n",
              " ('./bordercollie/46753103422_cdb1d90e6f_n.jpg', 2),\n",
              " ('./bordercollie/46810068835_49ab6e9d89_w.jpg', 2),\n",
              " ('./bordercollie/47449111602_c299421711_n.jpg', 2),\n",
              " ('./bordercollie/47502589282_899a37978d_w.jpg', 2),\n",
              " ('./bordercollie/48073524437_4eb3cfdb89_n.jpg', 2),\n",
              " ('./bordercollie/48664927293_e4488bcdb2_n.jpg', 2),\n",
              " ('./bordercollie/48689072361_f3a71113eb_n.jpg', 2),\n",
              " ('./bordercollie/48716651982_675d7b8c33_n.jpg', 2),\n",
              " ('./bordercollie/48767776298_1cfa9ce9f9_n.jpg', 2),\n",
              " ('./bordercollie/48806413891_cd4fb01728_m.jpg', 2),\n",
              " ('./bordercollie/48816895397_9662aa2e44_m.jpg', 2),\n",
              " ('./bordercollie/48885289861_ecd57b4f99_n.jpg', 2),\n",
              " ('./bordercollie/48970511847_df36c74711_w.jpg', 2),\n",
              " ('./bordercollie/48981656358_80ebdcdf11_w.jpg', 2),\n",
              " ('./bordercollie/49033241422_2d70f540bf_m.jpg', 2),\n",
              " ('./bordercollie/49081105466_f55f6b3c5a_n.jpg', 2),\n",
              " ('./bordercollie/49174398922_80c32c4538_m.jpg', 2),\n",
              " ('./bordercollie/49188670071_88b7914278_m.jpg', 2),\n",
              " ('./bordercollie/49235233992_e99aa6a2ab_n.jpg', 2),\n",
              " ('./bordercollie/49268465068_e046f4b627_n.jpg', 2),\n",
              " ('./bordercollie/49473351058_f180f2db37_m.jpg', 2),\n",
              " ('./bordercollie/49505905398_be5edc81f4_n.jpg', 2),\n",
              " ('./bordercollie/49507020578_aaa5a69d36_n.jpg', 2),\n",
              " ('./bordercollie/49529918326_023b95f37c_m.jpg', 2),\n",
              " ('./bordercollie/49588852563_b60888fe10_n.jpg', 2),\n",
              " ('./bordercollie/49680304303_fc569514ce_n.jpg', 2),\n",
              " ('./bordercollie/49686507277_bdea236af8_w.jpg', 2),\n",
              " ('./bordercollie/49724577273_3f96684007_n.jpg', 2),\n",
              " ('./bordercollie/49735431163_0c29e073e8_n.jpg', 2),\n",
              " ('./bordercollie/49751049502_c9a614b497_n.jpg', 2),\n",
              " ('./bordercollie/49773628107_013aee55c9_m.jpg', 2),\n",
              " ('./bordercollie/49774632452_fe2b581df8_m.jpg', 2),\n",
              " ('./bordercollie/49787425238_4e18c022a8_w.jpg', 2),\n",
              " ('./bordercollie/49840890052_c1391fe5d0_n.jpg', 2),\n",
              " ('./bordercollie/49861768858_2d09585770_w.jpg', 2),\n",
              " ('./bordercollie/49904448406_d42e7002d9_n.jpg', 2),\n",
              " ('./bordercollie/49909848703_bcdea4d00a_n.jpg', 2),\n",
              " ('./bordercollie/49913301827_de41c915ac_n.jpg', 2),\n",
              " ('./bordercollie/49913339462_579b464c5a_w.jpg', 2),\n",
              " ('./bordercollie/49925915291_4348fdb2b7_n.jpg', 2),\n",
              " ('./bordercollie/49978432311_fa91fc8208_n.jpg', 2),\n",
              " ('./bordercollie/49978462067_153622fe69_n.jpg', 2),\n",
              " ('./bordercollie/49978503507_f1e2a81547_n.jpg', 2),\n",
              " ('./bordercollie/49993663648_ec1a878ec6_m.jpg', 2),\n",
              " ('./bordercollie/50015679047_407dfaa6a2_m.jpg', 2),\n",
              " ('./bordercollie/50061842467_214dd29b70_n.jpg', 2),\n",
              " ('./bordercollie/50061844186_9e9c5af2aa_m.jpg', 2),\n",
              " ('./bordercollie/50070960202_c61a0d75bd_m.jpg', 2),\n",
              " ('./bordercollie/50078792767_f514884d94_w.jpg', 2),\n",
              " ('./bordercollie/50096495671_e287a5c7b7.jpg', 2),\n",
              " ('./bordercollie/50120973948_29045fb925_n.jpg', 2),\n",
              " ('./bordercollie/50338039383_e64bddc275_n.jpg', 2),\n",
              " ('./bordercollie/50338724471_cf0f17ce7e_n.jpg', 2),\n",
              " ('./bordercollie/50371160731_dcf4f23b18_n.jpg', 2),\n",
              " ('./bordercollie/50375983413_219ae0463a_n.jpg', 2),\n",
              " ('./bordercollie/50558972288_b1d3d062b4_n.jpg', 2),\n",
              " ('./bordercollie/50563164822_55bcc42519_m.jpg', 2),\n",
              " ('./bordercollie/50568777813_bf92031b9b_n.jpg', 2),\n",
              " ('./bordercollie/50568780718_01e1da4173_w.jpg', 2),\n",
              " ('./bordercollie/50575016538_02cf4450d0_n.jpg', 2),\n",
              " ('./bordercollie/50586049243_e4d67d6f85_n.jpg', 2),\n",
              " ('./bordercollie/50602130702_81d28aba04_w.jpg', 2),\n",
              " ('./bordercollie/50621361143_5eb0367400_m.jpg', 2),\n",
              " ('./bordercollie/50649006126_d84ea3da11_n.jpg', 2),\n",
              " ('./bordercollie/50649032066_c83712ae8e_m.jpg', 2),\n",
              " ('./bordercollie/50683085558_3e6da6c5e7.jpg', 2),\n",
              " ('./bordercollie/50683085627_d2f0e2a2b3_n.jpg', 2),\n",
              " ('./bordercollie/50713667948_ac411d38c1_w.jpg', 2),\n",
              " ('./bordercollie/50737688317_a2c236736d_m.jpg', 2),\n",
              " ('./bordercollie/50740573606_b171130311_n.jpg', 2),\n",
              " ('./bordercollie/50751556073_05f24d66bc_n.jpg', 2),\n",
              " ('./bordercollie/50758425096_6a2af96e70_n.jpg', 2),\n",
              " ('./bordercollie/50783704202_d38a4e6570_n.jpg', 2),\n",
              " ('./bordercollie/50893474778_f684617e74_n.jpg', 2),\n",
              " ('./bordercollie/50893737052_0eb1437c77_w.jpg', 2),\n",
              " ('./bordercollie/50894443267_3108b3cb55_n.jpg', 2),\n",
              " ('./bordercollie/50992583488_609d746dac_n.jpg', 2),\n",
              " ('./bordercollie/51001091234_e576f291b5_m.jpg', 2),\n",
              " ('./bordercollie/51009363705_1ca68f3265.jpg', 2),\n",
              " ('./bordercollie/51012099192_d53f704b78_n.jpg', 2),\n",
              " ('./bordercollie/51013616572_2bff7bd7ff_m.jpg', 2),\n",
              " ('./bordercollie/51026894956_40e45f9135_m.jpg', 2),\n",
              " ('./bordercollie/51034761478_db8ace1f2c_n.jpg', 2),\n",
              " ('./bordercollie/51036309247_67ce6e9c4b_n.jpg', 2),\n",
              " ('./bordercollie/51036642138_89f7ac6942_n.jpg', 2),\n",
              " ('./bordercollie/51109525045_f8a99b584d_n.jpg', 2),\n",
              " ('./bordercollie/51155917325_e0c10f6a7a_n.jpg', 2),\n",
              " ('./bordercollie/51174695404_8f369fbd45_w.jpg', 2),\n",
              " ('./bordercollie/51200256223_739f4ed338_n.jpg', 2),\n",
              " ('./bordercollie/51202461923_3ee174b400_m.jpg', 2),\n",
              " ('./bordercollie/51334771845_a1383bae6f_n.jpg', 2),\n",
              " ('./bordercollie/51338416341_34e4db5676_m.jpg', 2),\n",
              " ('./bordercollie/51349234167_dbc6c21b00_w.jpg', 2),\n",
              " ('./bordercollie/51425620605_f087a8e11b_m.jpg', 2),\n",
              " ('./bordercollie/51490088641_88dc66569a_n.jpg', 2),\n",
              " ('./bordercollie/51666706581_41ae794283_n.jpg', 2),\n",
              " ('./bordercollie/51668227213_b1e3566bbd_n.jpg', 2),\n",
              " ('./bordercollie/51695006617_969452ff6e_n.jpg', 2),\n",
              " ('./bordercollie/51700253699_f0bba9dfd7_n.jpg', 2),\n",
              " ('./bordercollie/51712133420_cf7cd1ce42_n.jpg', 2),\n",
              " ('./bordercollie/51714025763_fcde6497bb_n.jpg', 2),\n",
              " ('./bordercollie/51714400254_fb2a3f0dff_m.jpg', 2),\n",
              " ('./bordercollie/51720996435_050816f4ae_n.jpg', 2),\n",
              " ('./bordercollie/51721390466_38d4fbd256_w.jpg', 2),\n",
              " ('./bordercollie/51724892199_c111357bb9_n.jpg', 2),\n",
              " ('./bordercollie/51784227776_898d0fd5d4_m.jpg', 2),\n",
              " ('./bordercollie/51822610884_427e65c5b6_n.jpg', 2),\n",
              " ('./bordercollie/51990331218_46afdf5f11_m.jpg', 2),\n",
              " ('./bordercollie/52028164939_79c4154605_n.jpg', 2),\n",
              " ('./bordercollie/52053219549_147af78fa1_n.jpg', 2),\n",
              " ('./bordercollie/52072286063_341ccb20d6_n.jpg', 2),\n",
              " ('./bordercollie/5209363854_569b1795bf_n.jpg', 2),\n",
              " ('./bordercollie/52291141875_a4dd912cd6_m.jpg', 2),\n",
              " ('./bordercollie/52328977191_9db80d8590_m.jpg', 2),\n",
              " ('./bordercollie/52386491835_5dd12df7ee_m.jpg', 2),\n",
              " ('./bordercollie/540c8abedc3a5b9d44bfd14a5076a2e8.jpg', 2),\n",
              " ('./bordercollie/5550839805_f218d6c334_n.jpg', 2),\n",
              " ('./bordercollie/5666105302_0ca22877d4_n.jpg', 2),\n",
              " ('./bordercollie/5982489378_91aacf1191_n.jpg', 2),\n",
              " ('./bordercollie/5cba65c2010739dac0610ec11c8379ac.jpg', 2),\n",
              " ('./bordercollie/609996151f926815ecfdc9494b7faa45.jpg', 2),\n",
              " ('./bordercollie/6110cc86ca1f6b4bdc1d537bf4f1bae5.jpg', 2),\n",
              " ('./bordercollie/6174938414542d41d1c0ea2e0d72d0b7.jpg', 2),\n",
              " ('./bordercollie/61fb33a1564d3e98756b4be0b14849d2.jpg', 2),\n",
              " ('./bordercollie/6630056935_3df7223d92_n.jpg', 2),\n",
              " ('./bordercollie/6703534917_eb0c7feb8b_n.jpg', 2),\n",
              " ('./bordercollie/6703545459_1722b4f491_m.jpg', 2),\n",
              " ('./bordercollie/8100885e3ca46d513eefcaf9c18fa218.jpg', 2),\n",
              " ('./bordercollie/886685956a496680ba1b2235e9b391ef.jpg', 2),\n",
              " ('./bordercollie/8b46593423246eab1625f25aea55ea23.jpg', 2),\n",
              " ('./bordercollie/9765d9ae3127fa373aea8ed43f63ff9b.jpg', 2),\n",
              " ('./bordercollie/9e8a570383ee0bb2e68f7940cde76d85.jpg', 2),\n",
              " ('./bordercollie/a007f665121ac20f6684ab4b13963f65.jpg', 2),\n",
              " ('./bordercollie/a0a6bc7e64c83a21eb80651b5c0b6678.jpg', 2),\n",
              " ('./bordercollie/a60113549975d855be731c8394e95fdf.jpg', 2),\n",
              " ('./bordercollie/b01315d67e9441d7435ae9f0e7d1797c.jpg', 2),\n",
              " ('./bordercollie/b0b8b0080130c40443f0aba7b1087437.jpg', 2),\n",
              " ('./bordercollie/border-collie-2184706__480.jpg', 2),\n",
              " ('./bordercollie/border-collie-3467632__480.jpg', 2),\n",
              " ('./bordercollie/border-collie-4020052__480.jpg', 2),\n",
              " ('./bordercollie/border-collie-6391794__480.jpg', 2),\n",
              " ('./bordercollie/border-collie-662786__480.jpg', 2),\n",
              " ('./bordercollie/border-collie-665162__480.jpg', 2),\n",
              " ('./bordercollie/border-collie-667488__480.jpg', 2),\n",
              " ('./bordercollie/border-collie-672633__480.jpg', 2),\n",
              " ('./bordercollie/border-collie-672673__480.jpg', 2),\n",
              " ('./bordercollie/border-collie-700810__480.jpg', 2),\n",
              " ('./bordercollie/border-collie-7471127__480.jpg', 2),\n",
              " ('./bordercollie/border-collie-794399__480.jpg', 2),\n",
              " ('./bordercollie/border-collie-branco-e-preto-em-uma-paisagem-de-floresta_181624-30365.jpg',\n",
              "  2),\n",
              " ('./bordercollie/c004ddc4a0175391b7d5f9eb9c74b992.jpg', 2),\n",
              " ('./bordercollie/c7dee4b0c528105dd0c08da49fea95f2.jpg', 2),\n",
              " ('./bordercollie/d395b585839208b843be1fb869ea83a6.jpg', 2),\n",
              " ('./bordercollie/d7cbd4935a7dc50f0019bf77d7c1d011.jpg', 2),\n",
              " ('./bordercollie/dog-1548176__480.jpg', 2),\n",
              " ('./bordercollie/dog-2085004__480.jpg', 2),\n",
              " ('./bordercollie/dog-2501240__480.jpg', 2),\n",
              " ('./bordercollie/dog-3104807__480.jpg', 2),\n",
              " ('./bordercollie/dog-4441585__480.jpg', 2),\n",
              " ('./bordercollie/dog-7134183__480.jpg', 2),\n",
              " ('./bordercollie/dog-7379818__480.jpg', 2),\n",
              " ('./bordercollie/e50ebfd69a9f94ff3ad2b4ba8d49d1cb.jpg', 2),\n",
              " ('./bordercollie/fc8dd89ec669c9021176ef3fa7012df3.jpg', 2),\n",
              " ...]"
            ]
          },
          "metadata": {},
          "execution_count": 313
        }
      ],
      "source": [
        "instances"
      ]
    },
    {
      "cell_type": "code",
      "execution_count": null,
      "metadata": {
        "id": "EM4viEk5fB5y"
      },
      "outputs": [],
      "source": [
        "from torch.utils.data import Dataset\n",
        "\n",
        "from typing import Any,Tuple\n",
        "\n",
        "class CachorrosDataset(Dataset):\n",
        "    def __init__(self,dir,transform=None,target_transform=None,loader = None):\n",
        "        self.main_dir = dir\n",
        "        self.transform = transform\n",
        "        self.target_transform = target_transform\n",
        "        self.classes = [d.name for d in os.scandir(dir) if d.is_dir()]\n",
        "        self.classes.sort()\n",
        "        self.class_to_idx = {cls_name: i for i, cls_name in enumerate(self.classes)}\n",
        "        self.targets = []\n",
        "        self.instances = self.make_instances()\n",
        "        self.loader = loader\n",
        "        \n",
        "        if loader is None:\n",
        "            self.loader = lambda x: Image.open(x).convert('RGB')\n",
        "\n",
        "    def make_instances(self):\n",
        "        instances = []\n",
        "        targets = []\n",
        "        for target_class in sorted(self.class_to_idx.keys()):\n",
        "                class_index = self.class_to_idx[target_class]\n",
        "                target_dir = os.path.join(self.main_dir, target_class)\n",
        "                for root, _, fnames in sorted(os.walk(target_dir, followlinks=True)):\n",
        "                    for fname in sorted(fnames):\n",
        "                        path = os.path.join(root, fname)\n",
        "                        item = path, class_index\n",
        "                        targets.append(class_index)\n",
        "                        instances.append(item)\n",
        "        self.targets = torch.tensor(targets)\n",
        "        return instances\n",
        "    def __getitem__(self,index:int) -> Tuple[Any,Any]:\n",
        "        path, target = self.instances[index]\n",
        "        instance = self.loader(path)\n",
        "        if self.transform is not None:\n",
        "            instance = self.transform(instance)\n",
        "        if self.target_transform is not None:\n",
        "            target = self.target_transform(target)\n",
        "        return instance,target\n",
        "    def __len__(self) -> int:\n",
        "        return len(self.instances)\n"
      ]
    },
    {
      "cell_type": "code",
      "execution_count": null,
      "metadata": {
        "id": "slVYnJkPfB3I"
      },
      "outputs": [],
      "source": [
        "dataset = CachorrosDataset('./',transform=transform)"
      ]
    },
    {
      "cell_type": "code",
      "execution_count": null,
      "metadata": {
        "colab": {
          "base_uri": "https://localhost:8080/"
        },
        "id": "SVaQ5u0zfBxe",
        "outputId": "b0fe1db2-d981-4c12-c5f9-c704d3ae2177"
      },
      "outputs": [
        {
          "output_type": "execute_result",
          "data": {
            "text/plain": [
              "5000"
            ]
          },
          "metadata": {},
          "execution_count": 316
        }
      ],
      "source": [
        "len(dataset)"
      ]
    },
    {
      "cell_type": "code",
      "execution_count": null,
      "metadata": {
        "id": "DErvtqCJfmaZ"
      },
      "outputs": [],
      "source": [
        "#dataset = torchvision.datasets.DatasetFolder('./',loader = image_loader,extensions='jpg',transform=transform )"
      ]
    },
    {
      "cell_type": "markdown",
      "metadata": {
        "id": "1D55moAdgBFt"
      },
      "source": [
        "# Training the network"
      ]
    },
    {
      "cell_type": "code",
      "execution_count": null,
      "metadata": {
        "id": "PzBlpAwygISL"
      },
      "outputs": [],
      "source": [
        "ds = dataset"
      ]
    },
    {
      "cell_type": "code",
      "execution_count": null,
      "metadata": {
        "id": "4Y546QdVkCv_"
      },
      "outputs": [],
      "source": [
        "from sklearn.model_selection import train_test_split"
      ]
    },
    {
      "cell_type": "code",
      "execution_count": null,
      "metadata": {
        "colab": {
          "base_uri": "https://localhost:8080/"
        },
        "id": "ZcGapawnm60C",
        "outputId": "36f5e40d-d275-4d77-90d6-b62bddddd4df"
      },
      "outputs": [
        {
          "output_type": "execute_result",
          "data": {
            "text/plain": [
              "(array([ 0,  1,  2,  3,  4,  5,  6,  7,  8,  9, 10, 11, 12, 13, 14, 15, 16,\n",
              "        17, 18, 19]),\n",
              " array([250, 250, 250, 250, 250, 250, 250, 250, 250, 250, 250, 250, 250,\n",
              "        250, 250, 250, 250, 250, 250, 250]))"
            ]
          },
          "metadata": {},
          "execution_count": 320
        }
      ],
      "source": [
        "np.unique(ds.targets,return_counts=True)"
      ]
    },
    {
      "cell_type": "code",
      "execution_count": null,
      "metadata": {
        "id": "n4h4p6FXj2LP"
      },
      "outputs": [],
      "source": [
        "bs = 16\n",
        "train_idx, temp_idx = train_test_split(np.arange(len(ds)),test_size=0.3,shuffle=True,stratify=ds.targets)\n",
        "valid_idx, test_idx = train_test_split(temp_idx,test_size=0.5,shuffle=True,stratify=ds.targets[temp_idx])\n",
        " \n",
        "train_sampler = torch.utils.data.SubsetRandomSampler(train_idx)\n",
        "valid_sampler = torch.utils.data.SubsetRandomSampler(valid_idx)\n",
        "test_sampler  = torch.utils.data.SubsetRandomSampler(test_idx)\n",
        " \n",
        "dl_train = torch.utils.data.DataLoader(ds,batch_size=bs,sampler=train_sampler)\n",
        "dl_valid = torch.utils.data.DataLoader(ds,batch_size=bs,sampler=valid_sampler)\n",
        "dl_test  = torch.utils.data.DataLoader(ds,batch_size=bs,sampler=test_sampler)"
      ]
    },
    {
      "cell_type": "code",
      "execution_count": null,
      "metadata": {
        "colab": {
          "base_uri": "https://localhost:8080/"
        },
        "id": "abIip4YbnL9w",
        "outputId": "a683fd33-5768-4ab4-bd20-6f035a75effe"
      },
      "outputs": [
        {
          "output_type": "execute_result",
          "data": {
            "text/plain": [
              "(array([ 0,  1,  2,  3,  4,  5,  6,  7,  8,  9, 10, 11, 12, 13, 14, 15, 16,\n",
              "        17, 18, 19]),\n",
              " array([175, 175, 175, 175, 175, 175, 175, 175, 175, 175, 175, 175, 175,\n",
              "        175, 175, 175, 175, 175, 175, 175]))"
            ]
          },
          "metadata": {},
          "execution_count": 322
        }
      ],
      "source": [
        "np.unique(ds.targets[train_idx],return_counts=True)"
      ]
    },
    {
      "cell_type": "code",
      "execution_count": null,
      "metadata": {
        "colab": {
          "base_uri": "https://localhost:8080/"
        },
        "id": "6-PTDAJnnWQ1",
        "outputId": "ddbc295d-97ee-4d85-e84d-050ca58b615f"
      },
      "outputs": [
        {
          "output_type": "execute_result",
          "data": {
            "text/plain": [
              "(array([ 0,  1,  2,  3,  4,  5,  6,  7,  8,  9, 10, 11, 12, 13, 14, 15, 16,\n",
              "        17, 18, 19]),\n",
              " array([38, 37, 38, 38, 37, 38, 37, 37, 38, 37, 38, 38, 37, 38, 37, 38, 37,\n",
              "        38, 37, 37]))"
            ]
          },
          "metadata": {},
          "execution_count": 323
        }
      ],
      "source": [
        "np.unique(ds.targets[valid_idx],return_counts=True)"
      ]
    },
    {
      "cell_type": "code",
      "execution_count": null,
      "metadata": {
        "colab": {
          "base_uri": "https://localhost:8080/"
        },
        "id": "Y5KADpQLoT6P",
        "outputId": "cdc2333b-dfd2-4db6-f16c-48f81dc8b848"
      },
      "outputs": [
        {
          "output_type": "execute_result",
          "data": {
            "text/plain": [
              "(array([ 0,  1,  2,  3,  4,  5,  6,  7,  8,  9, 10, 11, 12, 13, 14, 15, 16,\n",
              "        17, 18, 19]),\n",
              " array([37, 38, 37, 37, 38, 37, 38, 38, 37, 38, 37, 37, 38, 37, 38, 37, 38,\n",
              "        37, 38, 38]))"
            ]
          },
          "metadata": {},
          "execution_count": 324
        }
      ],
      "source": [
        "np.unique(ds.targets[test_idx],return_counts=True)"
      ]
    },
    {
      "cell_type": "code",
      "execution_count": null,
      "metadata": {
        "id": "lfSz8w-efP37"
      },
      "outputs": [],
      "source": [
        "x,y = next(iter(dl_train))"
      ]
    },
    {
      "cell_type": "code",
      "execution_count": null,
      "metadata": {
        "colab": {
          "base_uri": "https://localhost:8080/"
        },
        "id": "ENuAZhFfZych",
        "outputId": "aa02f063-cefd-4147-a767-683851ad05a0"
      },
      "outputs": [
        {
          "output_type": "execute_result",
          "data": {
            "text/plain": [
              "(torch.Size([16, 3, 224, 224]), torch.Size([16]))"
            ]
          },
          "metadata": {},
          "execution_count": 326
        }
      ],
      "source": [
        "x.shape,y.shape"
      ]
    },
    {
      "cell_type": "code",
      "execution_count": null,
      "metadata": {
        "id": "_3ahzvHrmQrD"
      },
      "outputs": [],
      "source": [
        "device = torch.device('cuda:0') if torch.cuda.is_available() else torch.device('cpu')"
      ]
    },
    {
      "cell_type": "code",
      "execution_count": null,
      "metadata": {
        "colab": {
          "base_uri": "https://localhost:8080/"
        },
        "id": "I0nj89S8ap9W",
        "outputId": "43cc4b2d-8123-4a04-cca8-223e67f06820"
      },
      "outputs": [
        {
          "output_type": "execute_result",
          "data": {
            "text/plain": [
              "device(type='cuda', index=0)"
            ]
          },
          "metadata": {},
          "execution_count": 328
        }
      ],
      "source": [
        "device"
      ]
    },
    {
      "cell_type": "code",
      "execution_count": null,
      "metadata": {
        "id": "vV8i1P-oawDP"
      },
      "outputs": [],
      "source": [
        "#torch.cuda.get_device_properties(0)\n"
      ]
    },
    {
      "cell_type": "code",
      "execution_count": null,
      "metadata": {
        "id": "-ski0BHYMSd7"
      },
      "outputs": [],
      "source": [
        "loss_train = []\n",
        "loss_eval  = []"
      ]
    },
    {
      "cell_type": "code",
      "execution_count": null,
      "metadata": {
        "id": "eYhd_NgOOEPK"
      },
      "outputs": [],
      "source": [
        "patience_time = 15"
      ]
    },
    {
      "cell_type": "code",
      "execution_count": null,
      "metadata": {
        "colab": {
          "base_uri": "https://localhost:8080/"
        },
        "id": "6FEaXcQ53Q4v",
        "outputId": "ad47705a-679e-4ba1-f909-c443c36b5076"
      },
      "outputs": [
        {
          "output_type": "stream",
          "name": "stderr",
          "text": [
            "/usr/local/lib/python3.7/dist-packages/torchvision/models/_utils.py:223: UserWarning: Arguments other than a weight enum or `None` for 'weights' are deprecated since 0.13 and will be removed in 0.15. The current behavior is equivalent to passing `weights=EfficientNet_B0_Weights.IMAGENET1K_V1`. You can also use `weights=EfficientNet_B0_Weights.DEFAULT` to get the most up-to-date weights.\n",
            "  warnings.warn(msg)\n"
          ]
        }
      ],
      "source": [
        "model = torchvision.models.efficientnet_b0(weights = torchvision.models.EfficientNet_B0_Weights)\n",
        "model.classifier[1] = nn.Linear(1280,20)"
      ]
    },
    {
      "cell_type": "code",
      "execution_count": null,
      "metadata": {
        "colab": {
          "base_uri": "https://localhost:8080/"
        },
        "id": "12tuTJPhvRWB",
        "outputId": "337f1ce3-49af-4136-bd91-e96979bde874"
      },
      "outputs": [
        {
          "output_type": "execute_result",
          "data": {
            "text/plain": [
              "EfficientNet(\n",
              "  (features): Sequential(\n",
              "    (0): Conv2dNormActivation(\n",
              "      (0): Conv2d(3, 32, kernel_size=(3, 3), stride=(2, 2), padding=(1, 1), bias=False)\n",
              "      (1): BatchNorm2d(32, eps=1e-05, momentum=0.1, affine=True, track_running_stats=True)\n",
              "      (2): SiLU(inplace=True)\n",
              "    )\n",
              "    (1): Sequential(\n",
              "      (0): MBConv(\n",
              "        (block): Sequential(\n",
              "          (0): Conv2dNormActivation(\n",
              "            (0): Conv2d(32, 32, kernel_size=(3, 3), stride=(1, 1), padding=(1, 1), groups=32, bias=False)\n",
              "            (1): BatchNorm2d(32, eps=1e-05, momentum=0.1, affine=True, track_running_stats=True)\n",
              "            (2): SiLU(inplace=True)\n",
              "          )\n",
              "          (1): SqueezeExcitation(\n",
              "            (avgpool): AdaptiveAvgPool2d(output_size=1)\n",
              "            (fc1): Conv2d(32, 8, kernel_size=(1, 1), stride=(1, 1))\n",
              "            (fc2): Conv2d(8, 32, kernel_size=(1, 1), stride=(1, 1))\n",
              "            (activation): SiLU(inplace=True)\n",
              "            (scale_activation): Sigmoid()\n",
              "          )\n",
              "          (2): Conv2dNormActivation(\n",
              "            (0): Conv2d(32, 16, kernel_size=(1, 1), stride=(1, 1), bias=False)\n",
              "            (1): BatchNorm2d(16, eps=1e-05, momentum=0.1, affine=True, track_running_stats=True)\n",
              "          )\n",
              "        )\n",
              "        (stochastic_depth): StochasticDepth(p=0.0, mode=row)\n",
              "      )\n",
              "    )\n",
              "    (2): Sequential(\n",
              "      (0): MBConv(\n",
              "        (block): Sequential(\n",
              "          (0): Conv2dNormActivation(\n",
              "            (0): Conv2d(16, 96, kernel_size=(1, 1), stride=(1, 1), bias=False)\n",
              "            (1): BatchNorm2d(96, eps=1e-05, momentum=0.1, affine=True, track_running_stats=True)\n",
              "            (2): SiLU(inplace=True)\n",
              "          )\n",
              "          (1): Conv2dNormActivation(\n",
              "            (0): Conv2d(96, 96, kernel_size=(3, 3), stride=(2, 2), padding=(1, 1), groups=96, bias=False)\n",
              "            (1): BatchNorm2d(96, eps=1e-05, momentum=0.1, affine=True, track_running_stats=True)\n",
              "            (2): SiLU(inplace=True)\n",
              "          )\n",
              "          (2): SqueezeExcitation(\n",
              "            (avgpool): AdaptiveAvgPool2d(output_size=1)\n",
              "            (fc1): Conv2d(96, 4, kernel_size=(1, 1), stride=(1, 1))\n",
              "            (fc2): Conv2d(4, 96, kernel_size=(1, 1), stride=(1, 1))\n",
              "            (activation): SiLU(inplace=True)\n",
              "            (scale_activation): Sigmoid()\n",
              "          )\n",
              "          (3): Conv2dNormActivation(\n",
              "            (0): Conv2d(96, 24, kernel_size=(1, 1), stride=(1, 1), bias=False)\n",
              "            (1): BatchNorm2d(24, eps=1e-05, momentum=0.1, affine=True, track_running_stats=True)\n",
              "          )\n",
              "        )\n",
              "        (stochastic_depth): StochasticDepth(p=0.0125, mode=row)\n",
              "      )\n",
              "      (1): MBConv(\n",
              "        (block): Sequential(\n",
              "          (0): Conv2dNormActivation(\n",
              "            (0): Conv2d(24, 144, kernel_size=(1, 1), stride=(1, 1), bias=False)\n",
              "            (1): BatchNorm2d(144, eps=1e-05, momentum=0.1, affine=True, track_running_stats=True)\n",
              "            (2): SiLU(inplace=True)\n",
              "          )\n",
              "          (1): Conv2dNormActivation(\n",
              "            (0): Conv2d(144, 144, kernel_size=(3, 3), stride=(1, 1), padding=(1, 1), groups=144, bias=False)\n",
              "            (1): BatchNorm2d(144, eps=1e-05, momentum=0.1, affine=True, track_running_stats=True)\n",
              "            (2): SiLU(inplace=True)\n",
              "          )\n",
              "          (2): SqueezeExcitation(\n",
              "            (avgpool): AdaptiveAvgPool2d(output_size=1)\n",
              "            (fc1): Conv2d(144, 6, kernel_size=(1, 1), stride=(1, 1))\n",
              "            (fc2): Conv2d(6, 144, kernel_size=(1, 1), stride=(1, 1))\n",
              "            (activation): SiLU(inplace=True)\n",
              "            (scale_activation): Sigmoid()\n",
              "          )\n",
              "          (3): Conv2dNormActivation(\n",
              "            (0): Conv2d(144, 24, kernel_size=(1, 1), stride=(1, 1), bias=False)\n",
              "            (1): BatchNorm2d(24, eps=1e-05, momentum=0.1, affine=True, track_running_stats=True)\n",
              "          )\n",
              "        )\n",
              "        (stochastic_depth): StochasticDepth(p=0.025, mode=row)\n",
              "      )\n",
              "    )\n",
              "    (3): Sequential(\n",
              "      (0): MBConv(\n",
              "        (block): Sequential(\n",
              "          (0): Conv2dNormActivation(\n",
              "            (0): Conv2d(24, 144, kernel_size=(1, 1), stride=(1, 1), bias=False)\n",
              "            (1): BatchNorm2d(144, eps=1e-05, momentum=0.1, affine=True, track_running_stats=True)\n",
              "            (2): SiLU(inplace=True)\n",
              "          )\n",
              "          (1): Conv2dNormActivation(\n",
              "            (0): Conv2d(144, 144, kernel_size=(5, 5), stride=(2, 2), padding=(2, 2), groups=144, bias=False)\n",
              "            (1): BatchNorm2d(144, eps=1e-05, momentum=0.1, affine=True, track_running_stats=True)\n",
              "            (2): SiLU(inplace=True)\n",
              "          )\n",
              "          (2): SqueezeExcitation(\n",
              "            (avgpool): AdaptiveAvgPool2d(output_size=1)\n",
              "            (fc1): Conv2d(144, 6, kernel_size=(1, 1), stride=(1, 1))\n",
              "            (fc2): Conv2d(6, 144, kernel_size=(1, 1), stride=(1, 1))\n",
              "            (activation): SiLU(inplace=True)\n",
              "            (scale_activation): Sigmoid()\n",
              "          )\n",
              "          (3): Conv2dNormActivation(\n",
              "            (0): Conv2d(144, 40, kernel_size=(1, 1), stride=(1, 1), bias=False)\n",
              "            (1): BatchNorm2d(40, eps=1e-05, momentum=0.1, affine=True, track_running_stats=True)\n",
              "          )\n",
              "        )\n",
              "        (stochastic_depth): StochasticDepth(p=0.037500000000000006, mode=row)\n",
              "      )\n",
              "      (1): MBConv(\n",
              "        (block): Sequential(\n",
              "          (0): Conv2dNormActivation(\n",
              "            (0): Conv2d(40, 240, kernel_size=(1, 1), stride=(1, 1), bias=False)\n",
              "            (1): BatchNorm2d(240, eps=1e-05, momentum=0.1, affine=True, track_running_stats=True)\n",
              "            (2): SiLU(inplace=True)\n",
              "          )\n",
              "          (1): Conv2dNormActivation(\n",
              "            (0): Conv2d(240, 240, kernel_size=(5, 5), stride=(1, 1), padding=(2, 2), groups=240, bias=False)\n",
              "            (1): BatchNorm2d(240, eps=1e-05, momentum=0.1, affine=True, track_running_stats=True)\n",
              "            (2): SiLU(inplace=True)\n",
              "          )\n",
              "          (2): SqueezeExcitation(\n",
              "            (avgpool): AdaptiveAvgPool2d(output_size=1)\n",
              "            (fc1): Conv2d(240, 10, kernel_size=(1, 1), stride=(1, 1))\n",
              "            (fc2): Conv2d(10, 240, kernel_size=(1, 1), stride=(1, 1))\n",
              "            (activation): SiLU(inplace=True)\n",
              "            (scale_activation): Sigmoid()\n",
              "          )\n",
              "          (3): Conv2dNormActivation(\n",
              "            (0): Conv2d(240, 40, kernel_size=(1, 1), stride=(1, 1), bias=False)\n",
              "            (1): BatchNorm2d(40, eps=1e-05, momentum=0.1, affine=True, track_running_stats=True)\n",
              "          )\n",
              "        )\n",
              "        (stochastic_depth): StochasticDepth(p=0.05, mode=row)\n",
              "      )\n",
              "    )\n",
              "    (4): Sequential(\n",
              "      (0): MBConv(\n",
              "        (block): Sequential(\n",
              "          (0): Conv2dNormActivation(\n",
              "            (0): Conv2d(40, 240, kernel_size=(1, 1), stride=(1, 1), bias=False)\n",
              "            (1): BatchNorm2d(240, eps=1e-05, momentum=0.1, affine=True, track_running_stats=True)\n",
              "            (2): SiLU(inplace=True)\n",
              "          )\n",
              "          (1): Conv2dNormActivation(\n",
              "            (0): Conv2d(240, 240, kernel_size=(3, 3), stride=(2, 2), padding=(1, 1), groups=240, bias=False)\n",
              "            (1): BatchNorm2d(240, eps=1e-05, momentum=0.1, affine=True, track_running_stats=True)\n",
              "            (2): SiLU(inplace=True)\n",
              "          )\n",
              "          (2): SqueezeExcitation(\n",
              "            (avgpool): AdaptiveAvgPool2d(output_size=1)\n",
              "            (fc1): Conv2d(240, 10, kernel_size=(1, 1), stride=(1, 1))\n",
              "            (fc2): Conv2d(10, 240, kernel_size=(1, 1), stride=(1, 1))\n",
              "            (activation): SiLU(inplace=True)\n",
              "            (scale_activation): Sigmoid()\n",
              "          )\n",
              "          (3): Conv2dNormActivation(\n",
              "            (0): Conv2d(240, 80, kernel_size=(1, 1), stride=(1, 1), bias=False)\n",
              "            (1): BatchNorm2d(80, eps=1e-05, momentum=0.1, affine=True, track_running_stats=True)\n",
              "          )\n",
              "        )\n",
              "        (stochastic_depth): StochasticDepth(p=0.0625, mode=row)\n",
              "      )\n",
              "      (1): MBConv(\n",
              "        (block): Sequential(\n",
              "          (0): Conv2dNormActivation(\n",
              "            (0): Conv2d(80, 480, kernel_size=(1, 1), stride=(1, 1), bias=False)\n",
              "            (1): BatchNorm2d(480, eps=1e-05, momentum=0.1, affine=True, track_running_stats=True)\n",
              "            (2): SiLU(inplace=True)\n",
              "          )\n",
              "          (1): Conv2dNormActivation(\n",
              "            (0): Conv2d(480, 480, kernel_size=(3, 3), stride=(1, 1), padding=(1, 1), groups=480, bias=False)\n",
              "            (1): BatchNorm2d(480, eps=1e-05, momentum=0.1, affine=True, track_running_stats=True)\n",
              "            (2): SiLU(inplace=True)\n",
              "          )\n",
              "          (2): SqueezeExcitation(\n",
              "            (avgpool): AdaptiveAvgPool2d(output_size=1)\n",
              "            (fc1): Conv2d(480, 20, kernel_size=(1, 1), stride=(1, 1))\n",
              "            (fc2): Conv2d(20, 480, kernel_size=(1, 1), stride=(1, 1))\n",
              "            (activation): SiLU(inplace=True)\n",
              "            (scale_activation): Sigmoid()\n",
              "          )\n",
              "          (3): Conv2dNormActivation(\n",
              "            (0): Conv2d(480, 80, kernel_size=(1, 1), stride=(1, 1), bias=False)\n",
              "            (1): BatchNorm2d(80, eps=1e-05, momentum=0.1, affine=True, track_running_stats=True)\n",
              "          )\n",
              "        )\n",
              "        (stochastic_depth): StochasticDepth(p=0.07500000000000001, mode=row)\n",
              "      )\n",
              "      (2): MBConv(\n",
              "        (block): Sequential(\n",
              "          (0): Conv2dNormActivation(\n",
              "            (0): Conv2d(80, 480, kernel_size=(1, 1), stride=(1, 1), bias=False)\n",
              "            (1): BatchNorm2d(480, eps=1e-05, momentum=0.1, affine=True, track_running_stats=True)\n",
              "            (2): SiLU(inplace=True)\n",
              "          )\n",
              "          (1): Conv2dNormActivation(\n",
              "            (0): Conv2d(480, 480, kernel_size=(3, 3), stride=(1, 1), padding=(1, 1), groups=480, bias=False)\n",
              "            (1): BatchNorm2d(480, eps=1e-05, momentum=0.1, affine=True, track_running_stats=True)\n",
              "            (2): SiLU(inplace=True)\n",
              "          )\n",
              "          (2): SqueezeExcitation(\n",
              "            (avgpool): AdaptiveAvgPool2d(output_size=1)\n",
              "            (fc1): Conv2d(480, 20, kernel_size=(1, 1), stride=(1, 1))\n",
              "            (fc2): Conv2d(20, 480, kernel_size=(1, 1), stride=(1, 1))\n",
              "            (activation): SiLU(inplace=True)\n",
              "            (scale_activation): Sigmoid()\n",
              "          )\n",
              "          (3): Conv2dNormActivation(\n",
              "            (0): Conv2d(480, 80, kernel_size=(1, 1), stride=(1, 1), bias=False)\n",
              "            (1): BatchNorm2d(80, eps=1e-05, momentum=0.1, affine=True, track_running_stats=True)\n",
              "          )\n",
              "        )\n",
              "        (stochastic_depth): StochasticDepth(p=0.08750000000000001, mode=row)\n",
              "      )\n",
              "    )\n",
              "    (5): Sequential(\n",
              "      (0): MBConv(\n",
              "        (block): Sequential(\n",
              "          (0): Conv2dNormActivation(\n",
              "            (0): Conv2d(80, 480, kernel_size=(1, 1), stride=(1, 1), bias=False)\n",
              "            (1): BatchNorm2d(480, eps=1e-05, momentum=0.1, affine=True, track_running_stats=True)\n",
              "            (2): SiLU(inplace=True)\n",
              "          )\n",
              "          (1): Conv2dNormActivation(\n",
              "            (0): Conv2d(480, 480, kernel_size=(5, 5), stride=(1, 1), padding=(2, 2), groups=480, bias=False)\n",
              "            (1): BatchNorm2d(480, eps=1e-05, momentum=0.1, affine=True, track_running_stats=True)\n",
              "            (2): SiLU(inplace=True)\n",
              "          )\n",
              "          (2): SqueezeExcitation(\n",
              "            (avgpool): AdaptiveAvgPool2d(output_size=1)\n",
              "            (fc1): Conv2d(480, 20, kernel_size=(1, 1), stride=(1, 1))\n",
              "            (fc2): Conv2d(20, 480, kernel_size=(1, 1), stride=(1, 1))\n",
              "            (activation): SiLU(inplace=True)\n",
              "            (scale_activation): Sigmoid()\n",
              "          )\n",
              "          (3): Conv2dNormActivation(\n",
              "            (0): Conv2d(480, 112, kernel_size=(1, 1), stride=(1, 1), bias=False)\n",
              "            (1): BatchNorm2d(112, eps=1e-05, momentum=0.1, affine=True, track_running_stats=True)\n",
              "          )\n",
              "        )\n",
              "        (stochastic_depth): StochasticDepth(p=0.1, mode=row)\n",
              "      )\n",
              "      (1): MBConv(\n",
              "        (block): Sequential(\n",
              "          (0): Conv2dNormActivation(\n",
              "            (0): Conv2d(112, 672, kernel_size=(1, 1), stride=(1, 1), bias=False)\n",
              "            (1): BatchNorm2d(672, eps=1e-05, momentum=0.1, affine=True, track_running_stats=True)\n",
              "            (2): SiLU(inplace=True)\n",
              "          )\n",
              "          (1): Conv2dNormActivation(\n",
              "            (0): Conv2d(672, 672, kernel_size=(5, 5), stride=(1, 1), padding=(2, 2), groups=672, bias=False)\n",
              "            (1): BatchNorm2d(672, eps=1e-05, momentum=0.1, affine=True, track_running_stats=True)\n",
              "            (2): SiLU(inplace=True)\n",
              "          )\n",
              "          (2): SqueezeExcitation(\n",
              "            (avgpool): AdaptiveAvgPool2d(output_size=1)\n",
              "            (fc1): Conv2d(672, 28, kernel_size=(1, 1), stride=(1, 1))\n",
              "            (fc2): Conv2d(28, 672, kernel_size=(1, 1), stride=(1, 1))\n",
              "            (activation): SiLU(inplace=True)\n",
              "            (scale_activation): Sigmoid()\n",
              "          )\n",
              "          (3): Conv2dNormActivation(\n",
              "            (0): Conv2d(672, 112, kernel_size=(1, 1), stride=(1, 1), bias=False)\n",
              "            (1): BatchNorm2d(112, eps=1e-05, momentum=0.1, affine=True, track_running_stats=True)\n",
              "          )\n",
              "        )\n",
              "        (stochastic_depth): StochasticDepth(p=0.1125, mode=row)\n",
              "      )\n",
              "      (2): MBConv(\n",
              "        (block): Sequential(\n",
              "          (0): Conv2dNormActivation(\n",
              "            (0): Conv2d(112, 672, kernel_size=(1, 1), stride=(1, 1), bias=False)\n",
              "            (1): BatchNorm2d(672, eps=1e-05, momentum=0.1, affine=True, track_running_stats=True)\n",
              "            (2): SiLU(inplace=True)\n",
              "          )\n",
              "          (1): Conv2dNormActivation(\n",
              "            (0): Conv2d(672, 672, kernel_size=(5, 5), stride=(1, 1), padding=(2, 2), groups=672, bias=False)\n",
              "            (1): BatchNorm2d(672, eps=1e-05, momentum=0.1, affine=True, track_running_stats=True)\n",
              "            (2): SiLU(inplace=True)\n",
              "          )\n",
              "          (2): SqueezeExcitation(\n",
              "            (avgpool): AdaptiveAvgPool2d(output_size=1)\n",
              "            (fc1): Conv2d(672, 28, kernel_size=(1, 1), stride=(1, 1))\n",
              "            (fc2): Conv2d(28, 672, kernel_size=(1, 1), stride=(1, 1))\n",
              "            (activation): SiLU(inplace=True)\n",
              "            (scale_activation): Sigmoid()\n",
              "          )\n",
              "          (3): Conv2dNormActivation(\n",
              "            (0): Conv2d(672, 112, kernel_size=(1, 1), stride=(1, 1), bias=False)\n",
              "            (1): BatchNorm2d(112, eps=1e-05, momentum=0.1, affine=True, track_running_stats=True)\n",
              "          )\n",
              "        )\n",
              "        (stochastic_depth): StochasticDepth(p=0.125, mode=row)\n",
              "      )\n",
              "    )\n",
              "    (6): Sequential(\n",
              "      (0): MBConv(\n",
              "        (block): Sequential(\n",
              "          (0): Conv2dNormActivation(\n",
              "            (0): Conv2d(112, 672, kernel_size=(1, 1), stride=(1, 1), bias=False)\n",
              "            (1): BatchNorm2d(672, eps=1e-05, momentum=0.1, affine=True, track_running_stats=True)\n",
              "            (2): SiLU(inplace=True)\n",
              "          )\n",
              "          (1): Conv2dNormActivation(\n",
              "            (0): Conv2d(672, 672, kernel_size=(5, 5), stride=(2, 2), padding=(2, 2), groups=672, bias=False)\n",
              "            (1): BatchNorm2d(672, eps=1e-05, momentum=0.1, affine=True, track_running_stats=True)\n",
              "            (2): SiLU(inplace=True)\n",
              "          )\n",
              "          (2): SqueezeExcitation(\n",
              "            (avgpool): AdaptiveAvgPool2d(output_size=1)\n",
              "            (fc1): Conv2d(672, 28, kernel_size=(1, 1), stride=(1, 1))\n",
              "            (fc2): Conv2d(28, 672, kernel_size=(1, 1), stride=(1, 1))\n",
              "            (activation): SiLU(inplace=True)\n",
              "            (scale_activation): Sigmoid()\n",
              "          )\n",
              "          (3): Conv2dNormActivation(\n",
              "            (0): Conv2d(672, 192, kernel_size=(1, 1), stride=(1, 1), bias=False)\n",
              "            (1): BatchNorm2d(192, eps=1e-05, momentum=0.1, affine=True, track_running_stats=True)\n",
              "          )\n",
              "        )\n",
              "        (stochastic_depth): StochasticDepth(p=0.1375, mode=row)\n",
              "      )\n",
              "      (1): MBConv(\n",
              "        (block): Sequential(\n",
              "          (0): Conv2dNormActivation(\n",
              "            (0): Conv2d(192, 1152, kernel_size=(1, 1), stride=(1, 1), bias=False)\n",
              "            (1): BatchNorm2d(1152, eps=1e-05, momentum=0.1, affine=True, track_running_stats=True)\n",
              "            (2): SiLU(inplace=True)\n",
              "          )\n",
              "          (1): Conv2dNormActivation(\n",
              "            (0): Conv2d(1152, 1152, kernel_size=(5, 5), stride=(1, 1), padding=(2, 2), groups=1152, bias=False)\n",
              "            (1): BatchNorm2d(1152, eps=1e-05, momentum=0.1, affine=True, track_running_stats=True)\n",
              "            (2): SiLU(inplace=True)\n",
              "          )\n",
              "          (2): SqueezeExcitation(\n",
              "            (avgpool): AdaptiveAvgPool2d(output_size=1)\n",
              "            (fc1): Conv2d(1152, 48, kernel_size=(1, 1), stride=(1, 1))\n",
              "            (fc2): Conv2d(48, 1152, kernel_size=(1, 1), stride=(1, 1))\n",
              "            (activation): SiLU(inplace=True)\n",
              "            (scale_activation): Sigmoid()\n",
              "          )\n",
              "          (3): Conv2dNormActivation(\n",
              "            (0): Conv2d(1152, 192, kernel_size=(1, 1), stride=(1, 1), bias=False)\n",
              "            (1): BatchNorm2d(192, eps=1e-05, momentum=0.1, affine=True, track_running_stats=True)\n",
              "          )\n",
              "        )\n",
              "        (stochastic_depth): StochasticDepth(p=0.15000000000000002, mode=row)\n",
              "      )\n",
              "      (2): MBConv(\n",
              "        (block): Sequential(\n",
              "          (0): Conv2dNormActivation(\n",
              "            (0): Conv2d(192, 1152, kernel_size=(1, 1), stride=(1, 1), bias=False)\n",
              "            (1): BatchNorm2d(1152, eps=1e-05, momentum=0.1, affine=True, track_running_stats=True)\n",
              "            (2): SiLU(inplace=True)\n",
              "          )\n",
              "          (1): Conv2dNormActivation(\n",
              "            (0): Conv2d(1152, 1152, kernel_size=(5, 5), stride=(1, 1), padding=(2, 2), groups=1152, bias=False)\n",
              "            (1): BatchNorm2d(1152, eps=1e-05, momentum=0.1, affine=True, track_running_stats=True)\n",
              "            (2): SiLU(inplace=True)\n",
              "          )\n",
              "          (2): SqueezeExcitation(\n",
              "            (avgpool): AdaptiveAvgPool2d(output_size=1)\n",
              "            (fc1): Conv2d(1152, 48, kernel_size=(1, 1), stride=(1, 1))\n",
              "            (fc2): Conv2d(48, 1152, kernel_size=(1, 1), stride=(1, 1))\n",
              "            (activation): SiLU(inplace=True)\n",
              "            (scale_activation): Sigmoid()\n",
              "          )\n",
              "          (3): Conv2dNormActivation(\n",
              "            (0): Conv2d(1152, 192, kernel_size=(1, 1), stride=(1, 1), bias=False)\n",
              "            (1): BatchNorm2d(192, eps=1e-05, momentum=0.1, affine=True, track_running_stats=True)\n",
              "          )\n",
              "        )\n",
              "        (stochastic_depth): StochasticDepth(p=0.1625, mode=row)\n",
              "      )\n",
              "      (3): MBConv(\n",
              "        (block): Sequential(\n",
              "          (0): Conv2dNormActivation(\n",
              "            (0): Conv2d(192, 1152, kernel_size=(1, 1), stride=(1, 1), bias=False)\n",
              "            (1): BatchNorm2d(1152, eps=1e-05, momentum=0.1, affine=True, track_running_stats=True)\n",
              "            (2): SiLU(inplace=True)\n",
              "          )\n",
              "          (1): Conv2dNormActivation(\n",
              "            (0): Conv2d(1152, 1152, kernel_size=(5, 5), stride=(1, 1), padding=(2, 2), groups=1152, bias=False)\n",
              "            (1): BatchNorm2d(1152, eps=1e-05, momentum=0.1, affine=True, track_running_stats=True)\n",
              "            (2): SiLU(inplace=True)\n",
              "          )\n",
              "          (2): SqueezeExcitation(\n",
              "            (avgpool): AdaptiveAvgPool2d(output_size=1)\n",
              "            (fc1): Conv2d(1152, 48, kernel_size=(1, 1), stride=(1, 1))\n",
              "            (fc2): Conv2d(48, 1152, kernel_size=(1, 1), stride=(1, 1))\n",
              "            (activation): SiLU(inplace=True)\n",
              "            (scale_activation): Sigmoid()\n",
              "          )\n",
              "          (3): Conv2dNormActivation(\n",
              "            (0): Conv2d(1152, 192, kernel_size=(1, 1), stride=(1, 1), bias=False)\n",
              "            (1): BatchNorm2d(192, eps=1e-05, momentum=0.1, affine=True, track_running_stats=True)\n",
              "          )\n",
              "        )\n",
              "        (stochastic_depth): StochasticDepth(p=0.17500000000000002, mode=row)\n",
              "      )\n",
              "    )\n",
              "    (7): Sequential(\n",
              "      (0): MBConv(\n",
              "        (block): Sequential(\n",
              "          (0): Conv2dNormActivation(\n",
              "            (0): Conv2d(192, 1152, kernel_size=(1, 1), stride=(1, 1), bias=False)\n",
              "            (1): BatchNorm2d(1152, eps=1e-05, momentum=0.1, affine=True, track_running_stats=True)\n",
              "            (2): SiLU(inplace=True)\n",
              "          )\n",
              "          (1): Conv2dNormActivation(\n",
              "            (0): Conv2d(1152, 1152, kernel_size=(3, 3), stride=(1, 1), padding=(1, 1), groups=1152, bias=False)\n",
              "            (1): BatchNorm2d(1152, eps=1e-05, momentum=0.1, affine=True, track_running_stats=True)\n",
              "            (2): SiLU(inplace=True)\n",
              "          )\n",
              "          (2): SqueezeExcitation(\n",
              "            (avgpool): AdaptiveAvgPool2d(output_size=1)\n",
              "            (fc1): Conv2d(1152, 48, kernel_size=(1, 1), stride=(1, 1))\n",
              "            (fc2): Conv2d(48, 1152, kernel_size=(1, 1), stride=(1, 1))\n",
              "            (activation): SiLU(inplace=True)\n",
              "            (scale_activation): Sigmoid()\n",
              "          )\n",
              "          (3): Conv2dNormActivation(\n",
              "            (0): Conv2d(1152, 320, kernel_size=(1, 1), stride=(1, 1), bias=False)\n",
              "            (1): BatchNorm2d(320, eps=1e-05, momentum=0.1, affine=True, track_running_stats=True)\n",
              "          )\n",
              "        )\n",
              "        (stochastic_depth): StochasticDepth(p=0.1875, mode=row)\n",
              "      )\n",
              "    )\n",
              "    (8): Conv2dNormActivation(\n",
              "      (0): Conv2d(320, 1280, kernel_size=(1, 1), stride=(1, 1), bias=False)\n",
              "      (1): BatchNorm2d(1280, eps=1e-05, momentum=0.1, affine=True, track_running_stats=True)\n",
              "      (2): SiLU(inplace=True)\n",
              "    )\n",
              "  )\n",
              "  (avgpool): AdaptiveAvgPool2d(output_size=1)\n",
              "  (classifier): Sequential(\n",
              "    (0): Dropout(p=0.2, inplace=True)\n",
              "    (1): Linear(in_features=1280, out_features=20, bias=True)\n",
              "  )\n",
              ")"
            ]
          },
          "metadata": {},
          "execution_count": 333
        }
      ],
      "source": [
        "model.to(device)"
      ]
    },
    {
      "cell_type": "code",
      "execution_count": null,
      "metadata": {
        "colab": {
          "base_uri": "https://localhost:8080/"
        },
        "id": "INsMGEPKttCF",
        "outputId": "97951046-fc72-40c3-9df7-b50d0cd26879"
      },
      "outputs": [
        {
          "output_type": "stream",
          "name": "stderr",
          "text": [
            "/usr/local/lib/python3.7/dist-packages/torchvision/models/_utils.py:223: UserWarning: Arguments other than a weight enum or `None` for 'weights' are deprecated since 0.13 and will be removed in 0.15. The current behavior is equivalent to passing `weights=ShuffleNet_V2_X2_0_Weights.IMAGENET1K_V1`. You can also use `weights=ShuffleNet_V2_X2_0_Weights.DEFAULT` to get the most up-to-date weights.\n",
            "  warnings.warn(msg)\n"
          ]
        }
      ],
      "source": [
        "model2 = torchvision.models.shufflenet_v2_x2_0(weights = torchvision.models.ShuffleNet_V2_X2_0_Weights)\n",
        "model2.fc = nn.Linear(2048,20)"
      ]
    },
    {
      "cell_type": "code",
      "execution_count": null,
      "metadata": {
        "colab": {
          "base_uri": "https://localhost:8080/"
        },
        "id": "g_2NpSbJuTD4",
        "outputId": "0f44bfaa-254c-4750-ab6b-0bf84eb90ada"
      },
      "outputs": [
        {
          "output_type": "execute_result",
          "data": {
            "text/plain": [
              "ShuffleNetV2(\n",
              "  (conv1): Sequential(\n",
              "    (0): Conv2d(3, 24, kernel_size=(3, 3), stride=(2, 2), padding=(1, 1), bias=False)\n",
              "    (1): BatchNorm2d(24, eps=1e-05, momentum=0.1, affine=True, track_running_stats=True)\n",
              "    (2): ReLU(inplace=True)\n",
              "  )\n",
              "  (maxpool): MaxPool2d(kernel_size=3, stride=2, padding=1, dilation=1, ceil_mode=False)\n",
              "  (stage2): Sequential(\n",
              "    (0): InvertedResidual(\n",
              "      (branch1): Sequential(\n",
              "        (0): Conv2d(24, 24, kernel_size=(3, 3), stride=(2, 2), padding=(1, 1), groups=24, bias=False)\n",
              "        (1): BatchNorm2d(24, eps=1e-05, momentum=0.1, affine=True, track_running_stats=True)\n",
              "        (2): Conv2d(24, 122, kernel_size=(1, 1), stride=(1, 1), bias=False)\n",
              "        (3): BatchNorm2d(122, eps=1e-05, momentum=0.1, affine=True, track_running_stats=True)\n",
              "        (4): ReLU(inplace=True)\n",
              "      )\n",
              "      (branch2): Sequential(\n",
              "        (0): Conv2d(24, 122, kernel_size=(1, 1), stride=(1, 1), bias=False)\n",
              "        (1): BatchNorm2d(122, eps=1e-05, momentum=0.1, affine=True, track_running_stats=True)\n",
              "        (2): ReLU(inplace=True)\n",
              "        (3): Conv2d(122, 122, kernel_size=(3, 3), stride=(2, 2), padding=(1, 1), groups=122, bias=False)\n",
              "        (4): BatchNorm2d(122, eps=1e-05, momentum=0.1, affine=True, track_running_stats=True)\n",
              "        (5): Conv2d(122, 122, kernel_size=(1, 1), stride=(1, 1), bias=False)\n",
              "        (6): BatchNorm2d(122, eps=1e-05, momentum=0.1, affine=True, track_running_stats=True)\n",
              "        (7): ReLU(inplace=True)\n",
              "      )\n",
              "    )\n",
              "    (1): InvertedResidual(\n",
              "      (branch1): Sequential()\n",
              "      (branch2): Sequential(\n",
              "        (0): Conv2d(122, 122, kernel_size=(1, 1), stride=(1, 1), bias=False)\n",
              "        (1): BatchNorm2d(122, eps=1e-05, momentum=0.1, affine=True, track_running_stats=True)\n",
              "        (2): ReLU(inplace=True)\n",
              "        (3): Conv2d(122, 122, kernel_size=(3, 3), stride=(1, 1), padding=(1, 1), groups=122, bias=False)\n",
              "        (4): BatchNorm2d(122, eps=1e-05, momentum=0.1, affine=True, track_running_stats=True)\n",
              "        (5): Conv2d(122, 122, kernel_size=(1, 1), stride=(1, 1), bias=False)\n",
              "        (6): BatchNorm2d(122, eps=1e-05, momentum=0.1, affine=True, track_running_stats=True)\n",
              "        (7): ReLU(inplace=True)\n",
              "      )\n",
              "    )\n",
              "    (2): InvertedResidual(\n",
              "      (branch1): Sequential()\n",
              "      (branch2): Sequential(\n",
              "        (0): Conv2d(122, 122, kernel_size=(1, 1), stride=(1, 1), bias=False)\n",
              "        (1): BatchNorm2d(122, eps=1e-05, momentum=0.1, affine=True, track_running_stats=True)\n",
              "        (2): ReLU(inplace=True)\n",
              "        (3): Conv2d(122, 122, kernel_size=(3, 3), stride=(1, 1), padding=(1, 1), groups=122, bias=False)\n",
              "        (4): BatchNorm2d(122, eps=1e-05, momentum=0.1, affine=True, track_running_stats=True)\n",
              "        (5): Conv2d(122, 122, kernel_size=(1, 1), stride=(1, 1), bias=False)\n",
              "        (6): BatchNorm2d(122, eps=1e-05, momentum=0.1, affine=True, track_running_stats=True)\n",
              "        (7): ReLU(inplace=True)\n",
              "      )\n",
              "    )\n",
              "    (3): InvertedResidual(\n",
              "      (branch1): Sequential()\n",
              "      (branch2): Sequential(\n",
              "        (0): Conv2d(122, 122, kernel_size=(1, 1), stride=(1, 1), bias=False)\n",
              "        (1): BatchNorm2d(122, eps=1e-05, momentum=0.1, affine=True, track_running_stats=True)\n",
              "        (2): ReLU(inplace=True)\n",
              "        (3): Conv2d(122, 122, kernel_size=(3, 3), stride=(1, 1), padding=(1, 1), groups=122, bias=False)\n",
              "        (4): BatchNorm2d(122, eps=1e-05, momentum=0.1, affine=True, track_running_stats=True)\n",
              "        (5): Conv2d(122, 122, kernel_size=(1, 1), stride=(1, 1), bias=False)\n",
              "        (6): BatchNorm2d(122, eps=1e-05, momentum=0.1, affine=True, track_running_stats=True)\n",
              "        (7): ReLU(inplace=True)\n",
              "      )\n",
              "    )\n",
              "  )\n",
              "  (stage3): Sequential(\n",
              "    (0): InvertedResidual(\n",
              "      (branch1): Sequential(\n",
              "        (0): Conv2d(244, 244, kernel_size=(3, 3), stride=(2, 2), padding=(1, 1), groups=244, bias=False)\n",
              "        (1): BatchNorm2d(244, eps=1e-05, momentum=0.1, affine=True, track_running_stats=True)\n",
              "        (2): Conv2d(244, 244, kernel_size=(1, 1), stride=(1, 1), bias=False)\n",
              "        (3): BatchNorm2d(244, eps=1e-05, momentum=0.1, affine=True, track_running_stats=True)\n",
              "        (4): ReLU(inplace=True)\n",
              "      )\n",
              "      (branch2): Sequential(\n",
              "        (0): Conv2d(244, 244, kernel_size=(1, 1), stride=(1, 1), bias=False)\n",
              "        (1): BatchNorm2d(244, eps=1e-05, momentum=0.1, affine=True, track_running_stats=True)\n",
              "        (2): ReLU(inplace=True)\n",
              "        (3): Conv2d(244, 244, kernel_size=(3, 3), stride=(2, 2), padding=(1, 1), groups=244, bias=False)\n",
              "        (4): BatchNorm2d(244, eps=1e-05, momentum=0.1, affine=True, track_running_stats=True)\n",
              "        (5): Conv2d(244, 244, kernel_size=(1, 1), stride=(1, 1), bias=False)\n",
              "        (6): BatchNorm2d(244, eps=1e-05, momentum=0.1, affine=True, track_running_stats=True)\n",
              "        (7): ReLU(inplace=True)\n",
              "      )\n",
              "    )\n",
              "    (1): InvertedResidual(\n",
              "      (branch1): Sequential()\n",
              "      (branch2): Sequential(\n",
              "        (0): Conv2d(244, 244, kernel_size=(1, 1), stride=(1, 1), bias=False)\n",
              "        (1): BatchNorm2d(244, eps=1e-05, momentum=0.1, affine=True, track_running_stats=True)\n",
              "        (2): ReLU(inplace=True)\n",
              "        (3): Conv2d(244, 244, kernel_size=(3, 3), stride=(1, 1), padding=(1, 1), groups=244, bias=False)\n",
              "        (4): BatchNorm2d(244, eps=1e-05, momentum=0.1, affine=True, track_running_stats=True)\n",
              "        (5): Conv2d(244, 244, kernel_size=(1, 1), stride=(1, 1), bias=False)\n",
              "        (6): BatchNorm2d(244, eps=1e-05, momentum=0.1, affine=True, track_running_stats=True)\n",
              "        (7): ReLU(inplace=True)\n",
              "      )\n",
              "    )\n",
              "    (2): InvertedResidual(\n",
              "      (branch1): Sequential()\n",
              "      (branch2): Sequential(\n",
              "        (0): Conv2d(244, 244, kernel_size=(1, 1), stride=(1, 1), bias=False)\n",
              "        (1): BatchNorm2d(244, eps=1e-05, momentum=0.1, affine=True, track_running_stats=True)\n",
              "        (2): ReLU(inplace=True)\n",
              "        (3): Conv2d(244, 244, kernel_size=(3, 3), stride=(1, 1), padding=(1, 1), groups=244, bias=False)\n",
              "        (4): BatchNorm2d(244, eps=1e-05, momentum=0.1, affine=True, track_running_stats=True)\n",
              "        (5): Conv2d(244, 244, kernel_size=(1, 1), stride=(1, 1), bias=False)\n",
              "        (6): BatchNorm2d(244, eps=1e-05, momentum=0.1, affine=True, track_running_stats=True)\n",
              "        (7): ReLU(inplace=True)\n",
              "      )\n",
              "    )\n",
              "    (3): InvertedResidual(\n",
              "      (branch1): Sequential()\n",
              "      (branch2): Sequential(\n",
              "        (0): Conv2d(244, 244, kernel_size=(1, 1), stride=(1, 1), bias=False)\n",
              "        (1): BatchNorm2d(244, eps=1e-05, momentum=0.1, affine=True, track_running_stats=True)\n",
              "        (2): ReLU(inplace=True)\n",
              "        (3): Conv2d(244, 244, kernel_size=(3, 3), stride=(1, 1), padding=(1, 1), groups=244, bias=False)\n",
              "        (4): BatchNorm2d(244, eps=1e-05, momentum=0.1, affine=True, track_running_stats=True)\n",
              "        (5): Conv2d(244, 244, kernel_size=(1, 1), stride=(1, 1), bias=False)\n",
              "        (6): BatchNorm2d(244, eps=1e-05, momentum=0.1, affine=True, track_running_stats=True)\n",
              "        (7): ReLU(inplace=True)\n",
              "      )\n",
              "    )\n",
              "    (4): InvertedResidual(\n",
              "      (branch1): Sequential()\n",
              "      (branch2): Sequential(\n",
              "        (0): Conv2d(244, 244, kernel_size=(1, 1), stride=(1, 1), bias=False)\n",
              "        (1): BatchNorm2d(244, eps=1e-05, momentum=0.1, affine=True, track_running_stats=True)\n",
              "        (2): ReLU(inplace=True)\n",
              "        (3): Conv2d(244, 244, kernel_size=(3, 3), stride=(1, 1), padding=(1, 1), groups=244, bias=False)\n",
              "        (4): BatchNorm2d(244, eps=1e-05, momentum=0.1, affine=True, track_running_stats=True)\n",
              "        (5): Conv2d(244, 244, kernel_size=(1, 1), stride=(1, 1), bias=False)\n",
              "        (6): BatchNorm2d(244, eps=1e-05, momentum=0.1, affine=True, track_running_stats=True)\n",
              "        (7): ReLU(inplace=True)\n",
              "      )\n",
              "    )\n",
              "    (5): InvertedResidual(\n",
              "      (branch1): Sequential()\n",
              "      (branch2): Sequential(\n",
              "        (0): Conv2d(244, 244, kernel_size=(1, 1), stride=(1, 1), bias=False)\n",
              "        (1): BatchNorm2d(244, eps=1e-05, momentum=0.1, affine=True, track_running_stats=True)\n",
              "        (2): ReLU(inplace=True)\n",
              "        (3): Conv2d(244, 244, kernel_size=(3, 3), stride=(1, 1), padding=(1, 1), groups=244, bias=False)\n",
              "        (4): BatchNorm2d(244, eps=1e-05, momentum=0.1, affine=True, track_running_stats=True)\n",
              "        (5): Conv2d(244, 244, kernel_size=(1, 1), stride=(1, 1), bias=False)\n",
              "        (6): BatchNorm2d(244, eps=1e-05, momentum=0.1, affine=True, track_running_stats=True)\n",
              "        (7): ReLU(inplace=True)\n",
              "      )\n",
              "    )\n",
              "    (6): InvertedResidual(\n",
              "      (branch1): Sequential()\n",
              "      (branch2): Sequential(\n",
              "        (0): Conv2d(244, 244, kernel_size=(1, 1), stride=(1, 1), bias=False)\n",
              "        (1): BatchNorm2d(244, eps=1e-05, momentum=0.1, affine=True, track_running_stats=True)\n",
              "        (2): ReLU(inplace=True)\n",
              "        (3): Conv2d(244, 244, kernel_size=(3, 3), stride=(1, 1), padding=(1, 1), groups=244, bias=False)\n",
              "        (4): BatchNorm2d(244, eps=1e-05, momentum=0.1, affine=True, track_running_stats=True)\n",
              "        (5): Conv2d(244, 244, kernel_size=(1, 1), stride=(1, 1), bias=False)\n",
              "        (6): BatchNorm2d(244, eps=1e-05, momentum=0.1, affine=True, track_running_stats=True)\n",
              "        (7): ReLU(inplace=True)\n",
              "      )\n",
              "    )\n",
              "    (7): InvertedResidual(\n",
              "      (branch1): Sequential()\n",
              "      (branch2): Sequential(\n",
              "        (0): Conv2d(244, 244, kernel_size=(1, 1), stride=(1, 1), bias=False)\n",
              "        (1): BatchNorm2d(244, eps=1e-05, momentum=0.1, affine=True, track_running_stats=True)\n",
              "        (2): ReLU(inplace=True)\n",
              "        (3): Conv2d(244, 244, kernel_size=(3, 3), stride=(1, 1), padding=(1, 1), groups=244, bias=False)\n",
              "        (4): BatchNorm2d(244, eps=1e-05, momentum=0.1, affine=True, track_running_stats=True)\n",
              "        (5): Conv2d(244, 244, kernel_size=(1, 1), stride=(1, 1), bias=False)\n",
              "        (6): BatchNorm2d(244, eps=1e-05, momentum=0.1, affine=True, track_running_stats=True)\n",
              "        (7): ReLU(inplace=True)\n",
              "      )\n",
              "    )\n",
              "  )\n",
              "  (stage4): Sequential(\n",
              "    (0): InvertedResidual(\n",
              "      (branch1): Sequential(\n",
              "        (0): Conv2d(488, 488, kernel_size=(3, 3), stride=(2, 2), padding=(1, 1), groups=488, bias=False)\n",
              "        (1): BatchNorm2d(488, eps=1e-05, momentum=0.1, affine=True, track_running_stats=True)\n",
              "        (2): Conv2d(488, 488, kernel_size=(1, 1), stride=(1, 1), bias=False)\n",
              "        (3): BatchNorm2d(488, eps=1e-05, momentum=0.1, affine=True, track_running_stats=True)\n",
              "        (4): ReLU(inplace=True)\n",
              "      )\n",
              "      (branch2): Sequential(\n",
              "        (0): Conv2d(488, 488, kernel_size=(1, 1), stride=(1, 1), bias=False)\n",
              "        (1): BatchNorm2d(488, eps=1e-05, momentum=0.1, affine=True, track_running_stats=True)\n",
              "        (2): ReLU(inplace=True)\n",
              "        (3): Conv2d(488, 488, kernel_size=(3, 3), stride=(2, 2), padding=(1, 1), groups=488, bias=False)\n",
              "        (4): BatchNorm2d(488, eps=1e-05, momentum=0.1, affine=True, track_running_stats=True)\n",
              "        (5): Conv2d(488, 488, kernel_size=(1, 1), stride=(1, 1), bias=False)\n",
              "        (6): BatchNorm2d(488, eps=1e-05, momentum=0.1, affine=True, track_running_stats=True)\n",
              "        (7): ReLU(inplace=True)\n",
              "      )\n",
              "    )\n",
              "    (1): InvertedResidual(\n",
              "      (branch1): Sequential()\n",
              "      (branch2): Sequential(\n",
              "        (0): Conv2d(488, 488, kernel_size=(1, 1), stride=(1, 1), bias=False)\n",
              "        (1): BatchNorm2d(488, eps=1e-05, momentum=0.1, affine=True, track_running_stats=True)\n",
              "        (2): ReLU(inplace=True)\n",
              "        (3): Conv2d(488, 488, kernel_size=(3, 3), stride=(1, 1), padding=(1, 1), groups=488, bias=False)\n",
              "        (4): BatchNorm2d(488, eps=1e-05, momentum=0.1, affine=True, track_running_stats=True)\n",
              "        (5): Conv2d(488, 488, kernel_size=(1, 1), stride=(1, 1), bias=False)\n",
              "        (6): BatchNorm2d(488, eps=1e-05, momentum=0.1, affine=True, track_running_stats=True)\n",
              "        (7): ReLU(inplace=True)\n",
              "      )\n",
              "    )\n",
              "    (2): InvertedResidual(\n",
              "      (branch1): Sequential()\n",
              "      (branch2): Sequential(\n",
              "        (0): Conv2d(488, 488, kernel_size=(1, 1), stride=(1, 1), bias=False)\n",
              "        (1): BatchNorm2d(488, eps=1e-05, momentum=0.1, affine=True, track_running_stats=True)\n",
              "        (2): ReLU(inplace=True)\n",
              "        (3): Conv2d(488, 488, kernel_size=(3, 3), stride=(1, 1), padding=(1, 1), groups=488, bias=False)\n",
              "        (4): BatchNorm2d(488, eps=1e-05, momentum=0.1, affine=True, track_running_stats=True)\n",
              "        (5): Conv2d(488, 488, kernel_size=(1, 1), stride=(1, 1), bias=False)\n",
              "        (6): BatchNorm2d(488, eps=1e-05, momentum=0.1, affine=True, track_running_stats=True)\n",
              "        (7): ReLU(inplace=True)\n",
              "      )\n",
              "    )\n",
              "    (3): InvertedResidual(\n",
              "      (branch1): Sequential()\n",
              "      (branch2): Sequential(\n",
              "        (0): Conv2d(488, 488, kernel_size=(1, 1), stride=(1, 1), bias=False)\n",
              "        (1): BatchNorm2d(488, eps=1e-05, momentum=0.1, affine=True, track_running_stats=True)\n",
              "        (2): ReLU(inplace=True)\n",
              "        (3): Conv2d(488, 488, kernel_size=(3, 3), stride=(1, 1), padding=(1, 1), groups=488, bias=False)\n",
              "        (4): BatchNorm2d(488, eps=1e-05, momentum=0.1, affine=True, track_running_stats=True)\n",
              "        (5): Conv2d(488, 488, kernel_size=(1, 1), stride=(1, 1), bias=False)\n",
              "        (6): BatchNorm2d(488, eps=1e-05, momentum=0.1, affine=True, track_running_stats=True)\n",
              "        (7): ReLU(inplace=True)\n",
              "      )\n",
              "    )\n",
              "  )\n",
              "  (conv5): Sequential(\n",
              "    (0): Conv2d(976, 2048, kernel_size=(1, 1), stride=(1, 1), bias=False)\n",
              "    (1): BatchNorm2d(2048, eps=1e-05, momentum=0.1, affine=True, track_running_stats=True)\n",
              "    (2): ReLU(inplace=True)\n",
              "  )\n",
              "  (fc): Linear(in_features=2048, out_features=20, bias=True)\n",
              ")"
            ]
          },
          "metadata": {},
          "execution_count": 342
        }
      ],
      "source": [
        "model2.to(device)"
      ]
    },
    {
      "cell_type": "code",
      "execution_count": null,
      "metadata": {
        "colab": {
          "base_uri": "https://localhost:8080/"
        },
        "id": "BNxPaA1wz4Cx",
        "outputId": "420c8ec0-2047-4de2-981d-121fbd6c6d20"
      },
      "outputs": [
        {
          "output_type": "stream",
          "name": "stderr",
          "text": [
            "/usr/local/lib/python3.7/dist-packages/torchvision/models/_utils.py:223: UserWarning: Arguments other than a weight enum or `None` for 'weights' are deprecated since 0.13 and will be removed in 0.15. The current behavior is equivalent to passing `weights=MNASNet1_3_Weights.IMAGENET1K_V1`. You can also use `weights=MNASNet1_3_Weights.DEFAULT` to get the most up-to-date weights.\n",
            "  warnings.warn(msg)\n"
          ]
        }
      ],
      "source": [
        "model3 = torchvision.models.mnasnet1_3(weights = torchvision.models.MNASNet1_3_Weights)\n",
        "model3.classifier[1] = nn.Linear(1280,20)"
      ]
    },
    {
      "cell_type": "code",
      "execution_count": null,
      "metadata": {
        "colab": {
          "base_uri": "https://localhost:8080/"
        },
        "id": "2NwrOq61z32O",
        "outputId": "19cf7116-201a-4537-c46d-09532ac84871"
      },
      "outputs": [
        {
          "output_type": "execute_result",
          "data": {
            "text/plain": [
              "MNASNet(\n",
              "  (layers): Sequential(\n",
              "    (0): Conv2d(3, 40, kernel_size=(3, 3), stride=(2, 2), padding=(1, 1), bias=False)\n",
              "    (1): BatchNorm2d(40, eps=1e-05, momentum=0.00029999999999996696, affine=True, track_running_stats=True)\n",
              "    (2): ReLU(inplace=True)\n",
              "    (3): Conv2d(40, 40, kernel_size=(3, 3), stride=(1, 1), padding=(1, 1), groups=40, bias=False)\n",
              "    (4): BatchNorm2d(40, eps=1e-05, momentum=0.00029999999999996696, affine=True, track_running_stats=True)\n",
              "    (5): ReLU(inplace=True)\n",
              "    (6): Conv2d(40, 24, kernel_size=(1, 1), stride=(1, 1), bias=False)\n",
              "    (7): BatchNorm2d(24, eps=1e-05, momentum=0.00029999999999996696, affine=True, track_running_stats=True)\n",
              "    (8): Sequential(\n",
              "      (0): _InvertedResidual(\n",
              "        (layers): Sequential(\n",
              "          (0): Conv2d(24, 72, kernel_size=(1, 1), stride=(1, 1), bias=False)\n",
              "          (1): BatchNorm2d(72, eps=1e-05, momentum=0.00029999999999996696, affine=True, track_running_stats=True)\n",
              "          (2): ReLU(inplace=True)\n",
              "          (3): Conv2d(72, 72, kernel_size=(3, 3), stride=(2, 2), padding=(1, 1), groups=72, bias=False)\n",
              "          (4): BatchNorm2d(72, eps=1e-05, momentum=0.00029999999999996696, affine=True, track_running_stats=True)\n",
              "          (5): ReLU(inplace=True)\n",
              "          (6): Conv2d(72, 32, kernel_size=(1, 1), stride=(1, 1), bias=False)\n",
              "          (7): BatchNorm2d(32, eps=1e-05, momentum=0.00029999999999996696, affine=True, track_running_stats=True)\n",
              "        )\n",
              "      )\n",
              "      (1): _InvertedResidual(\n",
              "        (layers): Sequential(\n",
              "          (0): Conv2d(32, 96, kernel_size=(1, 1), stride=(1, 1), bias=False)\n",
              "          (1): BatchNorm2d(96, eps=1e-05, momentum=0.00029999999999996696, affine=True, track_running_stats=True)\n",
              "          (2): ReLU(inplace=True)\n",
              "          (3): Conv2d(96, 96, kernel_size=(3, 3), stride=(1, 1), padding=(1, 1), groups=96, bias=False)\n",
              "          (4): BatchNorm2d(96, eps=1e-05, momentum=0.00029999999999996696, affine=True, track_running_stats=True)\n",
              "          (5): ReLU(inplace=True)\n",
              "          (6): Conv2d(96, 32, kernel_size=(1, 1), stride=(1, 1), bias=False)\n",
              "          (7): BatchNorm2d(32, eps=1e-05, momentum=0.00029999999999996696, affine=True, track_running_stats=True)\n",
              "        )\n",
              "      )\n",
              "      (2): _InvertedResidual(\n",
              "        (layers): Sequential(\n",
              "          (0): Conv2d(32, 96, kernel_size=(1, 1), stride=(1, 1), bias=False)\n",
              "          (1): BatchNorm2d(96, eps=1e-05, momentum=0.00029999999999996696, affine=True, track_running_stats=True)\n",
              "          (2): ReLU(inplace=True)\n",
              "          (3): Conv2d(96, 96, kernel_size=(3, 3), stride=(1, 1), padding=(1, 1), groups=96, bias=False)\n",
              "          (4): BatchNorm2d(96, eps=1e-05, momentum=0.00029999999999996696, affine=True, track_running_stats=True)\n",
              "          (5): ReLU(inplace=True)\n",
              "          (6): Conv2d(96, 32, kernel_size=(1, 1), stride=(1, 1), bias=False)\n",
              "          (7): BatchNorm2d(32, eps=1e-05, momentum=0.00029999999999996696, affine=True, track_running_stats=True)\n",
              "        )\n",
              "      )\n",
              "    )\n",
              "    (9): Sequential(\n",
              "      (0): _InvertedResidual(\n",
              "        (layers): Sequential(\n",
              "          (0): Conv2d(32, 96, kernel_size=(1, 1), stride=(1, 1), bias=False)\n",
              "          (1): BatchNorm2d(96, eps=1e-05, momentum=0.00029999999999996696, affine=True, track_running_stats=True)\n",
              "          (2): ReLU(inplace=True)\n",
              "          (3): Conv2d(96, 96, kernel_size=(5, 5), stride=(2, 2), padding=(2, 2), groups=96, bias=False)\n",
              "          (4): BatchNorm2d(96, eps=1e-05, momentum=0.00029999999999996696, affine=True, track_running_stats=True)\n",
              "          (5): ReLU(inplace=True)\n",
              "          (6): Conv2d(96, 56, kernel_size=(1, 1), stride=(1, 1), bias=False)\n",
              "          (7): BatchNorm2d(56, eps=1e-05, momentum=0.00029999999999996696, affine=True, track_running_stats=True)\n",
              "        )\n",
              "      )\n",
              "      (1): _InvertedResidual(\n",
              "        (layers): Sequential(\n",
              "          (0): Conv2d(56, 168, kernel_size=(1, 1), stride=(1, 1), bias=False)\n",
              "          (1): BatchNorm2d(168, eps=1e-05, momentum=0.00029999999999996696, affine=True, track_running_stats=True)\n",
              "          (2): ReLU(inplace=True)\n",
              "          (3): Conv2d(168, 168, kernel_size=(5, 5), stride=(1, 1), padding=(2, 2), groups=168, bias=False)\n",
              "          (4): BatchNorm2d(168, eps=1e-05, momentum=0.00029999999999996696, affine=True, track_running_stats=True)\n",
              "          (5): ReLU(inplace=True)\n",
              "          (6): Conv2d(168, 56, kernel_size=(1, 1), stride=(1, 1), bias=False)\n",
              "          (7): BatchNorm2d(56, eps=1e-05, momentum=0.00029999999999996696, affine=True, track_running_stats=True)\n",
              "        )\n",
              "      )\n",
              "      (2): _InvertedResidual(\n",
              "        (layers): Sequential(\n",
              "          (0): Conv2d(56, 168, kernel_size=(1, 1), stride=(1, 1), bias=False)\n",
              "          (1): BatchNorm2d(168, eps=1e-05, momentum=0.00029999999999996696, affine=True, track_running_stats=True)\n",
              "          (2): ReLU(inplace=True)\n",
              "          (3): Conv2d(168, 168, kernel_size=(5, 5), stride=(1, 1), padding=(2, 2), groups=168, bias=False)\n",
              "          (4): BatchNorm2d(168, eps=1e-05, momentum=0.00029999999999996696, affine=True, track_running_stats=True)\n",
              "          (5): ReLU(inplace=True)\n",
              "          (6): Conv2d(168, 56, kernel_size=(1, 1), stride=(1, 1), bias=False)\n",
              "          (7): BatchNorm2d(56, eps=1e-05, momentum=0.00029999999999996696, affine=True, track_running_stats=True)\n",
              "        )\n",
              "      )\n",
              "    )\n",
              "    (10): Sequential(\n",
              "      (0): _InvertedResidual(\n",
              "        (layers): Sequential(\n",
              "          (0): Conv2d(56, 336, kernel_size=(1, 1), stride=(1, 1), bias=False)\n",
              "          (1): BatchNorm2d(336, eps=1e-05, momentum=0.00029999999999996696, affine=True, track_running_stats=True)\n",
              "          (2): ReLU(inplace=True)\n",
              "          (3): Conv2d(336, 336, kernel_size=(5, 5), stride=(2, 2), padding=(2, 2), groups=336, bias=False)\n",
              "          (4): BatchNorm2d(336, eps=1e-05, momentum=0.00029999999999996696, affine=True, track_running_stats=True)\n",
              "          (5): ReLU(inplace=True)\n",
              "          (6): Conv2d(336, 104, kernel_size=(1, 1), stride=(1, 1), bias=False)\n",
              "          (7): BatchNorm2d(104, eps=1e-05, momentum=0.00029999999999996696, affine=True, track_running_stats=True)\n",
              "        )\n",
              "      )\n",
              "      (1): _InvertedResidual(\n",
              "        (layers): Sequential(\n",
              "          (0): Conv2d(104, 624, kernel_size=(1, 1), stride=(1, 1), bias=False)\n",
              "          (1): BatchNorm2d(624, eps=1e-05, momentum=0.00029999999999996696, affine=True, track_running_stats=True)\n",
              "          (2): ReLU(inplace=True)\n",
              "          (3): Conv2d(624, 624, kernel_size=(5, 5), stride=(1, 1), padding=(2, 2), groups=624, bias=False)\n",
              "          (4): BatchNorm2d(624, eps=1e-05, momentum=0.00029999999999996696, affine=True, track_running_stats=True)\n",
              "          (5): ReLU(inplace=True)\n",
              "          (6): Conv2d(624, 104, kernel_size=(1, 1), stride=(1, 1), bias=False)\n",
              "          (7): BatchNorm2d(104, eps=1e-05, momentum=0.00029999999999996696, affine=True, track_running_stats=True)\n",
              "        )\n",
              "      )\n",
              "      (2): _InvertedResidual(\n",
              "        (layers): Sequential(\n",
              "          (0): Conv2d(104, 624, kernel_size=(1, 1), stride=(1, 1), bias=False)\n",
              "          (1): BatchNorm2d(624, eps=1e-05, momentum=0.00029999999999996696, affine=True, track_running_stats=True)\n",
              "          (2): ReLU(inplace=True)\n",
              "          (3): Conv2d(624, 624, kernel_size=(5, 5), stride=(1, 1), padding=(2, 2), groups=624, bias=False)\n",
              "          (4): BatchNorm2d(624, eps=1e-05, momentum=0.00029999999999996696, affine=True, track_running_stats=True)\n",
              "          (5): ReLU(inplace=True)\n",
              "          (6): Conv2d(624, 104, kernel_size=(1, 1), stride=(1, 1), bias=False)\n",
              "          (7): BatchNorm2d(104, eps=1e-05, momentum=0.00029999999999996696, affine=True, track_running_stats=True)\n",
              "        )\n",
              "      )\n",
              "    )\n",
              "    (11): Sequential(\n",
              "      (0): _InvertedResidual(\n",
              "        (layers): Sequential(\n",
              "          (0): Conv2d(104, 624, kernel_size=(1, 1), stride=(1, 1), bias=False)\n",
              "          (1): BatchNorm2d(624, eps=1e-05, momentum=0.00029999999999996696, affine=True, track_running_stats=True)\n",
              "          (2): ReLU(inplace=True)\n",
              "          (3): Conv2d(624, 624, kernel_size=(3, 3), stride=(1, 1), padding=(1, 1), groups=624, bias=False)\n",
              "          (4): BatchNorm2d(624, eps=1e-05, momentum=0.00029999999999996696, affine=True, track_running_stats=True)\n",
              "          (5): ReLU(inplace=True)\n",
              "          (6): Conv2d(624, 128, kernel_size=(1, 1), stride=(1, 1), bias=False)\n",
              "          (7): BatchNorm2d(128, eps=1e-05, momentum=0.00029999999999996696, affine=True, track_running_stats=True)\n",
              "        )\n",
              "      )\n",
              "      (1): _InvertedResidual(\n",
              "        (layers): Sequential(\n",
              "          (0): Conv2d(128, 768, kernel_size=(1, 1), stride=(1, 1), bias=False)\n",
              "          (1): BatchNorm2d(768, eps=1e-05, momentum=0.00029999999999996696, affine=True, track_running_stats=True)\n",
              "          (2): ReLU(inplace=True)\n",
              "          (3): Conv2d(768, 768, kernel_size=(3, 3), stride=(1, 1), padding=(1, 1), groups=768, bias=False)\n",
              "          (4): BatchNorm2d(768, eps=1e-05, momentum=0.00029999999999996696, affine=True, track_running_stats=True)\n",
              "          (5): ReLU(inplace=True)\n",
              "          (6): Conv2d(768, 128, kernel_size=(1, 1), stride=(1, 1), bias=False)\n",
              "          (7): BatchNorm2d(128, eps=1e-05, momentum=0.00029999999999996696, affine=True, track_running_stats=True)\n",
              "        )\n",
              "      )\n",
              "    )\n",
              "    (12): Sequential(\n",
              "      (0): _InvertedResidual(\n",
              "        (layers): Sequential(\n",
              "          (0): Conv2d(128, 768, kernel_size=(1, 1), stride=(1, 1), bias=False)\n",
              "          (1): BatchNorm2d(768, eps=1e-05, momentum=0.00029999999999996696, affine=True, track_running_stats=True)\n",
              "          (2): ReLU(inplace=True)\n",
              "          (3): Conv2d(768, 768, kernel_size=(5, 5), stride=(2, 2), padding=(2, 2), groups=768, bias=False)\n",
              "          (4): BatchNorm2d(768, eps=1e-05, momentum=0.00029999999999996696, affine=True, track_running_stats=True)\n",
              "          (5): ReLU(inplace=True)\n",
              "          (6): Conv2d(768, 248, kernel_size=(1, 1), stride=(1, 1), bias=False)\n",
              "          (7): BatchNorm2d(248, eps=1e-05, momentum=0.00029999999999996696, affine=True, track_running_stats=True)\n",
              "        )\n",
              "      )\n",
              "      (1): _InvertedResidual(\n",
              "        (layers): Sequential(\n",
              "          (0): Conv2d(248, 1488, kernel_size=(1, 1), stride=(1, 1), bias=False)\n",
              "          (1): BatchNorm2d(1488, eps=1e-05, momentum=0.00029999999999996696, affine=True, track_running_stats=True)\n",
              "          (2): ReLU(inplace=True)\n",
              "          (3): Conv2d(1488, 1488, kernel_size=(5, 5), stride=(1, 1), padding=(2, 2), groups=1488, bias=False)\n",
              "          (4): BatchNorm2d(1488, eps=1e-05, momentum=0.00029999999999996696, affine=True, track_running_stats=True)\n",
              "          (5): ReLU(inplace=True)\n",
              "          (6): Conv2d(1488, 248, kernel_size=(1, 1), stride=(1, 1), bias=False)\n",
              "          (7): BatchNorm2d(248, eps=1e-05, momentum=0.00029999999999996696, affine=True, track_running_stats=True)\n",
              "        )\n",
              "      )\n",
              "      (2): _InvertedResidual(\n",
              "        (layers): Sequential(\n",
              "          (0): Conv2d(248, 1488, kernel_size=(1, 1), stride=(1, 1), bias=False)\n",
              "          (1): BatchNorm2d(1488, eps=1e-05, momentum=0.00029999999999996696, affine=True, track_running_stats=True)\n",
              "          (2): ReLU(inplace=True)\n",
              "          (3): Conv2d(1488, 1488, kernel_size=(5, 5), stride=(1, 1), padding=(2, 2), groups=1488, bias=False)\n",
              "          (4): BatchNorm2d(1488, eps=1e-05, momentum=0.00029999999999996696, affine=True, track_running_stats=True)\n",
              "          (5): ReLU(inplace=True)\n",
              "          (6): Conv2d(1488, 248, kernel_size=(1, 1), stride=(1, 1), bias=False)\n",
              "          (7): BatchNorm2d(248, eps=1e-05, momentum=0.00029999999999996696, affine=True, track_running_stats=True)\n",
              "        )\n",
              "      )\n",
              "      (3): _InvertedResidual(\n",
              "        (layers): Sequential(\n",
              "          (0): Conv2d(248, 1488, kernel_size=(1, 1), stride=(1, 1), bias=False)\n",
              "          (1): BatchNorm2d(1488, eps=1e-05, momentum=0.00029999999999996696, affine=True, track_running_stats=True)\n",
              "          (2): ReLU(inplace=True)\n",
              "          (3): Conv2d(1488, 1488, kernel_size=(5, 5), stride=(1, 1), padding=(2, 2), groups=1488, bias=False)\n",
              "          (4): BatchNorm2d(1488, eps=1e-05, momentum=0.00029999999999996696, affine=True, track_running_stats=True)\n",
              "          (5): ReLU(inplace=True)\n",
              "          (6): Conv2d(1488, 248, kernel_size=(1, 1), stride=(1, 1), bias=False)\n",
              "          (7): BatchNorm2d(248, eps=1e-05, momentum=0.00029999999999996696, affine=True, track_running_stats=True)\n",
              "        )\n",
              "      )\n",
              "    )\n",
              "    (13): Sequential(\n",
              "      (0): _InvertedResidual(\n",
              "        (layers): Sequential(\n",
              "          (0): Conv2d(248, 1488, kernel_size=(1, 1), stride=(1, 1), bias=False)\n",
              "          (1): BatchNorm2d(1488, eps=1e-05, momentum=0.00029999999999996696, affine=True, track_running_stats=True)\n",
              "          (2): ReLU(inplace=True)\n",
              "          (3): Conv2d(1488, 1488, kernel_size=(3, 3), stride=(1, 1), padding=(1, 1), groups=1488, bias=False)\n",
              "          (4): BatchNorm2d(1488, eps=1e-05, momentum=0.00029999999999996696, affine=True, track_running_stats=True)\n",
              "          (5): ReLU(inplace=True)\n",
              "          (6): Conv2d(1488, 416, kernel_size=(1, 1), stride=(1, 1), bias=False)\n",
              "          (7): BatchNorm2d(416, eps=1e-05, momentum=0.00029999999999996696, affine=True, track_running_stats=True)\n",
              "        )\n",
              "      )\n",
              "    )\n",
              "    (14): Conv2d(416, 1280, kernel_size=(1, 1), stride=(1, 1), bias=False)\n",
              "    (15): BatchNorm2d(1280, eps=1e-05, momentum=0.00029999999999996696, affine=True, track_running_stats=True)\n",
              "    (16): ReLU(inplace=True)\n",
              "  )\n",
              "  (classifier): Sequential(\n",
              "    (0): Dropout(p=0.2, inplace=True)\n",
              "    (1): Linear(in_features=1280, out_features=20, bias=True)\n",
              "  )\n",
              ")"
            ]
          },
          "metadata": {},
          "execution_count": 337
        }
      ],
      "source": [
        "model3.to(device)"
      ]
    },
    {
      "cell_type": "code",
      "execution_count": null,
      "metadata": {
        "id": "x_W46W0TfaMC"
      },
      "outputs": [],
      "source": [
        "criterion = nn.CrossEntropyLoss()\n",
        "opt = optim.SGD(model.parameters(),lr=0.001)\n"
      ]
    },
    {
      "cell_type": "markdown",
      "metadata": {
        "id": "IJR-E6qS2bs2"
      },
      "source": [
        "# First Model"
      ]
    },
    {
      "cell_type": "code",
      "execution_count": null,
      "metadata": {
        "colab": {
          "base_uri": "https://localhost:8080/"
        },
        "id": "5GuTIeaJghat",
        "outputId": "bf32775e-e551-4e32-f2f6-8c6a53ed2900"
      },
      "outputs": [
        {
          "name": "stdout",
          "output_type": "stream",
          "text": [
            "Best model found! saving...\n",
            "epoch 0 loss_train 2.927 loss_eval 2.804 last_best 1\n",
            "Best model found! saving...\n",
            "epoch 1 loss_train 2.733 loss_eval 2.601 last_best 1\n",
            "Best model found! saving...\n",
            "epoch 2 loss_train 2.531 loss_eval 2.386 last_best 1\n",
            "Best model found! saving...\n",
            "epoch 3 loss_train 2.327 loss_eval 2.143 last_best 1\n",
            "Best model found! saving...\n",
            "epoch 4 loss_train 2.101 loss_eval 1.921 last_best 1\n",
            "Best model found! saving...\n",
            "epoch 5 loss_train 1.887 loss_eval 1.678 last_best 1\n",
            "Best model found! saving...\n",
            "epoch 6 loss_train 1.665 loss_eval 1.489 last_best 1\n",
            "Best model found! saving...\n",
            "epoch 7 loss_train 1.478 loss_eval 1.289 last_best 1\n",
            "Best model found! saving...\n",
            "epoch 8 loss_train 1.312 loss_eval 1.129 last_best 1\n",
            "Best model found! saving...\n",
            "epoch 9 loss_train 1.187 loss_eval 1.021 last_best 1\n",
            "Best model found! saving...\n",
            "epoch 10 loss_train 1.066 loss_eval 0.897 last_best 1\n",
            "Best model found! saving...\n",
            "epoch 11 loss_train 0.977 loss_eval 0.805 last_best 1\n",
            "Best model found! saving...\n",
            "epoch 12 loss_train 0.887 loss_eval 0.741 last_best 1\n",
            "Best model found! saving...\n",
            "epoch 13 loss_train 0.829 loss_eval 0.674 last_best 1\n",
            "Best model found! saving...\n",
            "epoch 14 loss_train 0.763 loss_eval 0.631 last_best 1\n",
            "Best model found! saving...\n",
            "epoch 15 loss_train 0.714 loss_eval 0.573 last_best 1\n",
            "Best model found! saving...\n",
            "epoch 16 loss_train 0.668 loss_eval 0.552 last_best 1\n",
            "Best model found! saving...\n",
            "epoch 17 loss_train 0.628 loss_eval 0.513 last_best 1\n",
            "Best model found! saving...\n",
            "epoch 18 loss_train 0.596 loss_eval 0.484 last_best 1\n",
            "Best model found! saving...\n",
            "epoch 19 loss_train 0.574 loss_eval 0.459 last_best 1\n",
            "Best model found! saving...\n",
            "epoch 20 loss_train 0.542 loss_eval 0.427 last_best 1\n",
            "Best model found! saving...\n",
            "epoch 21 loss_train 0.507 loss_eval 0.403 last_best 1\n",
            "epoch 22 loss_train 0.490 loss_eval 0.410 last_best 2\n",
            "Best model found! saving...\n",
            "epoch 23 loss_train 0.459 loss_eval 0.378 last_best 1\n",
            "Best model found! saving...\n",
            "epoch 24 loss_train 0.446 loss_eval 0.356 last_best 1\n",
            "Best model found! saving...\n",
            "epoch 25 loss_train 0.434 loss_eval 0.346 last_best 1\n",
            "Best model found! saving...\n",
            "epoch 26 loss_train 0.415 loss_eval 0.336 last_best 1\n",
            "Best model found! saving...\n",
            "epoch 27 loss_train 0.396 loss_eval 0.330 last_best 1\n",
            "Best model found! saving...\n",
            "epoch 28 loss_train 0.396 loss_eval 0.316 last_best 1\n",
            "Best model found! saving...\n",
            "epoch 29 loss_train 0.383 loss_eval 0.310 last_best 1\n",
            "Best model found! saving...\n",
            "epoch 30 loss_train 0.359 loss_eval 0.299 last_best 1\n",
            "Best model found! saving...\n",
            "epoch 31 loss_train 0.346 loss_eval 0.297 last_best 1\n",
            "Best model found! saving...\n",
            "epoch 32 loss_train 0.331 loss_eval 0.284 last_best 1\n",
            "Best model found! saving...\n",
            "epoch 33 loss_train 0.331 loss_eval 0.282 last_best 1\n",
            "Best model found! saving...\n",
            "epoch 34 loss_train 0.321 loss_eval 0.268 last_best 1\n",
            "Best model found! saving...\n",
            "epoch 35 loss_train 0.300 loss_eval 0.263 last_best 1\n",
            "epoch 36 loss_train 0.302 loss_eval 0.266 last_best 2\n",
            "Best model found! saving...\n",
            "epoch 37 loss_train 0.295 loss_eval 0.259 last_best 1\n",
            "Best model found! saving...\n",
            "epoch 38 loss_train 0.293 loss_eval 0.247 last_best 1\n",
            "Best model found! saving...\n",
            "epoch 39 loss_train 0.287 loss_eval 0.240 last_best 1\n",
            "epoch 40 loss_train 0.276 loss_eval 0.246 last_best 2\n",
            "Best model found! saving...\n",
            "epoch 41 loss_train 0.266 loss_eval 0.233 last_best 1\n",
            "epoch 42 loss_train 0.262 loss_eval 0.234 last_best 2\n",
            "Best model found! saving...\n",
            "epoch 43 loss_train 0.238 loss_eval 0.232 last_best 1\n",
            "Best model found! saving...\n",
            "epoch 44 loss_train 0.244 loss_eval 0.228 last_best 1\n",
            "Best model found! saving...\n",
            "epoch 45 loss_train 0.242 loss_eval 0.221 last_best 1\n",
            "epoch 46 loss_train 0.240 loss_eval 0.225 last_best 2\n",
            "Best model found! saving...\n",
            "epoch 47 loss_train 0.234 loss_eval 0.209 last_best 1\n",
            "epoch 48 loss_train 0.220 loss_eval 0.211 last_best 2\n",
            "epoch 49 loss_train 0.220 loss_eval 0.217 last_best 3\n",
            "epoch 50 loss_train 0.214 loss_eval 0.210 last_best 4\n",
            "epoch 51 loss_train 0.217 loss_eval 0.210 last_best 5\n",
            "Best model found! saving...\n",
            "epoch 52 loss_train 0.200 loss_eval 0.204 last_best 1\n",
            "epoch 53 loss_train 0.194 loss_eval 0.209 last_best 2\n",
            "Best model found! saving...\n",
            "epoch 54 loss_train 0.194 loss_eval 0.202 last_best 1\n",
            "epoch 55 loss_train 0.192 loss_eval 0.209 last_best 2\n",
            "Best model found! saving...\n",
            "epoch 56 loss_train 0.193 loss_eval 0.200 last_best 1\n",
            "epoch 57 loss_train 0.190 loss_eval 0.209 last_best 2\n",
            "Best model found! saving...\n",
            "epoch 58 loss_train 0.178 loss_eval 0.195 last_best 1\n",
            "epoch 59 loss_train 0.182 loss_eval 0.199 last_best 2\n",
            "Best model found! saving...\n",
            "epoch 60 loss_train 0.180 loss_eval 0.194 last_best 1\n",
            "epoch 61 loss_train 0.165 loss_eval 0.195 last_best 2\n",
            "Best model found! saving...\n",
            "epoch 62 loss_train 0.165 loss_eval 0.188 last_best 1\n",
            "epoch 63 loss_train 0.158 loss_eval 0.193 last_best 2\n",
            "Best model found! saving...\n",
            "epoch 64 loss_train 0.153 loss_eval 0.187 last_best 1\n",
            "epoch 65 loss_train 0.160 loss_eval 0.193 last_best 2\n",
            "epoch 66 loss_train 0.157 loss_eval 0.189 last_best 3\n",
            "Best model found! saving...\n",
            "epoch 67 loss_train 0.154 loss_eval 0.187 last_best 1\n",
            "Best model found! saving...\n",
            "epoch 68 loss_train 0.149 loss_eval 0.179 last_best 1\n",
            "Best model found! saving...\n",
            "epoch 69 loss_train 0.140 loss_eval 0.177 last_best 1\n",
            "epoch 70 loss_train 0.155 loss_eval 0.183 last_best 2\n",
            "epoch 71 loss_train 0.135 loss_eval 0.181 last_best 3\n",
            "epoch 72 loss_train 0.136 loss_eval 0.187 last_best 4\n",
            "epoch 73 loss_train 0.133 loss_eval 0.182 last_best 5\n",
            "Best model found! saving...\n",
            "epoch 74 loss_train 0.132 loss_eval 0.177 last_best 1\n",
            "epoch 75 loss_train 0.131 loss_eval 0.180 last_best 2\n",
            "epoch 76 loss_train 0.125 loss_eval 0.177 last_best 3\n",
            "epoch 77 loss_train 0.128 loss_eval 0.183 last_best 4\n",
            "Best model found! saving...\n",
            "epoch 78 loss_train 0.110 loss_eval 0.175 last_best 1\n",
            "epoch 79 loss_train 0.125 loss_eval 0.178 last_best 2\n",
            "epoch 80 loss_train 0.121 loss_eval 0.175 last_best 3\n",
            "epoch 81 loss_train 0.113 loss_eval 0.176 last_best 4\n",
            "Best model found! saving...\n",
            "epoch 82 loss_train 0.111 loss_eval 0.171 last_best 1\n",
            "epoch 83 loss_train 0.113 loss_eval 0.174 last_best 2\n",
            "epoch 84 loss_train 0.105 loss_eval 0.173 last_best 3\n",
            "epoch 85 loss_train 0.112 loss_eval 0.174 last_best 4\n",
            "epoch 86 loss_train 0.103 loss_eval 0.176 last_best 5\n",
            "Best model found! saving...\n",
            "epoch 87 loss_train 0.106 loss_eval 0.169 last_best 1\n",
            "Best model found! saving...\n",
            "epoch 88 loss_train 0.107 loss_eval 0.169 last_best 1\n",
            "epoch 89 loss_train 0.110 loss_eval 0.180 last_best 2\n",
            "epoch 90 loss_train 0.104 loss_eval 0.175 last_best 3\n",
            "epoch 91 loss_train 0.104 loss_eval 0.172 last_best 4\n",
            "Best model found! saving...\n",
            "epoch 92 loss_train 0.109 loss_eval 0.161 last_best 1\n",
            "epoch 93 loss_train 0.100 loss_eval 0.166 last_best 2\n",
            "epoch 94 loss_train 0.107 loss_eval 0.169 last_best 3\n",
            "epoch 95 loss_train 0.093 loss_eval 0.170 last_best 4\n",
            "epoch 96 loss_train 0.093 loss_eval 0.164 last_best 5\n",
            "epoch 97 loss_train 0.096 loss_eval 0.169 last_best 6\n",
            "epoch 98 loss_train 0.092 loss_eval 0.169 last_best 7\n",
            "epoch 99 loss_train 0.090 loss_eval 0.175 last_best 8\n",
            "epoch 100 loss_train 0.093 loss_eval 0.166 last_best 9\n",
            "epoch 101 loss_train 0.090 loss_eval 0.175 last_best 10\n",
            "epoch 102 loss_train 0.091 loss_eval 0.174 last_best 11\n",
            "epoch 103 loss_train 0.083 loss_eval 0.169 last_best 12\n",
            "epoch 104 loss_train 0.086 loss_eval 0.165 last_best 13\n",
            "epoch 105 loss_train 0.083 loss_eval 0.175 last_best 14\n",
            "epoch 106 loss_train 0.072 loss_eval 0.162 last_best 15\n",
            "Best model found! saving...\n",
            "epoch 107 loss_train 0.080 loss_eval 0.155 last_best 1\n",
            "epoch 108 loss_train 0.080 loss_eval 0.170 last_best 2\n",
            "epoch 109 loss_train 0.076 loss_eval 0.159 last_best 3\n",
            "epoch 110 loss_train 0.078 loss_eval 0.164 last_best 4\n",
            "epoch 111 loss_train 0.081 loss_eval 0.159 last_best 5\n",
            "epoch 112 loss_train 0.080 loss_eval 0.164 last_best 6\n",
            "epoch 113 loss_train 0.077 loss_eval 0.161 last_best 7\n",
            "epoch 114 loss_train 0.076 loss_eval 0.162 last_best 8\n",
            "epoch 115 loss_train 0.073 loss_eval 0.159 last_best 9\n",
            "epoch 116 loss_train 0.079 loss_eval 0.164 last_best 10\n",
            "epoch 117 loss_train 0.070 loss_eval 0.165 last_best 11\n",
            "epoch 118 loss_train 0.067 loss_eval 0.160 last_best 12\n",
            "epoch 119 loss_train 0.071 loss_eval 0.162 last_best 13\n",
            "epoch 120 loss_train 0.068 loss_eval 0.158 last_best 14\n",
            "epoch 121 loss_train 0.070 loss_eval 0.167 last_best 15\n",
            "epoch 122 loss_train 0.068 loss_eval 0.168 last_best 16\n"
          ]
        }
      ],
      "source": [
        "epochs = 100\n",
        "\n",
        "stop = False\n",
        "epoch = 0\n",
        "lowest_loss_eval = 10000\n",
        "last_best_result = 0\n",
        "while (not stop):\n",
        "    #wandb.watch(model)\n",
        "    model.train()\n",
        "    lloss = []\n",
        "    for x,y in dl_train:\n",
        "        x = x.to(device)\n",
        "        y = y.to(device)\n",
        "        pred = model(x)\n",
        "        closs = criterion(pred,y)\n",
        "        closs.backward()\n",
        "        opt.step()\n",
        "        opt.zero_grad()\n",
        "        lloss.append(closs.item())\n",
        "        #print(closs.item())\n",
        "    loss_train.append(np.mean(lloss))\n",
        "    lloss = []\n",
        "    model.eval()\n",
        "    lres = []\n",
        "    ytrue = []\n",
        "    with torch.no_grad():\n",
        "        for data,y in dl_valid:\n",
        "            data = data.to(device)\n",
        "\n",
        "            pred = model(data)\n",
        "            closs = criterion(pred.cpu(),y)\n",
        "            lloss.append(closs.item())\n",
        "            res  = pred.argmax(dim=1).cpu().tolist()\n",
        "            lres += res\n",
        "            ytrue += y\n",
        "    avg_loss_eval = np.mean(lloss)\n",
        "    loss_eval.append(avg_loss_eval)\n",
        "    #wandb.log({\"loss_eval\": avg_loss_eval,\"loss_train\":loss_train[-1]})\n",
        "    if avg_loss_eval < lowest_loss_eval:\n",
        "        lowest_loss_eval = avg_loss_eval \n",
        "        last_best_result = 0\n",
        "        print(\"Best model found! saving...\")\n",
        "        actual_state = {'optim':opt.state_dict(),'model':model.state_dict(),'epoch':epoch,'loss_train':loss_train,'loss_eval':loss_eval}\n",
        "        torch.save(actual_state,'best_model.pth')\n",
        "    last_best_result += 1\n",
        "    if last_best_result > patience_time:\n",
        "        stop = True\n",
        "    print(\"epoch %d loss_train %4.3f loss_eval %4.3f last_best %d\"%(epoch,loss_train[-1],loss_eval[-1],last_best_result))\n",
        "    epoch += 1"
      ]
    },
    {
      "cell_type": "code",
      "execution_count": null,
      "metadata": {
        "id": "DXnIZ2i2Irdj"
      },
      "outputs": [],
      "source": [
        "recover = torch.load('best_model.pth')\n",
        "#actual_state = {'optim':opt.state_dict(),'model':model.state_dict(),'epoch':epoch}"
      ]
    },
    {
      "cell_type": "code",
      "execution_count": null,
      "metadata": {
        "id": "bO5uzG-xceQJ"
      },
      "outputs": [],
      "source": [
        "opt.load_state_dict(recover['optim'])\n",
        "model.load_state_dict(recover['model'])\n",
        "loss_train = recover['loss_train']\n",
        "loss_eval = recover['loss_eval']\n",
        "epoch = recover['epoch']"
      ]
    },
    {
      "cell_type": "code",
      "execution_count": null,
      "metadata": {
        "colab": {
          "base_uri": "https://localhost:8080/"
        },
        "id": "LOn1evAJc-tJ",
        "outputId": "e23be65c-d87b-400c-c297-ec0016566118"
      },
      "outputs": [
        {
          "data": {
            "text/plain": [
              "107"
            ]
          },
          "execution_count": 80,
          "metadata": {},
          "output_type": "execute_result"
        }
      ],
      "source": [
        "epoch"
      ]
    },
    {
      "cell_type": "code",
      "execution_count": null,
      "metadata": {
        "colab": {
          "base_uri": "https://localhost:8080/",
          "height": 279
        },
        "id": "Rqrg2gWeITKH",
        "outputId": "1a84a411-ba8f-438b-d35a-f1a05325111a"
      },
      "outputs": [
        {
          "data": {
            "image/png": "[encoded data removed]",
            "text/plain": [
              "<Figure size 432x288 with 1 Axes>"
            ]
          },
          "metadata": {},
          "output_type": "display_data"
        }
      ],
      "source": [
        "import matplotlib.pyplot as plt\n",
        "\n",
        "\n",
        "fig = plt.figure()\n",
        "plt.plot(loss_train[1:])\n",
        "plt.plot(loss_eval[1:])\n",
        "plt.xlabel('Epochs')\n",
        "plt.show()"
      ]
    },
    {
      "cell_type": "code",
      "execution_count": null,
      "metadata": {
        "id": "ud9mwHJEbFUK"
      },
      "outputs": [],
      "source": [
        "import sklearn.metrics as metrics"
      ]
    },
    {
      "cell_type": "code",
      "execution_count": null,
      "metadata": {
        "colab": {
          "base_uri": "https://localhost:8080/"
        },
        "id": "udfpZF96TQTW",
        "outputId": "4f48d4bc-ab53-4111-cadb-85c2dc73d626"
      },
      "outputs": [
        {
          "data": {
            "text/plain": [
              "EfficientNet(\n",
              "  (features): Sequential(\n",
              "    (0): Conv2dNormActivation(\n",
              "      (0): Conv2d(3, 32, kernel_size=(3, 3), stride=(2, 2), padding=(1, 1), bias=False)\n",
              "      (1): BatchNorm2d(32, eps=1e-05, momentum=0.1, affine=True, track_running_stats=True)\n",
              "      (2): SiLU(inplace=True)\n",
              "    )\n",
              "    (1): Sequential(\n",
              "      (0): MBConv(\n",
              "        (block): Sequential(\n",
              "          (0): Conv2dNormActivation(\n",
              "            (0): Conv2d(32, 32, kernel_size=(3, 3), stride=(1, 1), padding=(1, 1), groups=32, bias=False)\n",
              "            (1): BatchNorm2d(32, eps=1e-05, momentum=0.1, affine=True, track_running_stats=True)\n",
              "            (2): SiLU(inplace=True)\n",
              "          )\n",
              "          (1): SqueezeExcitation(\n",
              "            (avgpool): AdaptiveAvgPool2d(output_size=1)\n",
              "            (fc1): Conv2d(32, 8, kernel_size=(1, 1), stride=(1, 1))\n",
              "            (fc2): Conv2d(8, 32, kernel_size=(1, 1), stride=(1, 1))\n",
              "            (activation): SiLU(inplace=True)\n",
              "            (scale_activation): Sigmoid()\n",
              "          )\n",
              "          (2): Conv2dNormActivation(\n",
              "            (0): Conv2d(32, 16, kernel_size=(1, 1), stride=(1, 1), bias=False)\n",
              "            (1): BatchNorm2d(16, eps=1e-05, momentum=0.1, affine=True, track_running_stats=True)\n",
              "          )\n",
              "        )\n",
              "        (stochastic_depth): StochasticDepth(p=0.0, mode=row)\n",
              "      )\n",
              "    )\n",
              "    (2): Sequential(\n",
              "      (0): MBConv(\n",
              "        (block): Sequential(\n",
              "          (0): Conv2dNormActivation(\n",
              "            (0): Conv2d(16, 96, kernel_size=(1, 1), stride=(1, 1), bias=False)\n",
              "            (1): BatchNorm2d(96, eps=1e-05, momentum=0.1, affine=True, track_running_stats=True)\n",
              "            (2): SiLU(inplace=True)\n",
              "          )\n",
              "          (1): Conv2dNormActivation(\n",
              "            (0): Conv2d(96, 96, kernel_size=(3, 3), stride=(2, 2), padding=(1, 1), groups=96, bias=False)\n",
              "            (1): BatchNorm2d(96, eps=1e-05, momentum=0.1, affine=True, track_running_stats=True)\n",
              "            (2): SiLU(inplace=True)\n",
              "          )\n",
              "          (2): SqueezeExcitation(\n",
              "            (avgpool): AdaptiveAvgPool2d(output_size=1)\n",
              "            (fc1): Conv2d(96, 4, kernel_size=(1, 1), stride=(1, 1))\n",
              "            (fc2): Conv2d(4, 96, kernel_size=(1, 1), stride=(1, 1))\n",
              "            (activation): SiLU(inplace=True)\n",
              "            (scale_activation): Sigmoid()\n",
              "          )\n",
              "          (3): Conv2dNormActivation(\n",
              "            (0): Conv2d(96, 24, kernel_size=(1, 1), stride=(1, 1), bias=False)\n",
              "            (1): BatchNorm2d(24, eps=1e-05, momentum=0.1, affine=True, track_running_stats=True)\n",
              "          )\n",
              "        )\n",
              "        (stochastic_depth): StochasticDepth(p=0.0125, mode=row)\n",
              "      )\n",
              "      (1): MBConv(\n",
              "        (block): Sequential(\n",
              "          (0): Conv2dNormActivation(\n",
              "            (0): Conv2d(24, 144, kernel_size=(1, 1), stride=(1, 1), bias=False)\n",
              "            (1): BatchNorm2d(144, eps=1e-05, momentum=0.1, affine=True, track_running_stats=True)\n",
              "            (2): SiLU(inplace=True)\n",
              "          )\n",
              "          (1): Conv2dNormActivation(\n",
              "            (0): Conv2d(144, 144, kernel_size=(3, 3), stride=(1, 1), padding=(1, 1), groups=144, bias=False)\n",
              "            (1): BatchNorm2d(144, eps=1e-05, momentum=0.1, affine=True, track_running_stats=True)\n",
              "            (2): SiLU(inplace=True)\n",
              "          )\n",
              "          (2): SqueezeExcitation(\n",
              "            (avgpool): AdaptiveAvgPool2d(output_size=1)\n",
              "            (fc1): Conv2d(144, 6, kernel_size=(1, 1), stride=(1, 1))\n",
              "            (fc2): Conv2d(6, 144, kernel_size=(1, 1), stride=(1, 1))\n",
              "            (activation): SiLU(inplace=True)\n",
              "            (scale_activation): Sigmoid()\n",
              "          )\n",
              "          (3): Conv2dNormActivation(\n",
              "            (0): Conv2d(144, 24, kernel_size=(1, 1), stride=(1, 1), bias=False)\n",
              "            (1): BatchNorm2d(24, eps=1e-05, momentum=0.1, affine=True, track_running_stats=True)\n",
              "          )\n",
              "        )\n",
              "        (stochastic_depth): StochasticDepth(p=0.025, mode=row)\n",
              "      )\n",
              "    )\n",
              "    (3): Sequential(\n",
              "      (0): MBConv(\n",
              "        (block): Sequential(\n",
              "          (0): Conv2dNormActivation(\n",
              "            (0): Conv2d(24, 144, kernel_size=(1, 1), stride=(1, 1), bias=False)\n",
              "            (1): BatchNorm2d(144, eps=1e-05, momentum=0.1, affine=True, track_running_stats=True)\n",
              "            (2): SiLU(inplace=True)\n",
              "          )\n",
              "          (1): Conv2dNormActivation(\n",
              "            (0): Conv2d(144, 144, kernel_size=(5, 5), stride=(2, 2), padding=(2, 2), groups=144, bias=False)\n",
              "            (1): BatchNorm2d(144, eps=1e-05, momentum=0.1, affine=True, track_running_stats=True)\n",
              "            (2): SiLU(inplace=True)\n",
              "          )\n",
              "          (2): SqueezeExcitation(\n",
              "            (avgpool): AdaptiveAvgPool2d(output_size=1)\n",
              "            (fc1): Conv2d(144, 6, kernel_size=(1, 1), stride=(1, 1))\n",
              "            (fc2): Conv2d(6, 144, kernel_size=(1, 1), stride=(1, 1))\n",
              "            (activation): SiLU(inplace=True)\n",
              "            (scale_activation): Sigmoid()\n",
              "          )\n",
              "          (3): Conv2dNormActivation(\n",
              "            (0): Conv2d(144, 40, kernel_size=(1, 1), stride=(1, 1), bias=False)\n",
              "            (1): BatchNorm2d(40, eps=1e-05, momentum=0.1, affine=True, track_running_stats=True)\n",
              "          )\n",
              "        )\n",
              "        (stochastic_depth): StochasticDepth(p=0.037500000000000006, mode=row)\n",
              "      )\n",
              "      (1): MBConv(\n",
              "        (block): Sequential(\n",
              "          (0): Conv2dNormActivation(\n",
              "            (0): Conv2d(40, 240, kernel_size=(1, 1), stride=(1, 1), bias=False)\n",
              "            (1): BatchNorm2d(240, eps=1e-05, momentum=0.1, affine=True, track_running_stats=True)\n",
              "            (2): SiLU(inplace=True)\n",
              "          )\n",
              "          (1): Conv2dNormActivation(\n",
              "            (0): Conv2d(240, 240, kernel_size=(5, 5), stride=(1, 1), padding=(2, 2), groups=240, bias=False)\n",
              "            (1): BatchNorm2d(240, eps=1e-05, momentum=0.1, affine=True, track_running_stats=True)\n",
              "            (2): SiLU(inplace=True)\n",
              "          )\n",
              "          (2): SqueezeExcitation(\n",
              "            (avgpool): AdaptiveAvgPool2d(output_size=1)\n",
              "            (fc1): Conv2d(240, 10, kernel_size=(1, 1), stride=(1, 1))\n",
              "            (fc2): Conv2d(10, 240, kernel_size=(1, 1), stride=(1, 1))\n",
              "            (activation): SiLU(inplace=True)\n",
              "            (scale_activation): Sigmoid()\n",
              "          )\n",
              "          (3): Conv2dNormActivation(\n",
              "            (0): Conv2d(240, 40, kernel_size=(1, 1), stride=(1, 1), bias=False)\n",
              "            (1): BatchNorm2d(40, eps=1e-05, momentum=0.1, affine=True, track_running_stats=True)\n",
              "          )\n",
              "        )\n",
              "        (stochastic_depth): StochasticDepth(p=0.05, mode=row)\n",
              "      )\n",
              "    )\n",
              "    (4): Sequential(\n",
              "      (0): MBConv(\n",
              "        (block): Sequential(\n",
              "          (0): Conv2dNormActivation(\n",
              "            (0): Conv2d(40, 240, kernel_size=(1, 1), stride=(1, 1), bias=False)\n",
              "            (1): BatchNorm2d(240, eps=1e-05, momentum=0.1, affine=True, track_running_stats=True)\n",
              "            (2): SiLU(inplace=True)\n",
              "          )\n",
              "          (1): Conv2dNormActivation(\n",
              "            (0): Conv2d(240, 240, kernel_size=(3, 3), stride=(2, 2), padding=(1, 1), groups=240, bias=False)\n",
              "            (1): BatchNorm2d(240, eps=1e-05, momentum=0.1, affine=True, track_running_stats=True)\n",
              "            (2): SiLU(inplace=True)\n",
              "          )\n",
              "          (2): SqueezeExcitation(\n",
              "            (avgpool): AdaptiveAvgPool2d(output_size=1)\n",
              "            (fc1): Conv2d(240, 10, kernel_size=(1, 1), stride=(1, 1))\n",
              "            (fc2): Conv2d(10, 240, kernel_size=(1, 1), stride=(1, 1))\n",
              "            (activation): SiLU(inplace=True)\n",
              "            (scale_activation): Sigmoid()\n",
              "          )\n",
              "          (3): Conv2dNormActivation(\n",
              "            (0): Conv2d(240, 80, kernel_size=(1, 1), stride=(1, 1), bias=False)\n",
              "            (1): BatchNorm2d(80, eps=1e-05, momentum=0.1, affine=True, track_running_stats=True)\n",
              "          )\n",
              "        )\n",
              "        (stochastic_depth): StochasticDepth(p=0.0625, mode=row)\n",
              "      )\n",
              "      (1): MBConv(\n",
              "        (block): Sequential(\n",
              "          (0): Conv2dNormActivation(\n",
              "            (0): Conv2d(80, 480, kernel_size=(1, 1), stride=(1, 1), bias=False)\n",
              "            (1): BatchNorm2d(480, eps=1e-05, momentum=0.1, affine=True, track_running_stats=True)\n",
              "            (2): SiLU(inplace=True)\n",
              "          )\n",
              "          (1): Conv2dNormActivation(\n",
              "            (0): Conv2d(480, 480, kernel_size=(3, 3), stride=(1, 1), padding=(1, 1), groups=480, bias=False)\n",
              "            (1): BatchNorm2d(480, eps=1e-05, momentum=0.1, affine=True, track_running_stats=True)\n",
              "            (2): SiLU(inplace=True)\n",
              "          )\n",
              "          (2): SqueezeExcitation(\n",
              "            (avgpool): AdaptiveAvgPool2d(output_size=1)\n",
              "            (fc1): Conv2d(480, 20, kernel_size=(1, 1), stride=(1, 1))\n",
              "            (fc2): Conv2d(20, 480, kernel_size=(1, 1), stride=(1, 1))\n",
              "            (activation): SiLU(inplace=True)\n",
              "            (scale_activation): Sigmoid()\n",
              "          )\n",
              "          (3): Conv2dNormActivation(\n",
              "            (0): Conv2d(480, 80, kernel_size=(1, 1), stride=(1, 1), bias=False)\n",
              "            (1): BatchNorm2d(80, eps=1e-05, momentum=0.1, affine=True, track_running_stats=True)\n",
              "          )\n",
              "        )\n",
              "        (stochastic_depth): StochasticDepth(p=0.07500000000000001, mode=row)\n",
              "      )\n",
              "      (2): MBConv(\n",
              "        (block): Sequential(\n",
              "          (0): Conv2dNormActivation(\n",
              "            (0): Conv2d(80, 480, kernel_size=(1, 1), stride=(1, 1), bias=False)\n",
              "            (1): BatchNorm2d(480, eps=1e-05, momentum=0.1, affine=True, track_running_stats=True)\n",
              "            (2): SiLU(inplace=True)\n",
              "          )\n",
              "          (1): Conv2dNormActivation(\n",
              "            (0): Conv2d(480, 480, kernel_size=(3, 3), stride=(1, 1), padding=(1, 1), groups=480, bias=False)\n",
              "            (1): BatchNorm2d(480, eps=1e-05, momentum=0.1, affine=True, track_running_stats=True)\n",
              "            (2): SiLU(inplace=True)\n",
              "          )\n",
              "          (2): SqueezeExcitation(\n",
              "            (avgpool): AdaptiveAvgPool2d(output_size=1)\n",
              "            (fc1): Conv2d(480, 20, kernel_size=(1, 1), stride=(1, 1))\n",
              "            (fc2): Conv2d(20, 480, kernel_size=(1, 1), stride=(1, 1))\n",
              "            (activation): SiLU(inplace=True)\n",
              "            (scale_activation): Sigmoid()\n",
              "          )\n",
              "          (3): Conv2dNormActivation(\n",
              "            (0): Conv2d(480, 80, kernel_size=(1, 1), stride=(1, 1), bias=False)\n",
              "            (1): BatchNorm2d(80, eps=1e-05, momentum=0.1, affine=True, track_running_stats=True)\n",
              "          )\n",
              "        )\n",
              "        (stochastic_depth): StochasticDepth(p=0.08750000000000001, mode=row)\n",
              "      )\n",
              "    )\n",
              "    (5): Sequential(\n",
              "      (0): MBConv(\n",
              "        (block): Sequential(\n",
              "          (0): Conv2dNormActivation(\n",
              "            (0): Conv2d(80, 480, kernel_size=(1, 1), stride=(1, 1), bias=False)\n",
              "            (1): BatchNorm2d(480, eps=1e-05, momentum=0.1, affine=True, track_running_stats=True)\n",
              "            (2): SiLU(inplace=True)\n",
              "          )\n",
              "          (1): Conv2dNormActivation(\n",
              "            (0): Conv2d(480, 480, kernel_size=(5, 5), stride=(1, 1), padding=(2, 2), groups=480, bias=False)\n",
              "            (1): BatchNorm2d(480, eps=1e-05, momentum=0.1, affine=True, track_running_stats=True)\n",
              "            (2): SiLU(inplace=True)\n",
              "          )\n",
              "          (2): SqueezeExcitation(\n",
              "            (avgpool): AdaptiveAvgPool2d(output_size=1)\n",
              "            (fc1): Conv2d(480, 20, kernel_size=(1, 1), stride=(1, 1))\n",
              "            (fc2): Conv2d(20, 480, kernel_size=(1, 1), stride=(1, 1))\n",
              "            (activation): SiLU(inplace=True)\n",
              "            (scale_activation): Sigmoid()\n",
              "          )\n",
              "          (3): Conv2dNormActivation(\n",
              "            (0): Conv2d(480, 112, kernel_size=(1, 1), stride=(1, 1), bias=False)\n",
              "            (1): BatchNorm2d(112, eps=1e-05, momentum=0.1, affine=True, track_running_stats=True)\n",
              "          )\n",
              "        )\n",
              "        (stochastic_depth): StochasticDepth(p=0.1, mode=row)\n",
              "      )\n",
              "      (1): MBConv(\n",
              "        (block): Sequential(\n",
              "          (0): Conv2dNormActivation(\n",
              "            (0): Conv2d(112, 672, kernel_size=(1, 1), stride=(1, 1), bias=False)\n",
              "            (1): BatchNorm2d(672, eps=1e-05, momentum=0.1, affine=True, track_running_stats=True)\n",
              "            (2): SiLU(inplace=True)\n",
              "          )\n",
              "          (1): Conv2dNormActivation(\n",
              "            (0): Conv2d(672, 672, kernel_size=(5, 5), stride=(1, 1), padding=(2, 2), groups=672, bias=False)\n",
              "            (1): BatchNorm2d(672, eps=1e-05, momentum=0.1, affine=True, track_running_stats=True)\n",
              "            (2): SiLU(inplace=True)\n",
              "          )\n",
              "          (2): SqueezeExcitation(\n",
              "            (avgpool): AdaptiveAvgPool2d(output_size=1)\n",
              "            (fc1): Conv2d(672, 28, kernel_size=(1, 1), stride=(1, 1))\n",
              "            (fc2): Conv2d(28, 672, kernel_size=(1, 1), stride=(1, 1))\n",
              "            (activation): SiLU(inplace=True)\n",
              "            (scale_activation): Sigmoid()\n",
              "          )\n",
              "          (3): Conv2dNormActivation(\n",
              "            (0): Conv2d(672, 112, kernel_size=(1, 1), stride=(1, 1), bias=False)\n",
              "            (1): BatchNorm2d(112, eps=1e-05, momentum=0.1, affine=True, track_running_stats=True)\n",
              "          )\n",
              "        )\n",
              "        (stochastic_depth): StochasticDepth(p=0.1125, mode=row)\n",
              "      )\n",
              "      (2): MBConv(\n",
              "        (block): Sequential(\n",
              "          (0): Conv2dNormActivation(\n",
              "            (0): Conv2d(112, 672, kernel_size=(1, 1), stride=(1, 1), bias=False)\n",
              "            (1): BatchNorm2d(672, eps=1e-05, momentum=0.1, affine=True, track_running_stats=True)\n",
              "            (2): SiLU(inplace=True)\n",
              "          )\n",
              "          (1): Conv2dNormActivation(\n",
              "            (0): Conv2d(672, 672, kernel_size=(5, 5), stride=(1, 1), padding=(2, 2), groups=672, bias=False)\n",
              "            (1): BatchNorm2d(672, eps=1e-05, momentum=0.1, affine=True, track_running_stats=True)\n",
              "            (2): SiLU(inplace=True)\n",
              "          )\n",
              "          (2): SqueezeExcitation(\n",
              "            (avgpool): AdaptiveAvgPool2d(output_size=1)\n",
              "            (fc1): Conv2d(672, 28, kernel_size=(1, 1), stride=(1, 1))\n",
              "            (fc2): Conv2d(28, 672, kernel_size=(1, 1), stride=(1, 1))\n",
              "            (activation): SiLU(inplace=True)\n",
              "            (scale_activation): Sigmoid()\n",
              "          )\n",
              "          (3): Conv2dNormActivation(\n",
              "            (0): Conv2d(672, 112, kernel_size=(1, 1), stride=(1, 1), bias=False)\n",
              "            (1): BatchNorm2d(112, eps=1e-05, momentum=0.1, affine=True, track_running_stats=True)\n",
              "          )\n",
              "        )\n",
              "        (stochastic_depth): StochasticDepth(p=0.125, mode=row)\n",
              "      )\n",
              "    )\n",
              "    (6): Sequential(\n",
              "      (0): MBConv(\n",
              "        (block): Sequential(\n",
              "          (0): Conv2dNormActivation(\n",
              "            (0): Conv2d(112, 672, kernel_size=(1, 1), stride=(1, 1), bias=False)\n",
              "            (1): BatchNorm2d(672, eps=1e-05, momentum=0.1, affine=True, track_running_stats=True)\n",
              "            (2): SiLU(inplace=True)\n",
              "          )\n",
              "          (1): Conv2dNormActivation(\n",
              "            (0): Conv2d(672, 672, kernel_size=(5, 5), stride=(2, 2), padding=(2, 2), groups=672, bias=False)\n",
              "            (1): BatchNorm2d(672, eps=1e-05, momentum=0.1, affine=True, track_running_stats=True)\n",
              "            (2): SiLU(inplace=True)\n",
              "          )\n",
              "          (2): SqueezeExcitation(\n",
              "            (avgpool): AdaptiveAvgPool2d(output_size=1)\n",
              "            (fc1): Conv2d(672, 28, kernel_size=(1, 1), stride=(1, 1))\n",
              "            (fc2): Conv2d(28, 672, kernel_size=(1, 1), stride=(1, 1))\n",
              "            (activation): SiLU(inplace=True)\n",
              "            (scale_activation): Sigmoid()\n",
              "          )\n",
              "          (3): Conv2dNormActivation(\n",
              "            (0): Conv2d(672, 192, kernel_size=(1, 1), stride=(1, 1), bias=False)\n",
              "            (1): BatchNorm2d(192, eps=1e-05, momentum=0.1, affine=True, track_running_stats=True)\n",
              "          )\n",
              "        )\n",
              "        (stochastic_depth): StochasticDepth(p=0.1375, mode=row)\n",
              "      )\n",
              "      (1): MBConv(\n",
              "        (block): Sequential(\n",
              "          (0): Conv2dNormActivation(\n",
              "            (0): Conv2d(192, 1152, kernel_size=(1, 1), stride=(1, 1), bias=False)\n",
              "            (1): BatchNorm2d(1152, eps=1e-05, momentum=0.1, affine=True, track_running_stats=True)\n",
              "            (2): SiLU(inplace=True)\n",
              "          )\n",
              "          (1): Conv2dNormActivation(\n",
              "            (0): Conv2d(1152, 1152, kernel_size=(5, 5), stride=(1, 1), padding=(2, 2), groups=1152, bias=False)\n",
              "            (1): BatchNorm2d(1152, eps=1e-05, momentum=0.1, affine=True, track_running_stats=True)\n",
              "            (2): SiLU(inplace=True)\n",
              "          )\n",
              "          (2): SqueezeExcitation(\n",
              "            (avgpool): AdaptiveAvgPool2d(output_size=1)\n",
              "            (fc1): Conv2d(1152, 48, kernel_size=(1, 1), stride=(1, 1))\n",
              "            (fc2): Conv2d(48, 1152, kernel_size=(1, 1), stride=(1, 1))\n",
              "            (activation): SiLU(inplace=True)\n",
              "            (scale_activation): Sigmoid()\n",
              "          )\n",
              "          (3): Conv2dNormActivation(\n",
              "            (0): Conv2d(1152, 192, kernel_size=(1, 1), stride=(1, 1), bias=False)\n",
              "            (1): BatchNorm2d(192, eps=1e-05, momentum=0.1, affine=True, track_running_stats=True)\n",
              "          )\n",
              "        )\n",
              "        (stochastic_depth): StochasticDepth(p=0.15000000000000002, mode=row)\n",
              "      )\n",
              "      (2): MBConv(\n",
              "        (block): Sequential(\n",
              "          (0): Conv2dNormActivation(\n",
              "            (0): Conv2d(192, 1152, kernel_size=(1, 1), stride=(1, 1), bias=False)\n",
              "            (1): BatchNorm2d(1152, eps=1e-05, momentum=0.1, affine=True, track_running_stats=True)\n",
              "            (2): SiLU(inplace=True)\n",
              "          )\n",
              "          (1): Conv2dNormActivation(\n",
              "            (0): Conv2d(1152, 1152, kernel_size=(5, 5), stride=(1, 1), padding=(2, 2), groups=1152, bias=False)\n",
              "            (1): BatchNorm2d(1152, eps=1e-05, momentum=0.1, affine=True, track_running_stats=True)\n",
              "            (2): SiLU(inplace=True)\n",
              "          )\n",
              "          (2): SqueezeExcitation(\n",
              "            (avgpool): AdaptiveAvgPool2d(output_size=1)\n",
              "            (fc1): Conv2d(1152, 48, kernel_size=(1, 1), stride=(1, 1))\n",
              "            (fc2): Conv2d(48, 1152, kernel_size=(1, 1), stride=(1, 1))\n",
              "            (activation): SiLU(inplace=True)\n",
              "            (scale_activation): Sigmoid()\n",
              "          )\n",
              "          (3): Conv2dNormActivation(\n",
              "            (0): Conv2d(1152, 192, kernel_size=(1, 1), stride=(1, 1), bias=False)\n",
              "            (1): BatchNorm2d(192, eps=1e-05, momentum=0.1, affine=True, track_running_stats=True)\n",
              "          )\n",
              "        )\n",
              "        (stochastic_depth): StochasticDepth(p=0.1625, mode=row)\n",
              "      )\n",
              "      (3): MBConv(\n",
              "        (block): Sequential(\n",
              "          (0): Conv2dNormActivation(\n",
              "            (0): Conv2d(192, 1152, kernel_size=(1, 1), stride=(1, 1), bias=False)\n",
              "            (1): BatchNorm2d(1152, eps=1e-05, momentum=0.1, affine=True, track_running_stats=True)\n",
              "            (2): SiLU(inplace=True)\n",
              "          )\n",
              "          (1): Conv2dNormActivation(\n",
              "            (0): Conv2d(1152, 1152, kernel_size=(5, 5), stride=(1, 1), padding=(2, 2), groups=1152, bias=False)\n",
              "            (1): BatchNorm2d(1152, eps=1e-05, momentum=0.1, affine=True, track_running_stats=True)\n",
              "            (2): SiLU(inplace=True)\n",
              "          )\n",
              "          (2): SqueezeExcitation(\n",
              "            (avgpool): AdaptiveAvgPool2d(output_size=1)\n",
              "            (fc1): Conv2d(1152, 48, kernel_size=(1, 1), stride=(1, 1))\n",
              "            (fc2): Conv2d(48, 1152, kernel_size=(1, 1), stride=(1, 1))\n",
              "            (activation): SiLU(inplace=True)\n",
              "            (scale_activation): Sigmoid()\n",
              "          )\n",
              "          (3): Conv2dNormActivation(\n",
              "            (0): Conv2d(1152, 192, kernel_size=(1, 1), stride=(1, 1), bias=False)\n",
              "            (1): BatchNorm2d(192, eps=1e-05, momentum=0.1, affine=True, track_running_stats=True)\n",
              "          )\n",
              "        )\n",
              "        (stochastic_depth): StochasticDepth(p=0.17500000000000002, mode=row)\n",
              "      )\n",
              "    )\n",
              "    (7): Sequential(\n",
              "      (0): MBConv(\n",
              "        (block): Sequential(\n",
              "          (0): Conv2dNormActivation(\n",
              "            (0): Conv2d(192, 1152, kernel_size=(1, 1), stride=(1, 1), bias=False)\n",
              "            (1): BatchNorm2d(1152, eps=1e-05, momentum=0.1, affine=True, track_running_stats=True)\n",
              "            (2): SiLU(inplace=True)\n",
              "          )\n",
              "          (1): Conv2dNormActivation(\n",
              "            (0): Conv2d(1152, 1152, kernel_size=(3, 3), stride=(1, 1), padding=(1, 1), groups=1152, bias=False)\n",
              "            (1): BatchNorm2d(1152, eps=1e-05, momentum=0.1, affine=True, track_running_stats=True)\n",
              "            (2): SiLU(inplace=True)\n",
              "          )\n",
              "          (2): SqueezeExcitation(\n",
              "            (avgpool): AdaptiveAvgPool2d(output_size=1)\n",
              "            (fc1): Conv2d(1152, 48, kernel_size=(1, 1), stride=(1, 1))\n",
              "            (fc2): Conv2d(48, 1152, kernel_size=(1, 1), stride=(1, 1))\n",
              "            (activation): SiLU(inplace=True)\n",
              "            (scale_activation): Sigmoid()\n",
              "          )\n",
              "          (3): Conv2dNormActivation(\n",
              "            (0): Conv2d(1152, 320, kernel_size=(1, 1), stride=(1, 1), bias=False)\n",
              "            (1): BatchNorm2d(320, eps=1e-05, momentum=0.1, affine=True, track_running_stats=True)\n",
              "          )\n",
              "        )\n",
              "        (stochastic_depth): StochasticDepth(p=0.1875, mode=row)\n",
              "      )\n",
              "    )\n",
              "    (8): Conv2dNormActivation(\n",
              "      (0): Conv2d(320, 1280, kernel_size=(1, 1), stride=(1, 1), bias=False)\n",
              "      (1): BatchNorm2d(1280, eps=1e-05, momentum=0.1, affine=True, track_running_stats=True)\n",
              "      (2): SiLU(inplace=True)\n",
              "    )\n",
              "  )\n",
              "  (avgpool): AdaptiveAvgPool2d(output_size=1)\n",
              "  (classifier): Sequential(\n",
              "    (0): Dropout(p=0.2, inplace=True)\n",
              "    (1): Linear(in_features=1280, out_features=20, bias=True)\n",
              "  )\n",
              ")"
            ]
          },
          "execution_count": 83,
          "metadata": {},
          "output_type": "execute_result"
        }
      ],
      "source": [
        "model.to(device)"
      ]
    },
    {
      "cell_type": "code",
      "execution_count": null,
      "metadata": {
        "id": "GhLJ1AJubsBK"
      },
      "outputs": [],
      "source": [
        "model.eval()\n",
        "lres = []\n",
        "ytrue = []\n",
        "with torch.no_grad():\n",
        "    for data,target in dl_test:\n",
        "        data = data.to(device)\n",
        "        pred = model(data)\n",
        "        res  = pred.argmax(dim=1).cpu().tolist()\n",
        "        lres += res\n",
        "        ytrue += target"
      ]
    },
    {
      "cell_type": "code",
      "execution_count": null,
      "metadata": {
        "colab": {
          "base_uri": "https://localhost:8080/"
        },
        "id": "JTE7BeTmbvnA",
        "outputId": "acb1fc46-5e45-4d0e-a5dc-6278e90fcd57"
      },
      "outputs": [
        {
          "data": {
            "text/plain": [
              "array([[36,  0,  0,  0,  0,  0,  0,  0,  0,  0,  0,  0,  0,  1,  0,  0,\n",
              "         0,  0,  0,  0],\n",
              "       [ 0, 37,  0,  1,  0,  0,  0,  0,  0,  0,  0,  0,  0,  0,  0,  0,\n",
              "         0,  0,  0,  0],\n",
              "       [ 0,  2, 33,  0,  0,  0,  1,  0,  0,  0,  0,  0,  1,  0,  0,  0,\n",
              "         0,  0,  1,  0],\n",
              "       [ 0,  0,  0, 37,  0,  0,  0,  0,  0,  0,  0,  0,  0,  0,  0,  0,\n",
              "         0,  0,  0,  0],\n",
              "       [ 0,  0,  0,  0, 38,  0,  0,  0,  0,  0,  0,  0,  0,  0,  0,  0,\n",
              "         0,  0,  0,  0],\n",
              "       [ 1,  0,  0,  0,  0, 36,  0,  0,  0,  0,  0,  0,  0,  0,  0,  0,\n",
              "         0,  1,  0,  0],\n",
              "       [ 0,  0,  0,  0,  0,  0, 36,  0,  0,  0,  0,  0,  1,  0,  0,  0,\n",
              "         0,  0,  0,  0],\n",
              "       [ 0,  0,  0,  0,  0,  0,  0, 37,  0,  0,  0,  0,  0,  0,  0,  0,\n",
              "         0,  0,  0,  0],\n",
              "       [ 0,  0,  0,  0,  0,  0,  0,  0, 36,  1,  0,  0,  0,  0,  0,  0,\n",
              "         0,  0,  0,  0],\n",
              "       [ 1,  0,  0,  0,  0,  0,  0,  0,  1, 36,  0,  0,  0,  0,  0,  0,\n",
              "         0,  0,  0,  0],\n",
              "       [ 0,  0,  0,  0,  0,  0,  0,  0,  0,  0, 37,  0,  0,  0,  0,  0,\n",
              "         0,  0,  0,  0],\n",
              "       [ 2,  0,  0,  0,  0,  0,  0,  0,  0,  0,  0, 36,  0,  0,  0,  0,\n",
              "         0,  0,  0,  0],\n",
              "       [ 0,  0,  0,  0,  0,  0,  0,  0,  0,  0,  0,  0, 38,  0,  0,  0,\n",
              "         0,  0,  0,  0],\n",
              "       [ 0,  0,  1,  0,  0,  0,  1,  0,  0,  0,  0,  0,  0, 34,  1,  0,\n",
              "         0,  0,  0,  0],\n",
              "       [ 1,  0,  0,  0,  0,  0,  0,  0,  0,  1,  0,  0,  0,  0, 36,  0,\n",
              "         0,  0,  0,  0],\n",
              "       [ 0,  0,  0,  0,  3,  1,  0,  0,  1,  1,  0,  0,  0,  0,  1, 29,\n",
              "         0,  0,  1,  0],\n",
              "       [ 0,  0,  0,  0,  0,  0,  0,  0,  0,  0,  0,  0,  0,  0,  0,  0,\n",
              "        38,  0,  0,  0],\n",
              "       [ 0,  0,  0,  0,  0,  0,  0,  0,  0,  0,  0,  0,  0,  0,  0,  0,\n",
              "         0, 38,  0,  0],\n",
              "       [ 0,  0,  0,  0,  0,  0,  0,  0,  0,  1,  0,  0,  0,  0,  0,  1,\n",
              "         0,  0, 35,  0],\n",
              "       [ 0,  0,  0,  0,  0,  0,  0,  0,  0,  0,  0,  0,  0,  0,  0,  0,\n",
              "         0,  0,  0, 37]])"
            ]
          },
          "execution_count": 90,
          "metadata": {},
          "output_type": "execute_result"
        }
      ],
      "source": [
        "metrics.confusion_matrix(ytrue,lres)"
      ]
    },
    {
      "cell_type": "code",
      "execution_count": null,
      "metadata": {
        "colab": {
          "base_uri": "https://localhost:8080/"
        },
        "id": "r5tMGLCWb2fF",
        "outputId": "186c7797-6b7d-41dd-b506-5591fc823a85"
      },
      "outputs": [
        {
          "data": {
            "text/plain": [
              "0.96"
            ]
          },
          "execution_count": 86,
          "metadata": {},
          "output_type": "execute_result"
        }
      ],
      "source": [
        "metrics.accuracy_score(ytrue,lres)"
      ]
    },
    {
      "cell_type": "code",
      "execution_count": null,
      "metadata": {
        "colab": {
          "base_uri": "https://localhost:8080/"
        },
        "id": "lice8TwFtTio",
        "outputId": "ed920e75-c416-4bf8-d6e5-6009b992086a"
      },
      "outputs": [
        {
          "data": {
            "text/plain": [
              "0.961040891761514"
            ]
          },
          "execution_count": 100,
          "metadata": {},
          "output_type": "execute_result"
        }
      ],
      "source": [
        "metrics.precision_score(ytrue,lres,average='weighted')"
      ]
    },
    {
      "cell_type": "code",
      "execution_count": null,
      "metadata": {
        "colab": {
          "base_uri": "https://localhost:8080/"
        },
        "id": "HrWA1dTPtd1p",
        "outputId": "67cce641-d807-4b78-ea93-79cd00751f8f"
      },
      "outputs": [
        {
          "data": {
            "text/plain": [
              "0.96"
            ]
          },
          "execution_count": 101,
          "metadata": {},
          "output_type": "execute_result"
        }
      ],
      "source": [
        "metrics.recall_score(ytrue,lres,average='weighted')"
      ]
    },
    {
      "cell_type": "code",
      "execution_count": null,
      "metadata": {
        "colab": {
          "base_uri": "https://localhost:8080/"
        },
        "id": "Rhsk5mOjtgie",
        "outputId": "55ee0573-046c-4c3a-a33e-48eb8c9ee822"
      },
      "outputs": [
        {
          "data": {
            "text/plain": [
              "0.9595288192951824"
            ]
          },
          "execution_count": 102,
          "metadata": {},
          "output_type": "execute_result"
        }
      ],
      "source": [
        "metrics.f1_score(ytrue,lres,average='weighted')"
      ]
    },
    {
      "cell_type": "code",
      "execution_count": null,
      "metadata": {
        "id": "xth592paAV68"
      },
      "outputs": [],
      "source": [
        "img = image_loader('./akita/106596984_fff2c7d32e_m.jpg')"
      ]
    },
    {
      "cell_type": "code",
      "execution_count": null,
      "metadata": {
        "id": "NvGaeBNAAYJH"
      },
      "outputs": [],
      "source": [
        "timg = transform(img).view(1,3,224,224).to(device)"
      ]
    },
    {
      "cell_type": "code",
      "execution_count": null,
      "metadata": {
        "colab": {
          "base_uri": "https://localhost:8080/"
        },
        "id": "nMDjJQ-lAZqF",
        "outputId": "8557b9ea-cd73-4afd-d5c9-1c3ab78da8dc"
      },
      "outputs": [
        {
          "data": {
            "text/plain": [
              "torch.Size([1, 3, 224, 224])"
            ]
          },
          "execution_count": 94,
          "metadata": {},
          "output_type": "execute_result"
        }
      ],
      "source": [
        "timg.shape"
      ]
    },
    {
      "cell_type": "code",
      "execution_count": null,
      "metadata": {
        "id": "GbBxL8U8Aa_W"
      },
      "outputs": [],
      "source": [
        "pred = model(timg)"
      ]
    },
    {
      "cell_type": "code",
      "execution_count": null,
      "metadata": {
        "colab": {
          "base_uri": "https://localhost:8080/"
        },
        "id": "WoBX7Xv9AcFa",
        "outputId": "b05c8b83-4058-43ab-8a60-d7e2dabf35c3"
      },
      "outputs": [
        {
          "data": {
            "text/plain": [
              "tensor([[10.7463, -2.6639, -5.6718, -0.6855,  1.0402, -0.3498, -1.9125,  1.2596,\n",
              "          0.0223, -2.0444, -3.0299,  5.5072, -0.9977,  0.3259, -0.2714,  0.4577,\n",
              "         -0.1931, -0.5419, -0.9394, -2.7738]], device='cuda:0',\n",
              "       grad_fn=<AddmmBackward0>)"
            ]
          },
          "execution_count": 96,
          "metadata": {},
          "output_type": "execute_result"
        }
      ],
      "source": [
        "pred"
      ]
    },
    {
      "cell_type": "markdown",
      "metadata": {
        "id": "L8KBKowDaCDb"
      },
      "source": [
        "# Second Model "
      ]
    },
    {
      "cell_type": "code",
      "source": [
        "opt = optim.SGD(model2.parameters(),lr=0.001)\n"
      ],
      "metadata": {
        "id": "wGux5NUZGTcP"
      },
      "execution_count": null,
      "outputs": []
    },
    {
      "cell_type": "code",
      "execution_count": null,
      "metadata": {
        "colab": {
          "base_uri": "https://localhost:8080/"
        },
        "id": "k9vt1RvfaIZl",
        "outputId": "36f0a3aa-f45e-4cbf-b48a-7e98af399054"
      },
      "outputs": [
        {
          "output_type": "stream",
          "name": "stdout",
          "text": [
            "Best model2 found! saving...\n",
            "epoch 0 loss_train 2.918 loss_eval 3.104 last_best 1\n",
            "Best model2 found! saving...\n",
            "epoch 1 loss_train 2.712 loss_eval 2.666 last_best 1\n",
            "epoch 2 loss_train 2.485 loss_eval 2.999 last_best 2\n",
            "Best model2 found! saving...\n",
            "epoch 3 loss_train 2.233 loss_eval 2.201 last_best 1\n",
            "Best model2 found! saving...\n",
            "epoch 4 loss_train 1.969 loss_eval 1.840 last_best 1\n",
            "Best model2 found! saving...\n",
            "epoch 5 loss_train 1.681 loss_eval 1.533 last_best 1\n",
            "Best model2 found! saving...\n",
            "epoch 6 loss_train 1.441 loss_eval 1.287 last_best 1\n",
            "Best model2 found! saving...\n",
            "epoch 7 loss_train 1.243 loss_eval 1.103 last_best 1\n",
            "Best model2 found! saving...\n",
            "epoch 8 loss_train 1.073 loss_eval 0.947 last_best 1\n",
            "Best model2 found! saving...\n",
            "epoch 9 loss_train 0.947 loss_eval 0.863 last_best 1\n",
            "Best model2 found! saving...\n",
            "epoch 10 loss_train 0.845 loss_eval 0.734 last_best 1\n",
            "Best model2 found! saving...\n",
            "epoch 11 loss_train 0.765 loss_eval 0.672 last_best 1\n",
            "Best model2 found! saving...\n",
            "epoch 12 loss_train 0.695 loss_eval 0.590 last_best 1\n",
            "Best model2 found! saving...\n",
            "epoch 13 loss_train 0.639 loss_eval 0.554 last_best 1\n",
            "Best model2 found! saving...\n",
            "epoch 14 loss_train 0.584 loss_eval 0.504 last_best 1\n",
            "Best model2 found! saving...\n",
            "epoch 15 loss_train 0.549 loss_eval 0.478 last_best 1\n",
            "Best model2 found! saving...\n",
            "epoch 16 loss_train 0.528 loss_eval 0.447 last_best 1\n",
            "Best model2 found! saving...\n",
            "epoch 17 loss_train 0.485 loss_eval 0.429 last_best 1\n",
            "Best model2 found! saving...\n",
            "epoch 18 loss_train 0.454 loss_eval 0.406 last_best 1\n",
            "Best model2 found! saving...\n",
            "epoch 19 loss_train 0.419 loss_eval 0.397 last_best 1\n",
            "Best model2 found! saving...\n",
            "epoch 20 loss_train 0.424 loss_eval 0.383 last_best 1\n",
            "Best model2 found! saving...\n",
            "epoch 21 loss_train 0.396 loss_eval 0.366 last_best 1\n",
            "Best model2 found! saving...\n",
            "epoch 22 loss_train 0.373 loss_eval 0.352 last_best 1\n",
            "Best model2 found! saving...\n",
            "epoch 23 loss_train 0.359 loss_eval 0.337 last_best 1\n",
            "Best model2 found! saving...\n",
            "epoch 24 loss_train 0.343 loss_eval 0.319 last_best 1\n",
            "Best model2 found! saving...\n",
            "epoch 25 loss_train 0.335 loss_eval 0.309 last_best 1\n",
            "Best model2 found! saving...\n",
            "epoch 26 loss_train 0.314 loss_eval 0.298 last_best 1\n",
            "Best model2 found! saving...\n",
            "epoch 27 loss_train 0.300 loss_eval 0.294 last_best 1\n",
            "Best model2 found! saving...\n",
            "epoch 28 loss_train 0.291 loss_eval 0.289 last_best 1\n",
            "Best model2 found! saving...\n",
            "epoch 29 loss_train 0.272 loss_eval 0.276 last_best 1\n",
            "Best model2 found! saving...\n",
            "epoch 30 loss_train 0.270 loss_eval 0.270 last_best 1\n",
            "epoch 31 loss_train 0.248 loss_eval 0.319 last_best 2\n",
            "Best model2 found! saving...\n",
            "epoch 32 loss_train 0.249 loss_eval 0.266 last_best 1\n",
            "epoch 33 loss_train 0.241 loss_eval 0.373 last_best 2\n",
            "epoch 34 loss_train 0.235 loss_eval 0.274 last_best 3\n",
            "epoch 35 loss_train 0.235 loss_eval 0.272 last_best 4\n",
            "Best model2 found! saving...\n",
            "epoch 36 loss_train 0.218 loss_eval 0.263 last_best 1\n",
            "Best model2 found! saving...\n",
            "epoch 37 loss_train 0.201 loss_eval 0.256 last_best 1\n",
            "Best model2 found! saving...\n",
            "epoch 38 loss_train 0.196 loss_eval 0.248 last_best 1\n",
            "Best model2 found! saving...\n",
            "epoch 39 loss_train 0.191 loss_eval 0.237 last_best 1\n",
            "epoch 40 loss_train 0.193 loss_eval 0.251 last_best 2\n",
            "Best model2 found! saving...\n",
            "epoch 41 loss_train 0.180 loss_eval 0.231 last_best 1\n",
            "Best model2 found! saving...\n",
            "epoch 42 loss_train 0.179 loss_eval 0.226 last_best 1\n",
            "epoch 43 loss_train 0.175 loss_eval 0.260 last_best 2\n",
            "Best model2 found! saving...\n",
            "epoch 44 loss_train 0.169 loss_eval 0.224 last_best 1\n",
            "Best model2 found! saving...\n",
            "epoch 45 loss_train 0.159 loss_eval 0.221 last_best 1\n",
            "epoch 46 loss_train 0.164 loss_eval 0.229 last_best 2\n",
            "epoch 47 loss_train 0.160 loss_eval 0.270 last_best 3\n",
            "epoch 48 loss_train 0.147 loss_eval 0.254 last_best 4\n",
            "epoch 49 loss_train 0.141 loss_eval 0.223 last_best 5\n",
            "Best model2 found! saving...\n",
            "epoch 50 loss_train 0.133 loss_eval 0.215 last_best 1\n",
            "epoch 51 loss_train 0.134 loss_eval 0.228 last_best 2\n",
            "Best model2 found! saving...\n",
            "epoch 52 loss_train 0.124 loss_eval 0.207 last_best 1\n",
            "epoch 53 loss_train 0.125 loss_eval 0.225 last_best 2\n",
            "epoch 54 loss_train 0.131 loss_eval 0.247 last_best 3\n",
            "Best model2 found! saving...\n",
            "epoch 55 loss_train 0.121 loss_eval 0.204 last_best 1\n",
            "epoch 56 loss_train 0.117 loss_eval 0.205 last_best 2\n",
            "Best model2 found! saving...\n",
            "epoch 57 loss_train 0.109 loss_eval 0.201 last_best 1\n",
            "epoch 58 loss_train 0.112 loss_eval 0.204 last_best 2\n",
            "epoch 59 loss_train 0.111 loss_eval 0.253 last_best 3\n",
            "epoch 60 loss_train 0.108 loss_eval 0.203 last_best 4\n",
            "Best model2 found! saving...\n",
            "epoch 61 loss_train 0.103 loss_eval 0.188 last_best 1\n",
            "epoch 62 loss_train 0.099 loss_eval 0.204 last_best 2\n",
            "epoch 63 loss_train 0.096 loss_eval 0.196 last_best 3\n",
            "epoch 64 loss_train 0.096 loss_eval 0.234 last_best 4\n",
            "epoch 65 loss_train 0.092 loss_eval 0.284 last_best 5\n",
            "epoch 66 loss_train 0.089 loss_eval 0.240 last_best 6\n",
            "Best model2 found! saving...\n",
            "epoch 67 loss_train 0.086 loss_eval 0.186 last_best 1\n",
            "epoch 68 loss_train 0.086 loss_eval 0.191 last_best 2\n",
            "epoch 69 loss_train 0.083 loss_eval 0.195 last_best 3\n",
            "epoch 70 loss_train 0.084 loss_eval 0.188 last_best 4\n",
            "epoch 71 loss_train 0.077 loss_eval 0.205 last_best 5\n",
            "epoch 72 loss_train 0.080 loss_eval 0.349 last_best 6\n",
            "epoch 73 loss_train 0.076 loss_eval 0.197 last_best 7\n",
            "epoch 74 loss_train 0.081 loss_eval 0.188 last_best 8\n",
            "epoch 75 loss_train 0.073 loss_eval 0.198 last_best 9\n",
            "epoch 76 loss_train 0.079 loss_eval 0.191 last_best 10\n",
            "epoch 77 loss_train 0.068 loss_eval 0.204 last_best 11\n",
            "epoch 78 loss_train 0.070 loss_eval 0.193 last_best 12\n",
            "epoch 79 loss_train 0.072 loss_eval 0.202 last_best 13\n",
            "epoch 80 loss_train 0.062 loss_eval 0.205 last_best 14\n",
            "epoch 81 loss_train 0.061 loss_eval 0.201 last_best 15\n",
            "epoch 82 loss_train 0.066 loss_eval 0.187 last_best 16\n"
          ]
        }
      ],
      "source": [
        "\n",
        "epochs = 100\n",
        "\n",
        "stop = False\n",
        "epoch = 0\n",
        "lowest_loss_eval = 10000\n",
        "last_best_result = 0\n",
        "while (not stop):\n",
        "    #wandb.watch(model2)\n",
        "    model2.train()\n",
        "    lloss = []\n",
        "    for x,y in dl_train:\n",
        "        x = x.to(device)\n",
        "        y = y.to(device)\n",
        "        pred = model2(x)\n",
        "        closs = criterion(pred,y)\n",
        "        closs.backward()\n",
        "        opt.step()\n",
        "        opt.zero_grad()\n",
        "        lloss.append(closs.item())\n",
        "        #print(closs.item())\n",
        "    loss_train.append(np.mean(lloss))\n",
        "    lloss = []\n",
        "    model2.eval()\n",
        "    lres = []\n",
        "    ytrue = []\n",
        "    with torch.no_grad():\n",
        "        for data,y in dl_valid:\n",
        "            data = data.to(device)\n",
        "            pred = model2(data)\n",
        "            closs = criterion(pred.cpu(),y)\n",
        "            lloss.append(closs.item())\n",
        "            res  = pred.argmax(dim=1).cpu().tolist()\n",
        "            lres += res\n",
        "            ytrue += y\n",
        "    avg_loss_eval = np.mean(lloss)\n",
        "    loss_eval.append(avg_loss_eval)\n",
        "    #wandb.log({\"loss_eval\": avg_loss_eval,\"loss_train\":loss_train[-1]})\n",
        "    if avg_loss_eval < lowest_loss_eval:\n",
        "        lowest_loss_eval = avg_loss_eval \n",
        "        last_best_result = 0\n",
        "        print(\"Best model2 found! saving...\")\n",
        "        actual_state = {'optim':opt.state_dict(),'model2':model2.state_dict(),'epoch':epoch,'loss_train':loss_train,'loss_eval':loss_eval}\n",
        "        torch.save(actual_state,'best_model2.pth')\n",
        "    last_best_result += 1\n",
        "    if last_best_result > patience_time:\n",
        "        stop = True\n",
        "    print(\"epoch %d loss_train %4.3f loss_eval %4.3f last_best %d\"%(epoch,loss_train[-1],loss_eval[-1],last_best_result))\n",
        "    epoch += 1"
      ]
    },
    {
      "cell_type": "code",
      "execution_count": null,
      "metadata": {
        "id": "nT3-QSM-aOTE"
      },
      "outputs": [],
      "source": [
        "recover = torch.load('best_model2.pth')\n",
        "#actual_state = {'optim':opt.state_dict(),'model':model2.state_dict(),'epoch':epoch}"
      ]
    },
    {
      "cell_type": "code",
      "execution_count": null,
      "metadata": {
        "id": "R3GHRWBMxWL-"
      },
      "outputs": [],
      "source": [
        "opt.load_state_dict(recover['optim'])\n",
        "model2.load_state_dict(recover['model2'])\n",
        "loss_train = recover['loss_train']\n",
        "loss_eval = recover['loss_eval']\n",
        "epoch = recover['epoch']"
      ]
    },
    {
      "cell_type": "code",
      "execution_count": null,
      "metadata": {
        "colab": {
          "base_uri": "https://localhost:8080/"
        },
        "id": "2CEpfnFJxfWA",
        "outputId": "310743ea-7da3-4fe5-acac-5b0f3150c370"
      },
      "outputs": [
        {
          "output_type": "execute_result",
          "data": {
            "text/plain": [
              "67"
            ]
          },
          "metadata": {},
          "execution_count": 347
        }
      ],
      "source": [
        "epoch"
      ]
    },
    {
      "cell_type": "code",
      "execution_count": null,
      "metadata": {
        "colab": {
          "base_uri": "https://localhost:8080/",
          "height": 279
        },
        "id": "PoSr5b4jxgE_",
        "outputId": "cfb3f3eb-e7b3-4ce3-91f5-7a287c58b9e6"
      },
      "outputs": [
        {
          "output_type": "display_data",
          "data": {
            "text/plain": [
              "<Figure size 432x288 with 1 Axes>"
            ],
            "image/png": "[encoded data removed]"
          },
          "metadata": {
            "needs_background": "light"
          }
        }
      ],
      "source": [
        "import matplotlib.pyplot as plt\n",
        "\n",
        "\n",
        "fig = plt.figure()\n",
        "plt.plot(loss_train[1:])\n",
        "plt.plot(loss_eval[1:])\n",
        "plt.xlabel('Epochs')\n",
        "plt.show()"
      ]
    },
    {
      "cell_type": "code",
      "execution_count": null,
      "metadata": {
        "id": "ERE4BsgdxkWF"
      },
      "outputs": [],
      "source": [
        "import sklearn.metrics as metrics"
      ]
    },
    {
      "cell_type": "code",
      "execution_count": null,
      "metadata": {
        "colab": {
          "base_uri": "https://localhost:8080/"
        },
        "id": "jD-pTqDyxrKk",
        "outputId": "fd1b07f6-2abc-4d76-dfbf-5d53701217fd"
      },
      "outputs": [
        {
          "output_type": "execute_result",
          "data": {
            "text/plain": [
              "ShuffleNetV2(\n",
              "  (conv1): Sequential(\n",
              "    (0): Conv2d(3, 24, kernel_size=(3, 3), stride=(2, 2), padding=(1, 1), bias=False)\n",
              "    (1): BatchNorm2d(24, eps=1e-05, momentum=0.1, affine=True, track_running_stats=True)\n",
              "    (2): ReLU(inplace=True)\n",
              "  )\n",
              "  (maxpool): MaxPool2d(kernel_size=3, stride=2, padding=1, dilation=1, ceil_mode=False)\n",
              "  (stage2): Sequential(\n",
              "    (0): InvertedResidual(\n",
              "      (branch1): Sequential(\n",
              "        (0): Conv2d(24, 24, kernel_size=(3, 3), stride=(2, 2), padding=(1, 1), groups=24, bias=False)\n",
              "        (1): BatchNorm2d(24, eps=1e-05, momentum=0.1, affine=True, track_running_stats=True)\n",
              "        (2): Conv2d(24, 122, kernel_size=(1, 1), stride=(1, 1), bias=False)\n",
              "        (3): BatchNorm2d(122, eps=1e-05, momentum=0.1, affine=True, track_running_stats=True)\n",
              "        (4): ReLU(inplace=True)\n",
              "      )\n",
              "      (branch2): Sequential(\n",
              "        (0): Conv2d(24, 122, kernel_size=(1, 1), stride=(1, 1), bias=False)\n",
              "        (1): BatchNorm2d(122, eps=1e-05, momentum=0.1, affine=True, track_running_stats=True)\n",
              "        (2): ReLU(inplace=True)\n",
              "        (3): Conv2d(122, 122, kernel_size=(3, 3), stride=(2, 2), padding=(1, 1), groups=122, bias=False)\n",
              "        (4): BatchNorm2d(122, eps=1e-05, momentum=0.1, affine=True, track_running_stats=True)\n",
              "        (5): Conv2d(122, 122, kernel_size=(1, 1), stride=(1, 1), bias=False)\n",
              "        (6): BatchNorm2d(122, eps=1e-05, momentum=0.1, affine=True, track_running_stats=True)\n",
              "        (7): ReLU(inplace=True)\n",
              "      )\n",
              "    )\n",
              "    (1): InvertedResidual(\n",
              "      (branch1): Sequential()\n",
              "      (branch2): Sequential(\n",
              "        (0): Conv2d(122, 122, kernel_size=(1, 1), stride=(1, 1), bias=False)\n",
              "        (1): BatchNorm2d(122, eps=1e-05, momentum=0.1, affine=True, track_running_stats=True)\n",
              "        (2): ReLU(inplace=True)\n",
              "        (3): Conv2d(122, 122, kernel_size=(3, 3), stride=(1, 1), padding=(1, 1), groups=122, bias=False)\n",
              "        (4): BatchNorm2d(122, eps=1e-05, momentum=0.1, affine=True, track_running_stats=True)\n",
              "        (5): Conv2d(122, 122, kernel_size=(1, 1), stride=(1, 1), bias=False)\n",
              "        (6): BatchNorm2d(122, eps=1e-05, momentum=0.1, affine=True, track_running_stats=True)\n",
              "        (7): ReLU(inplace=True)\n",
              "      )\n",
              "    )\n",
              "    (2): InvertedResidual(\n",
              "      (branch1): Sequential()\n",
              "      (branch2): Sequential(\n",
              "        (0): Conv2d(122, 122, kernel_size=(1, 1), stride=(1, 1), bias=False)\n",
              "        (1): BatchNorm2d(122, eps=1e-05, momentum=0.1, affine=True, track_running_stats=True)\n",
              "        (2): ReLU(inplace=True)\n",
              "        (3): Conv2d(122, 122, kernel_size=(3, 3), stride=(1, 1), padding=(1, 1), groups=122, bias=False)\n",
              "        (4): BatchNorm2d(122, eps=1e-05, momentum=0.1, affine=True, track_running_stats=True)\n",
              "        (5): Conv2d(122, 122, kernel_size=(1, 1), stride=(1, 1), bias=False)\n",
              "        (6): BatchNorm2d(122, eps=1e-05, momentum=0.1, affine=True, track_running_stats=True)\n",
              "        (7): ReLU(inplace=True)\n",
              "      )\n",
              "    )\n",
              "    (3): InvertedResidual(\n",
              "      (branch1): Sequential()\n",
              "      (branch2): Sequential(\n",
              "        (0): Conv2d(122, 122, kernel_size=(1, 1), stride=(1, 1), bias=False)\n",
              "        (1): BatchNorm2d(122, eps=1e-05, momentum=0.1, affine=True, track_running_stats=True)\n",
              "        (2): ReLU(inplace=True)\n",
              "        (3): Conv2d(122, 122, kernel_size=(3, 3), stride=(1, 1), padding=(1, 1), groups=122, bias=False)\n",
              "        (4): BatchNorm2d(122, eps=1e-05, momentum=0.1, affine=True, track_running_stats=True)\n",
              "        (5): Conv2d(122, 122, kernel_size=(1, 1), stride=(1, 1), bias=False)\n",
              "        (6): BatchNorm2d(122, eps=1e-05, momentum=0.1, affine=True, track_running_stats=True)\n",
              "        (7): ReLU(inplace=True)\n",
              "      )\n",
              "    )\n",
              "  )\n",
              "  (stage3): Sequential(\n",
              "    (0): InvertedResidual(\n",
              "      (branch1): Sequential(\n",
              "        (0): Conv2d(244, 244, kernel_size=(3, 3), stride=(2, 2), padding=(1, 1), groups=244, bias=False)\n",
              "        (1): BatchNorm2d(244, eps=1e-05, momentum=0.1, affine=True, track_running_stats=True)\n",
              "        (2): Conv2d(244, 244, kernel_size=(1, 1), stride=(1, 1), bias=False)\n",
              "        (3): BatchNorm2d(244, eps=1e-05, momentum=0.1, affine=True, track_running_stats=True)\n",
              "        (4): ReLU(inplace=True)\n",
              "      )\n",
              "      (branch2): Sequential(\n",
              "        (0): Conv2d(244, 244, kernel_size=(1, 1), stride=(1, 1), bias=False)\n",
              "        (1): BatchNorm2d(244, eps=1e-05, momentum=0.1, affine=True, track_running_stats=True)\n",
              "        (2): ReLU(inplace=True)\n",
              "        (3): Conv2d(244, 244, kernel_size=(3, 3), stride=(2, 2), padding=(1, 1), groups=244, bias=False)\n",
              "        (4): BatchNorm2d(244, eps=1e-05, momentum=0.1, affine=True, track_running_stats=True)\n",
              "        (5): Conv2d(244, 244, kernel_size=(1, 1), stride=(1, 1), bias=False)\n",
              "        (6): BatchNorm2d(244, eps=1e-05, momentum=0.1, affine=True, track_running_stats=True)\n",
              "        (7): ReLU(inplace=True)\n",
              "      )\n",
              "    )\n",
              "    (1): InvertedResidual(\n",
              "      (branch1): Sequential()\n",
              "      (branch2): Sequential(\n",
              "        (0): Conv2d(244, 244, kernel_size=(1, 1), stride=(1, 1), bias=False)\n",
              "        (1): BatchNorm2d(244, eps=1e-05, momentum=0.1, affine=True, track_running_stats=True)\n",
              "        (2): ReLU(inplace=True)\n",
              "        (3): Conv2d(244, 244, kernel_size=(3, 3), stride=(1, 1), padding=(1, 1), groups=244, bias=False)\n",
              "        (4): BatchNorm2d(244, eps=1e-05, momentum=0.1, affine=True, track_running_stats=True)\n",
              "        (5): Conv2d(244, 244, kernel_size=(1, 1), stride=(1, 1), bias=False)\n",
              "        (6): BatchNorm2d(244, eps=1e-05, momentum=0.1, affine=True, track_running_stats=True)\n",
              "        (7): ReLU(inplace=True)\n",
              "      )\n",
              "    )\n",
              "    (2): InvertedResidual(\n",
              "      (branch1): Sequential()\n",
              "      (branch2): Sequential(\n",
              "        (0): Conv2d(244, 244, kernel_size=(1, 1), stride=(1, 1), bias=False)\n",
              "        (1): BatchNorm2d(244, eps=1e-05, momentum=0.1, affine=True, track_running_stats=True)\n",
              "        (2): ReLU(inplace=True)\n",
              "        (3): Conv2d(244, 244, kernel_size=(3, 3), stride=(1, 1), padding=(1, 1), groups=244, bias=False)\n",
              "        (4): BatchNorm2d(244, eps=1e-05, momentum=0.1, affine=True, track_running_stats=True)\n",
              "        (5): Conv2d(244, 244, kernel_size=(1, 1), stride=(1, 1), bias=False)\n",
              "        (6): BatchNorm2d(244, eps=1e-05, momentum=0.1, affine=True, track_running_stats=True)\n",
              "        (7): ReLU(inplace=True)\n",
              "      )\n",
              "    )\n",
              "    (3): InvertedResidual(\n",
              "      (branch1): Sequential()\n",
              "      (branch2): Sequential(\n",
              "        (0): Conv2d(244, 244, kernel_size=(1, 1), stride=(1, 1), bias=False)\n",
              "        (1): BatchNorm2d(244, eps=1e-05, momentum=0.1, affine=True, track_running_stats=True)\n",
              "        (2): ReLU(inplace=True)\n",
              "        (3): Conv2d(244, 244, kernel_size=(3, 3), stride=(1, 1), padding=(1, 1), groups=244, bias=False)\n",
              "        (4): BatchNorm2d(244, eps=1e-05, momentum=0.1, affine=True, track_running_stats=True)\n",
              "        (5): Conv2d(244, 244, kernel_size=(1, 1), stride=(1, 1), bias=False)\n",
              "        (6): BatchNorm2d(244, eps=1e-05, momentum=0.1, affine=True, track_running_stats=True)\n",
              "        (7): ReLU(inplace=True)\n",
              "      )\n",
              "    )\n",
              "    (4): InvertedResidual(\n",
              "      (branch1): Sequential()\n",
              "      (branch2): Sequential(\n",
              "        (0): Conv2d(244, 244, kernel_size=(1, 1), stride=(1, 1), bias=False)\n",
              "        (1): BatchNorm2d(244, eps=1e-05, momentum=0.1, affine=True, track_running_stats=True)\n",
              "        (2): ReLU(inplace=True)\n",
              "        (3): Conv2d(244, 244, kernel_size=(3, 3), stride=(1, 1), padding=(1, 1), groups=244, bias=False)\n",
              "        (4): BatchNorm2d(244, eps=1e-05, momentum=0.1, affine=True, track_running_stats=True)\n",
              "        (5): Conv2d(244, 244, kernel_size=(1, 1), stride=(1, 1), bias=False)\n",
              "        (6): BatchNorm2d(244, eps=1e-05, momentum=0.1, affine=True, track_running_stats=True)\n",
              "        (7): ReLU(inplace=True)\n",
              "      )\n",
              "    )\n",
              "    (5): InvertedResidual(\n",
              "      (branch1): Sequential()\n",
              "      (branch2): Sequential(\n",
              "        (0): Conv2d(244, 244, kernel_size=(1, 1), stride=(1, 1), bias=False)\n",
              "        (1): BatchNorm2d(244, eps=1e-05, momentum=0.1, affine=True, track_running_stats=True)\n",
              "        (2): ReLU(inplace=True)\n",
              "        (3): Conv2d(244, 244, kernel_size=(3, 3), stride=(1, 1), padding=(1, 1), groups=244, bias=False)\n",
              "        (4): BatchNorm2d(244, eps=1e-05, momentum=0.1, affine=True, track_running_stats=True)\n",
              "        (5): Conv2d(244, 244, kernel_size=(1, 1), stride=(1, 1), bias=False)\n",
              "        (6): BatchNorm2d(244, eps=1e-05, momentum=0.1, affine=True, track_running_stats=True)\n",
              "        (7): ReLU(inplace=True)\n",
              "      )\n",
              "    )\n",
              "    (6): InvertedResidual(\n",
              "      (branch1): Sequential()\n",
              "      (branch2): Sequential(\n",
              "        (0): Conv2d(244, 244, kernel_size=(1, 1), stride=(1, 1), bias=False)\n",
              "        (1): BatchNorm2d(244, eps=1e-05, momentum=0.1, affine=True, track_running_stats=True)\n",
              "        (2): ReLU(inplace=True)\n",
              "        (3): Conv2d(244, 244, kernel_size=(3, 3), stride=(1, 1), padding=(1, 1), groups=244, bias=False)\n",
              "        (4): BatchNorm2d(244, eps=1e-05, momentum=0.1, affine=True, track_running_stats=True)\n",
              "        (5): Conv2d(244, 244, kernel_size=(1, 1), stride=(1, 1), bias=False)\n",
              "        (6): BatchNorm2d(244, eps=1e-05, momentum=0.1, affine=True, track_running_stats=True)\n",
              "        (7): ReLU(inplace=True)\n",
              "      )\n",
              "    )\n",
              "    (7): InvertedResidual(\n",
              "      (branch1): Sequential()\n",
              "      (branch2): Sequential(\n",
              "        (0): Conv2d(244, 244, kernel_size=(1, 1), stride=(1, 1), bias=False)\n",
              "        (1): BatchNorm2d(244, eps=1e-05, momentum=0.1, affine=True, track_running_stats=True)\n",
              "        (2): ReLU(inplace=True)\n",
              "        (3): Conv2d(244, 244, kernel_size=(3, 3), stride=(1, 1), padding=(1, 1), groups=244, bias=False)\n",
              "        (4): BatchNorm2d(244, eps=1e-05, momentum=0.1, affine=True, track_running_stats=True)\n",
              "        (5): Conv2d(244, 244, kernel_size=(1, 1), stride=(1, 1), bias=False)\n",
              "        (6): BatchNorm2d(244, eps=1e-05, momentum=0.1, affine=True, track_running_stats=True)\n",
              "        (7): ReLU(inplace=True)\n",
              "      )\n",
              "    )\n",
              "  )\n",
              "  (stage4): Sequential(\n",
              "    (0): InvertedResidual(\n",
              "      (branch1): Sequential(\n",
              "        (0): Conv2d(488, 488, kernel_size=(3, 3), stride=(2, 2), padding=(1, 1), groups=488, bias=False)\n",
              "        (1): BatchNorm2d(488, eps=1e-05, momentum=0.1, affine=True, track_running_stats=True)\n",
              "        (2): Conv2d(488, 488, kernel_size=(1, 1), stride=(1, 1), bias=False)\n",
              "        (3): BatchNorm2d(488, eps=1e-05, momentum=0.1, affine=True, track_running_stats=True)\n",
              "        (4): ReLU(inplace=True)\n",
              "      )\n",
              "      (branch2): Sequential(\n",
              "        (0): Conv2d(488, 488, kernel_size=(1, 1), stride=(1, 1), bias=False)\n",
              "        (1): BatchNorm2d(488, eps=1e-05, momentum=0.1, affine=True, track_running_stats=True)\n",
              "        (2): ReLU(inplace=True)\n",
              "        (3): Conv2d(488, 488, kernel_size=(3, 3), stride=(2, 2), padding=(1, 1), groups=488, bias=False)\n",
              "        (4): BatchNorm2d(488, eps=1e-05, momentum=0.1, affine=True, track_running_stats=True)\n",
              "        (5): Conv2d(488, 488, kernel_size=(1, 1), stride=(1, 1), bias=False)\n",
              "        (6): BatchNorm2d(488, eps=1e-05, momentum=0.1, affine=True, track_running_stats=True)\n",
              "        (7): ReLU(inplace=True)\n",
              "      )\n",
              "    )\n",
              "    (1): InvertedResidual(\n",
              "      (branch1): Sequential()\n",
              "      (branch2): Sequential(\n",
              "        (0): Conv2d(488, 488, kernel_size=(1, 1), stride=(1, 1), bias=False)\n",
              "        (1): BatchNorm2d(488, eps=1e-05, momentum=0.1, affine=True, track_running_stats=True)\n",
              "        (2): ReLU(inplace=True)\n",
              "        (3): Conv2d(488, 488, kernel_size=(3, 3), stride=(1, 1), padding=(1, 1), groups=488, bias=False)\n",
              "        (4): BatchNorm2d(488, eps=1e-05, momentum=0.1, affine=True, track_running_stats=True)\n",
              "        (5): Conv2d(488, 488, kernel_size=(1, 1), stride=(1, 1), bias=False)\n",
              "        (6): BatchNorm2d(488, eps=1e-05, momentum=0.1, affine=True, track_running_stats=True)\n",
              "        (7): ReLU(inplace=True)\n",
              "      )\n",
              "    )\n",
              "    (2): InvertedResidual(\n",
              "      (branch1): Sequential()\n",
              "      (branch2): Sequential(\n",
              "        (0): Conv2d(488, 488, kernel_size=(1, 1), stride=(1, 1), bias=False)\n",
              "        (1): BatchNorm2d(488, eps=1e-05, momentum=0.1, affine=True, track_running_stats=True)\n",
              "        (2): ReLU(inplace=True)\n",
              "        (3): Conv2d(488, 488, kernel_size=(3, 3), stride=(1, 1), padding=(1, 1), groups=488, bias=False)\n",
              "        (4): BatchNorm2d(488, eps=1e-05, momentum=0.1, affine=True, track_running_stats=True)\n",
              "        (5): Conv2d(488, 488, kernel_size=(1, 1), stride=(1, 1), bias=False)\n",
              "        (6): BatchNorm2d(488, eps=1e-05, momentum=0.1, affine=True, track_running_stats=True)\n",
              "        (7): ReLU(inplace=True)\n",
              "      )\n",
              "    )\n",
              "    (3): InvertedResidual(\n",
              "      (branch1): Sequential()\n",
              "      (branch2): Sequential(\n",
              "        (0): Conv2d(488, 488, kernel_size=(1, 1), stride=(1, 1), bias=False)\n",
              "        (1): BatchNorm2d(488, eps=1e-05, momentum=0.1, affine=True, track_running_stats=True)\n",
              "        (2): ReLU(inplace=True)\n",
              "        (3): Conv2d(488, 488, kernel_size=(3, 3), stride=(1, 1), padding=(1, 1), groups=488, bias=False)\n",
              "        (4): BatchNorm2d(488, eps=1e-05, momentum=0.1, affine=True, track_running_stats=True)\n",
              "        (5): Conv2d(488, 488, kernel_size=(1, 1), stride=(1, 1), bias=False)\n",
              "        (6): BatchNorm2d(488, eps=1e-05, momentum=0.1, affine=True, track_running_stats=True)\n",
              "        (7): ReLU(inplace=True)\n",
              "      )\n",
              "    )\n",
              "  )\n",
              "  (conv5): Sequential(\n",
              "    (0): Conv2d(976, 2048, kernel_size=(1, 1), stride=(1, 1), bias=False)\n",
              "    (1): BatchNorm2d(2048, eps=1e-05, momentum=0.1, affine=True, track_running_stats=True)\n",
              "    (2): ReLU(inplace=True)\n",
              "  )\n",
              "  (fc): Linear(in_features=2048, out_features=20, bias=True)\n",
              ")"
            ]
          },
          "metadata": {},
          "execution_count": 350
        }
      ],
      "source": [
        "model2.to(device)"
      ]
    },
    {
      "cell_type": "code",
      "execution_count": null,
      "metadata": {
        "id": "MuwxNQPMxs1o"
      },
      "outputs": [],
      "source": [
        "model2.eval()\n",
        "lres = []\n",
        "ytrue = []\n",
        "with torch.no_grad():\n",
        "    for data,target in dl_test:\n",
        "        data = data.to(device)\n",
        "        pred = model2(data)\n",
        "        res  = pred.argmax(dim=1).cpu().tolist()\n",
        "        lres += res\n",
        "        ytrue += target"
      ]
    },
    {
      "cell_type": "code",
      "execution_count": null,
      "metadata": {
        "id": "Uy8g24jjx4C7",
        "colab": {
          "base_uri": "https://localhost:8080/"
        },
        "outputId": "388f6a82-71c7-4101-f317-8617f1b13c41"
      },
      "outputs": [
        {
          "output_type": "execute_result",
          "data": {
            "text/plain": [
              "array([[34,  1,  0,  0,  0,  0,  0,  1,  0,  0,  0,  1,  0,  0,  0,  0,\n",
              "         0,  0,  0,  0],\n",
              "       [ 0, 34,  0,  1,  1,  0,  0,  0,  0,  0,  0,  0,  2,  0,  0,  0,\n",
              "         0,  0,  0,  0],\n",
              "       [ 0,  0, 34,  0,  0,  0,  1,  0,  0,  0,  0,  0,  0,  0,  1,  0,\n",
              "         0,  0,  1,  0],\n",
              "       [ 0,  1,  0, 34,  0,  0,  1,  0,  0,  1,  0,  0,  0,  0,  0,  0,\n",
              "         0,  0,  0,  0],\n",
              "       [ 0,  0,  0,  0, 33,  0,  0,  0,  0,  1,  0,  0,  0,  0,  0,  4,\n",
              "         0,  0,  0,  0],\n",
              "       [ 0,  1,  0,  0,  0, 30,  0,  0,  0,  0,  0,  0,  0,  1,  0,  2,\n",
              "         0,  1,  2,  0],\n",
              "       [ 0,  0,  0,  0,  0,  0, 35,  0,  0,  0,  0,  0,  2,  0,  1,  0,\n",
              "         0,  0,  0,  0],\n",
              "       [ 1,  0,  0,  0,  0,  0,  0, 37,  0,  0,  0,  0,  0,  0,  0,  0,\n",
              "         0,  0,  0,  0],\n",
              "       [ 0,  0,  0,  0,  0,  0,  0,  0, 37,  0,  0,  0,  0,  0,  0,  0,\n",
              "         0,  0,  0,  0],\n",
              "       [ 1,  0,  0,  0,  1,  0,  0,  0,  0, 33,  2,  0,  0,  0,  0,  1,\n",
              "         0,  0,  0,  0],\n",
              "       [ 0,  0,  0,  0,  0,  0,  0,  0,  0,  0, 37,  0,  0,  0,  0,  0,\n",
              "         0,  0,  0,  0],\n",
              "       [ 3,  0,  0,  0,  0,  0,  0,  0,  0,  0,  0, 34,  0,  0,  0,  0,\n",
              "         0,  0,  0,  0],\n",
              "       [ 0,  0,  0,  0,  0,  0,  0,  0,  0,  0,  0,  0, 38,  0,  0,  0,\n",
              "         0,  0,  0,  0],\n",
              "       [ 0,  0,  0,  0,  0,  0,  0,  0,  0,  0,  0,  0,  0, 34,  1,  0,\n",
              "         0,  0,  2,  0],\n",
              "       [ 0,  0,  0,  0,  0,  0,  1,  0,  0,  0,  0,  0,  0,  0, 36,  0,\n",
              "         0,  0,  1,  0],\n",
              "       [ 0,  0,  0,  0,  2,  1,  0,  0,  0,  1,  0,  0,  0,  0,  0, 32,\n",
              "         0,  1,  0,  0],\n",
              "       [ 0,  0,  0,  0,  0,  0,  0,  0,  0,  0,  0,  0,  0,  0,  0,  0,\n",
              "        38,  0,  0,  0],\n",
              "       [ 0,  0,  0,  0,  0,  3,  0,  0,  0,  1,  0,  0,  0,  0,  0,  0,\n",
              "         0, 32,  1,  0],\n",
              "       [ 0,  0,  1,  0,  0,  0,  0,  0,  0,  0,  0,  0,  0,  0,  0,  1,\n",
              "         0,  0, 36,  0],\n",
              "       [ 0,  0,  0,  0,  0,  0,  0,  0,  0,  0,  0,  0,  0,  0,  0,  0,\n",
              "         0,  0,  0, 38]])"
            ]
          },
          "metadata": {},
          "execution_count": 352
        }
      ],
      "source": [
        "metrics.confusion_matrix(ytrue,lres)"
      ]
    },
    {
      "cell_type": "code",
      "execution_count": null,
      "metadata": {
        "id": "EesrUyoxx4aX",
        "colab": {
          "base_uri": "https://localhost:8080/"
        },
        "outputId": "f2b85613-d2b2-439a-eb5e-8baa61051c23"
      },
      "outputs": [
        {
          "output_type": "execute_result",
          "data": {
            "text/plain": [
              "0.928"
            ]
          },
          "metadata": {},
          "execution_count": 353
        }
      ],
      "source": [
        "metrics.accuracy_score(ytrue,lres)"
      ]
    },
    {
      "cell_type": "code",
      "execution_count": null,
      "metadata": {
        "id": "CDjDadt9x4lM",
        "colab": {
          "base_uri": "https://localhost:8080/"
        },
        "outputId": "d280c54e-2401-4a55-c8df-8671a7bca8e6"
      },
      "outputs": [
        {
          "output_type": "execute_result",
          "data": {
            "text/plain": [
              "0.9295673637528632"
            ]
          },
          "metadata": {},
          "execution_count": 354
        }
      ],
      "source": [
        "metrics.precision_score(ytrue,lres,average='weighted')"
      ]
    },
    {
      "cell_type": "code",
      "execution_count": null,
      "metadata": {
        "id": "eGX_JKh-yAr5",
        "colab": {
          "base_uri": "https://localhost:8080/"
        },
        "outputId": "18539ed7-4b2d-418f-c46f-21a54680653e"
      },
      "outputs": [
        {
          "output_type": "execute_result",
          "data": {
            "text/plain": [
              "0.928"
            ]
          },
          "metadata": {},
          "execution_count": 355
        }
      ],
      "source": [
        "metrics.recall_score(ytrue,lres,average='weighted')"
      ]
    },
    {
      "cell_type": "code",
      "execution_count": null,
      "metadata": {
        "id": "3pP8Lc1hyC9B",
        "colab": {
          "base_uri": "https://localhost:8080/"
        },
        "outputId": "edeb8c96-ab0e-452f-8a5a-142d5833b920"
      },
      "outputs": [
        {
          "output_type": "execute_result",
          "data": {
            "text/plain": [
              "0.9280345339091076"
            ]
          },
          "metadata": {},
          "execution_count": 356
        }
      ],
      "source": [
        "metrics.f1_score(ytrue,lres,average='weighted')"
      ]
    },
    {
      "cell_type": "code",
      "execution_count": null,
      "metadata": {
        "id": "qx37B41wyFq0"
      },
      "outputs": [],
      "source": [
        "img = image_loader('./akita/106596984_fff2c7d32e_m.jpg')"
      ]
    },
    {
      "cell_type": "code",
      "execution_count": null,
      "metadata": {
        "id": "iGFaqwuRyHYK"
      },
      "outputs": [],
      "source": [
        "timg = transform(img).view(1,3,224,224).to(device)"
      ]
    },
    {
      "cell_type": "code",
      "execution_count": null,
      "metadata": {
        "id": "EHsf_JUZyJyl",
        "colab": {
          "base_uri": "https://localhost:8080/"
        },
        "outputId": "973583f6-d3fa-4a3b-9840-b1f3df58416b"
      },
      "outputs": [
        {
          "output_type": "execute_result",
          "data": {
            "text/plain": [
              "torch.Size([1, 3, 224, 224])"
            ]
          },
          "metadata": {},
          "execution_count": 359
        }
      ],
      "source": [
        "timg.shape"
      ]
    },
    {
      "cell_type": "code",
      "execution_count": null,
      "metadata": {
        "id": "sfV-gWK1yLfF"
      },
      "outputs": [],
      "source": [
        "pred = model2(timg)"
      ]
    },
    {
      "cell_type": "code",
      "execution_count": null,
      "metadata": {
        "id": "BbzIMAiyyOW5",
        "colab": {
          "base_uri": "https://localhost:8080/"
        },
        "outputId": "90fcf808-89b3-477c-c726-c520799b387e"
      },
      "outputs": [
        {
          "output_type": "execute_result",
          "data": {
            "text/plain": [
              "tensor([[ 8.2428, -1.3891, -3.5701,  0.0894,  2.4019,  0.1772, -2.0206,  0.6691,\n",
              "         -0.6107, -1.2210, -1.2257,  3.0744,  0.2585,  0.7412,  0.9864,  0.8128,\n",
              "         -0.9949, -1.7316, -2.0791, -1.9038]], device='cuda:0',\n",
              "       grad_fn=<AddmmBackward0>)"
            ]
          },
          "metadata": {},
          "execution_count": 361
        }
      ],
      "source": [
        "pred"
      ]
    },
    {
      "cell_type": "markdown",
      "metadata": {
        "id": "gkZNqNif0dxb"
      },
      "source": [
        "# Third Model"
      ]
    },
    {
      "cell_type": "code",
      "source": [
        "opt = optim.SGD(model3.parameters(),lr=0.001)"
      ],
      "metadata": {
        "id": "8UcRYuvTGlxB"
      },
      "execution_count": null,
      "outputs": []
    },
    {
      "cell_type": "code",
      "execution_count": null,
      "metadata": {
        "colab": {
          "base_uri": "https://localhost:8080/"
        },
        "id": "UwRd_ywM0g3D",
        "outputId": "f12f3652-2348-47ec-9603-63f2aa771718"
      },
      "outputs": [
        {
          "name": "stdout",
          "output_type": "stream",
          "text": [
            "Best model3 found! saving...\n",
            "epoch 0 loss_train 2.905 loss_eval 2.777 last_best 1\n",
            "Best model3 found! saving...\n",
            "epoch 1 loss_train 2.664 loss_eval 2.530 last_best 1\n",
            "Best model3 found! saving...\n",
            "epoch 2 loss_train 2.399 loss_eval 2.255 last_best 1\n",
            "Best model3 found! saving...\n",
            "epoch 3 loss_train 2.089 loss_eval 1.945 last_best 1\n",
            "Best model3 found! saving...\n",
            "epoch 4 loss_train 1.784 loss_eval 1.639 last_best 1\n",
            "Best model3 found! saving...\n",
            "epoch 5 loss_train 1.488 loss_eval 1.366 last_best 1\n",
            "Best model3 found! saving...\n",
            "epoch 6 loss_train 1.255 loss_eval 1.148 last_best 1\n",
            "Best model3 found! saving...\n",
            "epoch 7 loss_train 1.058 loss_eval 0.976 last_best 1\n",
            "Best model3 found! saving...\n",
            "epoch 8 loss_train 0.922 loss_eval 0.847 last_best 1\n",
            "Best model3 found! saving...\n",
            "epoch 9 loss_train 0.825 loss_eval 0.744 last_best 1\n",
            "Best model3 found! saving...\n",
            "epoch 10 loss_train 0.740 loss_eval 0.662 last_best 1\n",
            "Best model3 found! saving...\n",
            "epoch 11 loss_train 0.660 loss_eval 0.597 last_best 1\n",
            "Best model3 found! saving...\n",
            "epoch 12 loss_train 0.612 loss_eval 0.539 last_best 1\n",
            "Best model3 found! saving...\n",
            "epoch 13 loss_train 0.553 loss_eval 0.489 last_best 1\n",
            "Best model3 found! saving...\n",
            "epoch 14 loss_train 0.512 loss_eval 0.448 last_best 1\n",
            "Best model3 found! saving...\n",
            "epoch 15 loss_train 0.476 loss_eval 0.413 last_best 1\n",
            "Best model3 found! saving...\n",
            "epoch 16 loss_train 0.454 loss_eval 0.381 last_best 1\n",
            "Best model3 found! saving...\n",
            "epoch 17 loss_train 0.424 loss_eval 0.352 last_best 1\n",
            "Best model3 found! saving...\n",
            "epoch 18 loss_train 0.393 loss_eval 0.328 last_best 1\n",
            "Best model3 found! saving...\n",
            "epoch 19 loss_train 0.363 loss_eval 0.308 last_best 1\n",
            "Best model3 found! saving...\n",
            "epoch 20 loss_train 0.340 loss_eval 0.291 last_best 1\n",
            "Best model3 found! saving...\n",
            "epoch 21 loss_train 0.334 loss_eval 0.275 last_best 1\n",
            "Best model3 found! saving...\n",
            "epoch 22 loss_train 0.321 loss_eval 0.261 last_best 1\n",
            "Best model3 found! saving...\n",
            "epoch 23 loss_train 0.316 loss_eval 0.250 last_best 1\n",
            "Best model3 found! saving...\n",
            "epoch 24 loss_train 0.303 loss_eval 0.242 last_best 1\n",
            "Best model3 found! saving...\n",
            "epoch 25 loss_train 0.279 loss_eval 0.232 last_best 1\n",
            "Best model3 found! saving...\n",
            "epoch 26 loss_train 0.274 loss_eval 0.224 last_best 1\n",
            "Best model3 found! saving...\n",
            "epoch 27 loss_train 0.253 loss_eval 0.217 last_best 1\n",
            "Best model3 found! saving...\n",
            "epoch 28 loss_train 0.244 loss_eval 0.212 last_best 1\n",
            "epoch 29 loss_train 0.240 loss_eval 0.213 last_best 2\n",
            "epoch 30 loss_train 0.218 loss_eval 0.219 last_best 3\n",
            "Best model3 found! saving...\n",
            "epoch 31 loss_train 0.210 loss_eval 0.209 last_best 1\n",
            "Best model3 found! saving...\n",
            "epoch 32 loss_train 0.201 loss_eval 0.209 last_best 1\n",
            "Best model3 found! saving...\n",
            "epoch 33 loss_train 0.197 loss_eval 0.195 last_best 1\n",
            "epoch 34 loss_train 0.187 loss_eval 0.202 last_best 2\n",
            "epoch 35 loss_train 0.193 loss_eval 0.225 last_best 3\n",
            "epoch 36 loss_train 0.177 loss_eval 0.210 last_best 4\n",
            "epoch 37 loss_train 0.174 loss_eval 0.197 last_best 5\n",
            "Best model3 found! saving...\n",
            "epoch 38 loss_train 0.159 loss_eval 0.192 last_best 1\n",
            "epoch 39 loss_train 0.163 loss_eval 0.199 last_best 2\n",
            "epoch 40 loss_train 0.153 loss_eval 0.198 last_best 3\n",
            "epoch 41 loss_train 0.148 loss_eval 0.203 last_best 4\n",
            "epoch 42 loss_train 0.141 loss_eval 0.206 last_best 5\n",
            "epoch 43 loss_train 0.141 loss_eval 0.231 last_best 6\n",
            "epoch 44 loss_train 0.140 loss_eval 0.252 last_best 7\n",
            "epoch 45 loss_train 0.126 loss_eval 0.222 last_best 8\n",
            "epoch 46 loss_train 0.119 loss_eval 0.216 last_best 9\n",
            "epoch 47 loss_train 0.128 loss_eval 0.214 last_best 10\n",
            "epoch 48 loss_train 0.118 loss_eval 0.203 last_best 11\n",
            "epoch 49 loss_train 0.120 loss_eval 0.201 last_best 12\n",
            "Best model3 found! saving...\n",
            "epoch 50 loss_train 0.110 loss_eval 0.182 last_best 1\n",
            "Best model3 found! saving...\n",
            "epoch 51 loss_train 0.106 loss_eval 0.180 last_best 1\n",
            "Best model3 found! saving...\n",
            "epoch 52 loss_train 0.104 loss_eval 0.165 last_best 1\n",
            "epoch 53 loss_train 0.100 loss_eval 0.188 last_best 2\n",
            "epoch 54 loss_train 0.099 loss_eval 0.179 last_best 3\n",
            "epoch 55 loss_train 0.099 loss_eval 0.185 last_best 4\n",
            "epoch 56 loss_train 0.097 loss_eval 0.192 last_best 5\n",
            "epoch 57 loss_train 0.094 loss_eval 0.190 last_best 6\n",
            "epoch 58 loss_train 0.088 loss_eval 0.195 last_best 7\n",
            "epoch 59 loss_train 0.089 loss_eval 0.205 last_best 8\n",
            "epoch 60 loss_train 0.081 loss_eval 0.184 last_best 9\n",
            "epoch 61 loss_train 0.088 loss_eval 0.178 last_best 10\n",
            "epoch 62 loss_train 0.084 loss_eval 0.179 last_best 11\n",
            "epoch 63 loss_train 0.086 loss_eval 0.203 last_best 12\n",
            "epoch 64 loss_train 0.067 loss_eval 0.209 last_best 13\n",
            "epoch 65 loss_train 0.078 loss_eval 0.206 last_best 14\n",
            "epoch 66 loss_train 0.074 loss_eval 0.203 last_best 15\n",
            "epoch 67 loss_train 0.078 loss_eval 0.224 last_best 16\n"
          ]
        }
      ],
      "source": [
        "epochs = 100\n",
        "\n",
        "stop = False\n",
        "epoch = 0\n",
        "lowest_loss_eval = 10000\n",
        "last_best_result = 0\n",
        "while (not stop):\n",
        "    #wandb.watch(model3)\n",
        "    model3.train()\n",
        "    lloss = []\n",
        "    for x,y in dl_train:\n",
        "        x = x.to(device)\n",
        "        y = y.to(device)\n",
        "        pred = model3(x)\n",
        "        closs = criterion(pred,y)\n",
        "        closs.backward()\n",
        "        opt.step()\n",
        "        opt.zero_grad()\n",
        "        lloss.append(closs.item())\n",
        "        #print(closs.item())\n",
        "    loss_train.append(np.mean(lloss))\n",
        "    lloss = []\n",
        "    model3.eval()\n",
        "    lres = []\n",
        "    ytrue = []\n",
        "    with torch.no_grad():\n",
        "        for data,y in dl_valid:\n",
        "            data = data.to(device)\n",
        "\n",
        "            pred = model3(data)\n",
        "            closs = criterion(pred.cpu(),y)\n",
        "            lloss.append(closs.item())\n",
        "            res  = pred.argmax(dim=1).cpu().tolist()\n",
        "            lres += res\n",
        "            ytrue += y\n",
        "    avg_loss_eval = np.mean(lloss)\n",
        "    loss_eval.append(avg_loss_eval)\n",
        "    #wandb.log({\"loss_eval\": avg_loss_eval,\"loss_train\":loss_train[-1]})\n",
        "    if avg_loss_eval < lowest_loss_eval:\n",
        "        lowest_loss_eval = avg_loss_eval \n",
        "        last_best_result = 0\n",
        "        print(\"Best model3 found! saving...\")\n",
        "        actual_state = {'optim':opt.state_dict(),'model3':model3.state_dict(),'epoch':epoch,'loss_train':loss_train,'loss_eval':loss_eval}\n",
        "        torch.save(actual_state,'best_model3.pth')\n",
        "    last_best_result += 1\n",
        "    if last_best_result > patience_time:\n",
        "        stop = True\n",
        "    print(\"epoch %d loss_train %4.3f loss_eval %4.3f last_best %d\"%(epoch,loss_train[-1],loss_eval[-1],last_best_result))\n",
        "    epoch += 1"
      ]
    },
    {
      "cell_type": "code",
      "execution_count": null,
      "metadata": {
        "id": "AChV2SN30qth"
      },
      "outputs": [],
      "source": [
        "recover = torch.load('best_model3.pth')\n",
        "#actual_state = {'optim':opt.state_dict(),'mode3':model3.state_dict(),'epoch':epoch}"
      ]
    },
    {
      "cell_type": "code",
      "execution_count": null,
      "metadata": {
        "id": "X05b6hLW0skU"
      },
      "outputs": [],
      "source": [
        "opt.load_state_dict(recover['optim'])\n",
        "model3.load_state_dict(recover['model3'])\n",
        "loss_train = recover['loss_train']\n",
        "loss_eval = recover['loss_eval']\n",
        "epoch = recover['epoch']"
      ]
    },
    {
      "cell_type": "code",
      "execution_count": null,
      "metadata": {
        "colab": {
          "base_uri": "https://localhost:8080/"
        },
        "id": "XsqTSbJ_0upZ",
        "outputId": "b283c05b-e72f-443d-d979-625c5e74945c"
      },
      "outputs": [
        {
          "data": {
            "text/plain": [
              "52"
            ]
          },
          "execution_count": 81,
          "metadata": {},
          "output_type": "execute_result"
        }
      ],
      "source": [
        "epoch"
      ]
    },
    {
      "cell_type": "code",
      "execution_count": null,
      "metadata": {
        "colab": {
          "base_uri": "https://localhost:8080/",
          "height": 279
        },
        "id": "57Ge4nIa0vhf",
        "outputId": "edb02fad-8ff8-4f2a-b35d-3187f1b8d18f"
      },
      "outputs": [
        {
          "data": {
            "image/png": "[encoded data removed]",
            "text/plain": [
              "<Figure size 432x288 with 1 Axes>"
            ]
          },
          "metadata": {},
          "output_type": "display_data"
        }
      ],
      "source": [
        "import matplotlib.pyplot as plt\n",
        "\n",
        "\n",
        "fig = plt.figure()\n",
        "plt.plot(loss_train[1:])\n",
        "plt.plot(loss_eval[1:])\n",
        "plt.xlabel('Epochs')\n",
        "plt.show()"
      ]
    },
    {
      "cell_type": "code",
      "execution_count": null,
      "metadata": {
        "id": "WTylK-lY0w-H"
      },
      "outputs": [],
      "source": [
        "import sklearn.metrics as metrics"
      ]
    },
    {
      "cell_type": "code",
      "execution_count": null,
      "metadata": {
        "colab": {
          "base_uri": "https://localhost:8080/"
        },
        "id": "gAUVRWlZ0ysL",
        "outputId": "b1881c31-2cf6-48ab-abad-f723374b4542"
      },
      "outputs": [
        {
          "data": {
            "text/plain": [
              "MNASNet(\n",
              "  (layers): Sequential(\n",
              "    (0): Conv2d(3, 40, kernel_size=(3, 3), stride=(2, 2), padding=(1, 1), bias=False)\n",
              "    (1): BatchNorm2d(40, eps=1e-05, momentum=0.00029999999999996696, affine=True, track_running_stats=True)\n",
              "    (2): ReLU(inplace=True)\n",
              "    (3): Conv2d(40, 40, kernel_size=(3, 3), stride=(1, 1), padding=(1, 1), groups=40, bias=False)\n",
              "    (4): BatchNorm2d(40, eps=1e-05, momentum=0.00029999999999996696, affine=True, track_running_stats=True)\n",
              "    (5): ReLU(inplace=True)\n",
              "    (6): Conv2d(40, 24, kernel_size=(1, 1), stride=(1, 1), bias=False)\n",
              "    (7): BatchNorm2d(24, eps=1e-05, momentum=0.00029999999999996696, affine=True, track_running_stats=True)\n",
              "    (8): Sequential(\n",
              "      (0): _InvertedResidual(\n",
              "        (layers): Sequential(\n",
              "          (0): Conv2d(24, 72, kernel_size=(1, 1), stride=(1, 1), bias=False)\n",
              "          (1): BatchNorm2d(72, eps=1e-05, momentum=0.00029999999999996696, affine=True, track_running_stats=True)\n",
              "          (2): ReLU(inplace=True)\n",
              "          (3): Conv2d(72, 72, kernel_size=(3, 3), stride=(2, 2), padding=(1, 1), groups=72, bias=False)\n",
              "          (4): BatchNorm2d(72, eps=1e-05, momentum=0.00029999999999996696, affine=True, track_running_stats=True)\n",
              "          (5): ReLU(inplace=True)\n",
              "          (6): Conv2d(72, 32, kernel_size=(1, 1), stride=(1, 1), bias=False)\n",
              "          (7): BatchNorm2d(32, eps=1e-05, momentum=0.00029999999999996696, affine=True, track_running_stats=True)\n",
              "        )\n",
              "      )\n",
              "      (1): _InvertedResidual(\n",
              "        (layers): Sequential(\n",
              "          (0): Conv2d(32, 96, kernel_size=(1, 1), stride=(1, 1), bias=False)\n",
              "          (1): BatchNorm2d(96, eps=1e-05, momentum=0.00029999999999996696, affine=True, track_running_stats=True)\n",
              "          (2): ReLU(inplace=True)\n",
              "          (3): Conv2d(96, 96, kernel_size=(3, 3), stride=(1, 1), padding=(1, 1), groups=96, bias=False)\n",
              "          (4): BatchNorm2d(96, eps=1e-05, momentum=0.00029999999999996696, affine=True, track_running_stats=True)\n",
              "          (5): ReLU(inplace=True)\n",
              "          (6): Conv2d(96, 32, kernel_size=(1, 1), stride=(1, 1), bias=False)\n",
              "          (7): BatchNorm2d(32, eps=1e-05, momentum=0.00029999999999996696, affine=True, track_running_stats=True)\n",
              "        )\n",
              "      )\n",
              "      (2): _InvertedResidual(\n",
              "        (layers): Sequential(\n",
              "          (0): Conv2d(32, 96, kernel_size=(1, 1), stride=(1, 1), bias=False)\n",
              "          (1): BatchNorm2d(96, eps=1e-05, momentum=0.00029999999999996696, affine=True, track_running_stats=True)\n",
              "          (2): ReLU(inplace=True)\n",
              "          (3): Conv2d(96, 96, kernel_size=(3, 3), stride=(1, 1), padding=(1, 1), groups=96, bias=False)\n",
              "          (4): BatchNorm2d(96, eps=1e-05, momentum=0.00029999999999996696, affine=True, track_running_stats=True)\n",
              "          (5): ReLU(inplace=True)\n",
              "          (6): Conv2d(96, 32, kernel_size=(1, 1), stride=(1, 1), bias=False)\n",
              "          (7): BatchNorm2d(32, eps=1e-05, momentum=0.00029999999999996696, affine=True, track_running_stats=True)\n",
              "        )\n",
              "      )\n",
              "    )\n",
              "    (9): Sequential(\n",
              "      (0): _InvertedResidual(\n",
              "        (layers): Sequential(\n",
              "          (0): Conv2d(32, 96, kernel_size=(1, 1), stride=(1, 1), bias=False)\n",
              "          (1): BatchNorm2d(96, eps=1e-05, momentum=0.00029999999999996696, affine=True, track_running_stats=True)\n",
              "          (2): ReLU(inplace=True)\n",
              "          (3): Conv2d(96, 96, kernel_size=(5, 5), stride=(2, 2), padding=(2, 2), groups=96, bias=False)\n",
              "          (4): BatchNorm2d(96, eps=1e-05, momentum=0.00029999999999996696, affine=True, track_running_stats=True)\n",
              "          (5): ReLU(inplace=True)\n",
              "          (6): Conv2d(96, 56, kernel_size=(1, 1), stride=(1, 1), bias=False)\n",
              "          (7): BatchNorm2d(56, eps=1e-05, momentum=0.00029999999999996696, affine=True, track_running_stats=True)\n",
              "        )\n",
              "      )\n",
              "      (1): _InvertedResidual(\n",
              "        (layers): Sequential(\n",
              "          (0): Conv2d(56, 168, kernel_size=(1, 1), stride=(1, 1), bias=False)\n",
              "          (1): BatchNorm2d(168, eps=1e-05, momentum=0.00029999999999996696, affine=True, track_running_stats=True)\n",
              "          (2): ReLU(inplace=True)\n",
              "          (3): Conv2d(168, 168, kernel_size=(5, 5), stride=(1, 1), padding=(2, 2), groups=168, bias=False)\n",
              "          (4): BatchNorm2d(168, eps=1e-05, momentum=0.00029999999999996696, affine=True, track_running_stats=True)\n",
              "          (5): ReLU(inplace=True)\n",
              "          (6): Conv2d(168, 56, kernel_size=(1, 1), stride=(1, 1), bias=False)\n",
              "          (7): BatchNorm2d(56, eps=1e-05, momentum=0.00029999999999996696, affine=True, track_running_stats=True)\n",
              "        )\n",
              "      )\n",
              "      (2): _InvertedResidual(\n",
              "        (layers): Sequential(\n",
              "          (0): Conv2d(56, 168, kernel_size=(1, 1), stride=(1, 1), bias=False)\n",
              "          (1): BatchNorm2d(168, eps=1e-05, momentum=0.00029999999999996696, affine=True, track_running_stats=True)\n",
              "          (2): ReLU(inplace=True)\n",
              "          (3): Conv2d(168, 168, kernel_size=(5, 5), stride=(1, 1), padding=(2, 2), groups=168, bias=False)\n",
              "          (4): BatchNorm2d(168, eps=1e-05, momentum=0.00029999999999996696, affine=True, track_running_stats=True)\n",
              "          (5): ReLU(inplace=True)\n",
              "          (6): Conv2d(168, 56, kernel_size=(1, 1), stride=(1, 1), bias=False)\n",
              "          (7): BatchNorm2d(56, eps=1e-05, momentum=0.00029999999999996696, affine=True, track_running_stats=True)\n",
              "        )\n",
              "      )\n",
              "    )\n",
              "    (10): Sequential(\n",
              "      (0): _InvertedResidual(\n",
              "        (layers): Sequential(\n",
              "          (0): Conv2d(56, 336, kernel_size=(1, 1), stride=(1, 1), bias=False)\n",
              "          (1): BatchNorm2d(336, eps=1e-05, momentum=0.00029999999999996696, affine=True, track_running_stats=True)\n",
              "          (2): ReLU(inplace=True)\n",
              "          (3): Conv2d(336, 336, kernel_size=(5, 5), stride=(2, 2), padding=(2, 2), groups=336, bias=False)\n",
              "          (4): BatchNorm2d(336, eps=1e-05, momentum=0.00029999999999996696, affine=True, track_running_stats=True)\n",
              "          (5): ReLU(inplace=True)\n",
              "          (6): Conv2d(336, 104, kernel_size=(1, 1), stride=(1, 1), bias=False)\n",
              "          (7): BatchNorm2d(104, eps=1e-05, momentum=0.00029999999999996696, affine=True, track_running_stats=True)\n",
              "        )\n",
              "      )\n",
              "      (1): _InvertedResidual(\n",
              "        (layers): Sequential(\n",
              "          (0): Conv2d(104, 624, kernel_size=(1, 1), stride=(1, 1), bias=False)\n",
              "          (1): BatchNorm2d(624, eps=1e-05, momentum=0.00029999999999996696, affine=True, track_running_stats=True)\n",
              "          (2): ReLU(inplace=True)\n",
              "          (3): Conv2d(624, 624, kernel_size=(5, 5), stride=(1, 1), padding=(2, 2), groups=624, bias=False)\n",
              "          (4): BatchNorm2d(624, eps=1e-05, momentum=0.00029999999999996696, affine=True, track_running_stats=True)\n",
              "          (5): ReLU(inplace=True)\n",
              "          (6): Conv2d(624, 104, kernel_size=(1, 1), stride=(1, 1), bias=False)\n",
              "          (7): BatchNorm2d(104, eps=1e-05, momentum=0.00029999999999996696, affine=True, track_running_stats=True)\n",
              "        )\n",
              "      )\n",
              "      (2): _InvertedResidual(\n",
              "        (layers): Sequential(\n",
              "          (0): Conv2d(104, 624, kernel_size=(1, 1), stride=(1, 1), bias=False)\n",
              "          (1): BatchNorm2d(624, eps=1e-05, momentum=0.00029999999999996696, affine=True, track_running_stats=True)\n",
              "          (2): ReLU(inplace=True)\n",
              "          (3): Conv2d(624, 624, kernel_size=(5, 5), stride=(1, 1), padding=(2, 2), groups=624, bias=False)\n",
              "          (4): BatchNorm2d(624, eps=1e-05, momentum=0.00029999999999996696, affine=True, track_running_stats=True)\n",
              "          (5): ReLU(inplace=True)\n",
              "          (6): Conv2d(624, 104, kernel_size=(1, 1), stride=(1, 1), bias=False)\n",
              "          (7): BatchNorm2d(104, eps=1e-05, momentum=0.00029999999999996696, affine=True, track_running_stats=True)\n",
              "        )\n",
              "      )\n",
              "    )\n",
              "    (11): Sequential(\n",
              "      (0): _InvertedResidual(\n",
              "        (layers): Sequential(\n",
              "          (0): Conv2d(104, 624, kernel_size=(1, 1), stride=(1, 1), bias=False)\n",
              "          (1): BatchNorm2d(624, eps=1e-05, momentum=0.00029999999999996696, affine=True, track_running_stats=True)\n",
              "          (2): ReLU(inplace=True)\n",
              "          (3): Conv2d(624, 624, kernel_size=(3, 3), stride=(1, 1), padding=(1, 1), groups=624, bias=False)\n",
              "          (4): BatchNorm2d(624, eps=1e-05, momentum=0.00029999999999996696, affine=True, track_running_stats=True)\n",
              "          (5): ReLU(inplace=True)\n",
              "          (6): Conv2d(624, 128, kernel_size=(1, 1), stride=(1, 1), bias=False)\n",
              "          (7): BatchNorm2d(128, eps=1e-05, momentum=0.00029999999999996696, affine=True, track_running_stats=True)\n",
              "        )\n",
              "      )\n",
              "      (1): _InvertedResidual(\n",
              "        (layers): Sequential(\n",
              "          (0): Conv2d(128, 768, kernel_size=(1, 1), stride=(1, 1), bias=False)\n",
              "          (1): BatchNorm2d(768, eps=1e-05, momentum=0.00029999999999996696, affine=True, track_running_stats=True)\n",
              "          (2): ReLU(inplace=True)\n",
              "          (3): Conv2d(768, 768, kernel_size=(3, 3), stride=(1, 1), padding=(1, 1), groups=768, bias=False)\n",
              "          (4): BatchNorm2d(768, eps=1e-05, momentum=0.00029999999999996696, affine=True, track_running_stats=True)\n",
              "          (5): ReLU(inplace=True)\n",
              "          (6): Conv2d(768, 128, kernel_size=(1, 1), stride=(1, 1), bias=False)\n",
              "          (7): BatchNorm2d(128, eps=1e-05, momentum=0.00029999999999996696, affine=True, track_running_stats=True)\n",
              "        )\n",
              "      )\n",
              "    )\n",
              "    (12): Sequential(\n",
              "      (0): _InvertedResidual(\n",
              "        (layers): Sequential(\n",
              "          (0): Conv2d(128, 768, kernel_size=(1, 1), stride=(1, 1), bias=False)\n",
              "          (1): BatchNorm2d(768, eps=1e-05, momentum=0.00029999999999996696, affine=True, track_running_stats=True)\n",
              "          (2): ReLU(inplace=True)\n",
              "          (3): Conv2d(768, 768, kernel_size=(5, 5), stride=(2, 2), padding=(2, 2), groups=768, bias=False)\n",
              "          (4): BatchNorm2d(768, eps=1e-05, momentum=0.00029999999999996696, affine=True, track_running_stats=True)\n",
              "          (5): ReLU(inplace=True)\n",
              "          (6): Conv2d(768, 248, kernel_size=(1, 1), stride=(1, 1), bias=False)\n",
              "          (7): BatchNorm2d(248, eps=1e-05, momentum=0.00029999999999996696, affine=True, track_running_stats=True)\n",
              "        )\n",
              "      )\n",
              "      (1): _InvertedResidual(\n",
              "        (layers): Sequential(\n",
              "          (0): Conv2d(248, 1488, kernel_size=(1, 1), stride=(1, 1), bias=False)\n",
              "          (1): BatchNorm2d(1488, eps=1e-05, momentum=0.00029999999999996696, affine=True, track_running_stats=True)\n",
              "          (2): ReLU(inplace=True)\n",
              "          (3): Conv2d(1488, 1488, kernel_size=(5, 5), stride=(1, 1), padding=(2, 2), groups=1488, bias=False)\n",
              "          (4): BatchNorm2d(1488, eps=1e-05, momentum=0.00029999999999996696, affine=True, track_running_stats=True)\n",
              "          (5): ReLU(inplace=True)\n",
              "          (6): Conv2d(1488, 248, kernel_size=(1, 1), stride=(1, 1), bias=False)\n",
              "          (7): BatchNorm2d(248, eps=1e-05, momentum=0.00029999999999996696, affine=True, track_running_stats=True)\n",
              "        )\n",
              "      )\n",
              "      (2): _InvertedResidual(\n",
              "        (layers): Sequential(\n",
              "          (0): Conv2d(248, 1488, kernel_size=(1, 1), stride=(1, 1), bias=False)\n",
              "          (1): BatchNorm2d(1488, eps=1e-05, momentum=0.00029999999999996696, affine=True, track_running_stats=True)\n",
              "          (2): ReLU(inplace=True)\n",
              "          (3): Conv2d(1488, 1488, kernel_size=(5, 5), stride=(1, 1), padding=(2, 2), groups=1488, bias=False)\n",
              "          (4): BatchNorm2d(1488, eps=1e-05, momentum=0.00029999999999996696, affine=True, track_running_stats=True)\n",
              "          (5): ReLU(inplace=True)\n",
              "          (6): Conv2d(1488, 248, kernel_size=(1, 1), stride=(1, 1), bias=False)\n",
              "          (7): BatchNorm2d(248, eps=1e-05, momentum=0.00029999999999996696, affine=True, track_running_stats=True)\n",
              "        )\n",
              "      )\n",
              "      (3): _InvertedResidual(\n",
              "        (layers): Sequential(\n",
              "          (0): Conv2d(248, 1488, kernel_size=(1, 1), stride=(1, 1), bias=False)\n",
              "          (1): BatchNorm2d(1488, eps=1e-05, momentum=0.00029999999999996696, affine=True, track_running_stats=True)\n",
              "          (2): ReLU(inplace=True)\n",
              "          (3): Conv2d(1488, 1488, kernel_size=(5, 5), stride=(1, 1), padding=(2, 2), groups=1488, bias=False)\n",
              "          (4): BatchNorm2d(1488, eps=1e-05, momentum=0.00029999999999996696, affine=True, track_running_stats=True)\n",
              "          (5): ReLU(inplace=True)\n",
              "          (6): Conv2d(1488, 248, kernel_size=(1, 1), stride=(1, 1), bias=False)\n",
              "          (7): BatchNorm2d(248, eps=1e-05, momentum=0.00029999999999996696, affine=True, track_running_stats=True)\n",
              "        )\n",
              "      )\n",
              "    )\n",
              "    (13): Sequential(\n",
              "      (0): _InvertedResidual(\n",
              "        (layers): Sequential(\n",
              "          (0): Conv2d(248, 1488, kernel_size=(1, 1), stride=(1, 1), bias=False)\n",
              "          (1): BatchNorm2d(1488, eps=1e-05, momentum=0.00029999999999996696, affine=True, track_running_stats=True)\n",
              "          (2): ReLU(inplace=True)\n",
              "          (3): Conv2d(1488, 1488, kernel_size=(3, 3), stride=(1, 1), padding=(1, 1), groups=1488, bias=False)\n",
              "          (4): BatchNorm2d(1488, eps=1e-05, momentum=0.00029999999999996696, affine=True, track_running_stats=True)\n",
              "          (5): ReLU(inplace=True)\n",
              "          (6): Conv2d(1488, 416, kernel_size=(1, 1), stride=(1, 1), bias=False)\n",
              "          (7): BatchNorm2d(416, eps=1e-05, momentum=0.00029999999999996696, affine=True, track_running_stats=True)\n",
              "        )\n",
              "      )\n",
              "    )\n",
              "    (14): Conv2d(416, 1280, kernel_size=(1, 1), stride=(1, 1), bias=False)\n",
              "    (15): BatchNorm2d(1280, eps=1e-05, momentum=0.00029999999999996696, affine=True, track_running_stats=True)\n",
              "    (16): ReLU(inplace=True)\n",
              "  )\n",
              "  (classifier): Sequential(\n",
              "    (0): Dropout(p=0.2, inplace=True)\n",
              "    (1): Linear(in_features=1280, out_features=20, bias=True)\n",
              "  )\n",
              ")"
            ]
          },
          "execution_count": 84,
          "metadata": {},
          "output_type": "execute_result"
        }
      ],
      "source": [
        "model3.to(device)"
      ]
    },
    {
      "cell_type": "code",
      "execution_count": null,
      "metadata": {
        "id": "k720ucBO00dq"
      },
      "outputs": [],
      "source": [
        "model3.eval()\n",
        "lres = []\n",
        "ytrue = []\n",
        "with torch.no_grad():\n",
        "    for data,target in dl_test:\n",
        "        data = data.to(device)\n",
        "        pred = model3(data)\n",
        "        res  = pred.argmax(dim=1).cpu().tolist()\n",
        "        lres += res\n",
        "        ytrue += target"
      ]
    },
    {
      "cell_type": "code",
      "execution_count": null,
      "metadata": {
        "colab": {
          "base_uri": "https://localhost:8080/"
        },
        "id": "qHxU6vhk01tM",
        "outputId": "15e25f10-e203-404d-ec08-4b399819e0a0"
      },
      "outputs": [
        {
          "data": {
            "text/plain": [
              "array([[32,  1,  0,  1,  0,  0,  0,  1,  0,  0,  0,  0,  0,  2,  0,  0,\n",
              "         0,  0,  0,  0],\n",
              "       [ 0, 34,  0,  0,  1,  0,  0,  0,  0,  1,  0,  0,  0,  1,  0,  0,\n",
              "         0,  0,  0,  0],\n",
              "       [ 0,  0, 33,  0,  0,  0,  1,  0,  0,  0,  1,  0,  0,  0,  1,  1,\n",
              "         0,  0,  1,  0],\n",
              "       [ 0,  0,  0, 37,  0,  0,  0,  0,  0,  0,  0,  0,  0,  0,  0,  0,\n",
              "         0,  0,  0,  0],\n",
              "       [ 0,  0,  0,  0, 38,  0,  0,  0,  0,  0,  0,  0,  0,  0,  0,  0,\n",
              "         0,  0,  0,  0],\n",
              "       [ 0,  0,  0,  0,  1, 32,  0,  0,  0,  0,  0,  0,  0,  1,  0,  0,\n",
              "         0,  2,  2,  0],\n",
              "       [ 0,  0,  0,  0,  0,  0, 35,  0,  0,  0,  0,  0,  0,  1,  1,  0,\n",
              "         0,  0,  0,  0],\n",
              "       [ 1,  0,  0,  0,  0,  0,  0, 36,  0,  0,  0,  0,  0,  0,  0,  0,\n",
              "         0,  0,  0,  0],\n",
              "       [ 0,  1,  0,  0,  0,  0,  0,  0, 35,  0,  0,  0,  0,  0,  0,  2,\n",
              "         0,  0,  0,  0],\n",
              "       [ 0,  0,  0,  0,  1,  0,  0,  0,  0, 35,  1,  0,  0,  0,  0,  1,\n",
              "         0,  0,  0,  0],\n",
              "       [ 0,  0,  0,  0,  0,  0,  0,  0,  0,  0, 38,  0,  0,  0,  0,  0,\n",
              "         0,  0,  0,  0],\n",
              "       [ 0,  0,  0,  0,  0,  0,  0,  0,  0,  1,  0, 37,  0,  0,  0,  0,\n",
              "         0,  0,  0,  0],\n",
              "       [ 0,  1,  0,  0,  0,  0,  0,  0,  0,  0,  0,  0, 35,  0,  0,  1,\n",
              "         0,  0,  0,  0],\n",
              "       [ 1,  0,  1,  0,  0,  0,  0,  0,  0,  0,  0,  0,  1, 33,  1,  0,\n",
              "         0,  0,  0,  0],\n",
              "       [ 1,  0,  0,  0,  0,  0,  2,  0,  0,  0,  0,  0,  0,  0, 34,  0,\n",
              "         0,  0,  0,  0],\n",
              "       [ 0,  0,  0,  0,  2,  0,  0,  0,  0,  0,  0,  0,  0,  0,  0, 34,\n",
              "         0,  0,  1,  0],\n",
              "       [ 0,  0,  0,  0,  0,  0,  0,  0,  0,  0,  0,  0,  0,  0,  0,  0,\n",
              "        38,  0,  0,  0],\n",
              "       [ 0,  0,  0,  0,  0,  0,  0,  0,  0,  0,  0,  0,  0,  0,  0,  0,\n",
              "         0, 38,  0,  0],\n",
              "       [ 0,  0,  0,  0,  0,  0,  0,  0,  0,  1,  0,  0,  0,  0,  0,  0,\n",
              "         0,  2, 35,  0],\n",
              "       [ 0,  0,  0,  1,  0,  0,  0,  0,  0,  0,  0,  0,  0,  0,  0,  0,\n",
              "         0,  0,  0, 36]])"
            ]
          },
          "execution_count": 86,
          "metadata": {},
          "output_type": "execute_result"
        }
      ],
      "source": [
        "metrics.confusion_matrix(ytrue,lres)"
      ]
    },
    {
      "cell_type": "code",
      "execution_count": null,
      "metadata": {
        "colab": {
          "base_uri": "https://localhost:8080/"
        },
        "id": "kOIq3wJX06a0",
        "outputId": "7da2b103-6235-4f37-de55-de3da19b11a7"
      },
      "outputs": [
        {
          "data": {
            "text/plain": [
              "0.94"
            ]
          },
          "execution_count": 87,
          "metadata": {},
          "output_type": "execute_result"
        }
      ],
      "source": [
        "metrics.accuracy_score(ytrue,lres)"
      ]
    },
    {
      "cell_type": "code",
      "execution_count": null,
      "metadata": {
        "colab": {
          "base_uri": "https://localhost:8080/"
        },
        "id": "CUXqF62S08YI",
        "outputId": "0506f4d1-a0c6-4ef6-b0e7-3522292b639c"
      },
      "outputs": [
        {
          "data": {
            "text/plain": [
              "0.9418900787987835"
            ]
          },
          "execution_count": 88,
          "metadata": {},
          "output_type": "execute_result"
        }
      ],
      "source": [
        "metrics.precision_score(ytrue,lres,average='weighted')"
      ]
    },
    {
      "cell_type": "code",
      "execution_count": null,
      "metadata": {
        "colab": {
          "base_uri": "https://localhost:8080/"
        },
        "id": "INB_B6g009vJ",
        "outputId": "1f75e298-ecd3-4945-a197-a70f96fd65bd"
      },
      "outputs": [
        {
          "data": {
            "text/plain": [
              "0.94"
            ]
          },
          "execution_count": 89,
          "metadata": {},
          "output_type": "execute_result"
        }
      ],
      "source": [
        "metrics.recall_score(ytrue,lres,average='weighted')"
      ]
    },
    {
      "cell_type": "code",
      "execution_count": null,
      "metadata": {
        "colab": {
          "base_uri": "https://localhost:8080/"
        },
        "id": "bKfluJGN0_SF",
        "outputId": "686eaeae-8cca-460e-97e5-3a8151ef21a1"
      },
      "outputs": [
        {
          "data": {
            "text/plain": [
              "0.9398929339226318"
            ]
          },
          "execution_count": 90,
          "metadata": {},
          "output_type": "execute_result"
        }
      ],
      "source": [
        "metrics.f1_score(ytrue,lres,average='weighted')"
      ]
    },
    {
      "cell_type": "code",
      "execution_count": null,
      "metadata": {
        "id": "mMgC6Xy31AwT"
      },
      "outputs": [],
      "source": [
        "img = image_loader('./akita/106596984_fff2c7d32e_m.jpg')"
      ]
    },
    {
      "cell_type": "code",
      "execution_count": null,
      "metadata": {
        "id": "sG-NmtDU1CHR"
      },
      "outputs": [],
      "source": [
        "timg = transform(img).view(1,3,224,224).to(device)"
      ]
    },
    {
      "cell_type": "code",
      "execution_count": null,
      "metadata": {
        "colab": {
          "base_uri": "https://localhost:8080/"
        },
        "id": "89Ls_Vt01DdG",
        "outputId": "764544cd-8649-442c-90ff-5ccbee6716c0"
      },
      "outputs": [
        {
          "data": {
            "text/plain": [
              "torch.Size([1, 3, 224, 224])"
            ]
          },
          "execution_count": 93,
          "metadata": {},
          "output_type": "execute_result"
        }
      ],
      "source": [
        "timg.shape"
      ]
    },
    {
      "cell_type": "code",
      "execution_count": null,
      "metadata": {
        "id": "LLro5cRB1FWT"
      },
      "outputs": [],
      "source": [
        "pred = model3(timg)"
      ]
    },
    {
      "cell_type": "code",
      "execution_count": null,
      "metadata": {
        "colab": {
          "base_uri": "https://localhost:8080/"
        },
        "id": "Mta0v1sv1GrI",
        "outputId": "2ed76de2-82de-46ee-ae5f-9663a2dfe94a"
      },
      "outputs": [
        {
          "data": {
            "text/plain": [
              "tensor([[ 9.3842, -1.8626, -3.4481,  0.0823,  0.7532, -1.6928, -2.7446,  2.8022,\n",
              "         -0.6973, -0.7708, -1.7658,  4.4638, -0.6692,  0.5638,  0.1092, -0.1528,\n",
              "         -0.8216, -1.2200, -0.5751, -2.0292]], device='cuda:0',\n",
              "       grad_fn=<AddmmBackward0>)"
            ]
          },
          "execution_count": 95,
          "metadata": {},
          "output_type": "execute_result"
        }
      ],
      "source": [
        "pred"
      ]
    }
  ],
  "metadata": {
    "accelerator": "GPU",
    "colab": {
      "provenance": [],
      "include_colab_link": true
    },
    "gpuClass": "standard",
    "kernelspec": {
      "display_name": "Python 3",
      "name": "python3"
    },
    "language_info": {
      "name": "python"
    }
  },
  "nbformat": 4,
  "nbformat_minor": 0
}